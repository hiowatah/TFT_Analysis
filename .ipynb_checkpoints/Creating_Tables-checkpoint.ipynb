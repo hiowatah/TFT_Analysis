{
 "cells": [
  {
   "cell_type": "code",
   "execution_count": 1,
   "metadata": {},
   "outputs": [],
   "source": [
    "import sqlite3\n",
    "import pandas as pd\n",
    "import numpy as np\n",
    "from API_Key import key\n",
    "import requests"
   ]
  },
  {
   "cell_type": "code",
   "execution_count": 2,
   "metadata": {},
   "outputs": [],
   "source": [
    "conn = sqlite3.connect('summoner.db')"
   ]
  },
  {
   "cell_type": "code",
   "execution_count": 3,
   "metadata": {},
   "outputs": [
    {
     "ename": "OperationalError",
     "evalue": "table summoner already exists",
     "output_type": "error",
     "traceback": [
      "\u001b[0;31m---------------------------------------------------------------------------\u001b[0m",
      "\u001b[0;31mOperationalError\u001b[0m                          Traceback (most recent call last)",
      "\u001b[0;32m<ipython-input-3-d783d6036ea6>\u001b[0m in \u001b[0;36m<module>\u001b[0;34m\u001b[0m\n\u001b[1;32m     16\u001b[0m                 \u001b[0minactive\u001b[0m \u001b[0mBOOLEAN\u001b[0m\u001b[0;34m,\u001b[0m\u001b[0;34m\u001b[0m\u001b[0;34m\u001b[0m\u001b[0m\n\u001b[1;32m     17\u001b[0m                 \u001b[0mfreshBlood\u001b[0m \u001b[0mBOOLEAN\u001b[0m\u001b[0;34m,\u001b[0m\u001b[0;34m\u001b[0m\u001b[0;34m\u001b[0m\u001b[0m\n\u001b[0;32m---> 18\u001b[0;31m                 hotStreak BOOLEAN) ''')\n\u001b[0m\u001b[1;32m     19\u001b[0m \u001b[0;34m\u001b[0m\u001b[0m\n\u001b[1;32m     20\u001b[0m \u001b[0;31m# Insert a row of data\u001b[0m\u001b[0;34m\u001b[0m\u001b[0;34m\u001b[0m\u001b[0;34m\u001b[0m\u001b[0m\n",
      "\u001b[0;31mOperationalError\u001b[0m: table summoner already exists"
     ]
    }
   ],
   "source": [
    "c = conn.cursor()\n",
    "\n",
    "# Create table\n",
    "c.execute('''CREATE TABLE summoner(\n",
    "\n",
    "                leagueId TEXT,\n",
    "                queueType TEXT,\n",
    "                tier TEXT,\n",
    "                rank TEXT,\n",
    "                summonerId TEXT PRIMARY KEY,\n",
    "                summonerName TEXT,\n",
    "                leaguepoints INTEGER,\n",
    "                wins INTEGER,\n",
    "                losses INTEGER,\n",
    "                veteran BOOLEAN,\n",
    "                inactive BOOLEAN,\n",
    "                freshBlood BOOLEAN,\n",
    "                hotStreak BOOLEAN) ''')\n",
    "\n",
    "# Insert a row of data\n",
    "#c.execute(\"INSERT INTO stocks VALUES ('2006-01-05','BUY','RHAT',100,35.14)\")\n",
    "\n",
    "# Save (commit) the changes\n",
    "conn.commit()\n",
    "\n",
    "# We can also close the connection if we are done with it.\n",
    "# Just be sure any changes have been committed or they will be lost.\n",
    "conn.close()"
   ]
  },
  {
   "cell_type": "code",
   "execution_count": 4,
   "metadata": {},
   "outputs": [
    {
     "ename": "IndentationError",
     "evalue": "unexpected indent (<ipython-input-4-bb57a97b367a>, line 4)",
     "output_type": "error",
     "traceback": [
      "\u001b[0;36m  File \u001b[0;32m\"<ipython-input-4-bb57a97b367a>\"\u001b[0;36m, line \u001b[0;32m4\u001b[0m\n\u001b[0;31m    {user['queueType']},\u001b[0m\n\u001b[0m    ^\u001b[0m\n\u001b[0;31mIndentationError\u001b[0m\u001b[0;31m:\u001b[0m unexpected indent\n"
     ]
    }
   ],
   "source": [
    "{user['leagueId']},\n",
    "                                {user['queueType']},\n",
    "                                {user['tier']},\n",
    "                                {user['rank']},\n",
    "                                {user['summonerId']},\n",
    "                                {user['summonerName']},\n",
    "                                {user['leaguePoints']},\n",
    "                                {user['wins']},\n",
    "                                {user['losses']},\n",
    "                                {user['veteran']},\n",
    "                                {user['inactive']},\n",
    "                                {user['freshBlood']},\n",
    "                                {user['hotStreak']}\n",
    "                                \n",
    "                                \n",
    "                                c.execute(f'''\n",
    "                                INSERT INTO TABLE summoner (\n",
    "                                leagueID, queueType, tier, rank, summonerId,\n",
    "                                summonerName, leaguepoints, wins, losses, veteran,\n",
    "                                inactive, freshBlood, hotStreak\n",
    "                                )\n",
    "                                VALUES (?,?,?,?,?,?,?,?,?,?,?,?,?)''',user.values())\n"
   ]
  },
  {
   "cell_type": "code",
   "execution_count": 7,
   "metadata": {},
   "outputs": [],
   "source": [
    "def player_collector(key):\n",
    "    leagues = ['IRON', 'BRONZE', 'SILVER', 'GOLD', 'PLATINUM', 'DIAMOND']\n",
    "    divisions = ['I', 'II', 'III', 'IV']\n",
    "    summoner = []\n",
    "    for league in leagues:\n",
    "        for division in divisions:\n",
    "            response = requests.get(\n",
    "            \"https://na1.api.riotgames.com/tft/league/v1/entries/{}/{}?api_key={}\".format(league, division, key))\n",
    "            for user in response.json():\n",
    "                summoner.append(tuple(user.values()))\n",
    "    return summoner\n",
    "    #c.commit()\n",
    "    #c.close();"
   ]
  },
  {
   "cell_type": "code",
   "execution_count": 8,
   "metadata": {},
   "outputs": [],
   "source": [
    "players = player_collector(key)"
   ]
  },
  {
   "cell_type": "code",
   "execution_count": 9,
   "metadata": {},
   "outputs": [],
   "source": [
    "def update_table(data):\n",
    "    conn = sqlite3.connect('summoner.db')\n",
    "    c = conn.cursor()\n",
    "    c.executemany('INSERT INTO summoner VALUES (?,?,?,?,?,?,?,?,?,?,?,?,?)',data)\n",
    "    \n",
    "    conn.commit()\n",
    "    conn.close();"
   ]
  },
  {
   "cell_type": "code",
   "execution_count": 10,
   "metadata": {},
   "outputs": [],
   "source": [
    "update_table(players)"
   ]
  },
  {
   "cell_type": "code",
   "execution_count": null,
   "metadata": {},
   "outputs": [],
   "source": []
  },
  {
   "cell_type": "code",
   "execution_count": null,
   "metadata": {},
   "outputs": [],
   "source": []
  }
 ],
 "metadata": {
  "kernelspec": {
   "display_name": "Python 3",
   "language": "python",
   "name": "python3"
  },
  "language_info": {
   "codemirror_mode": {
    "name": "ipython",
    "version": 3
   },
   "file_extension": ".py",
   "mimetype": "text/x-python",
   "name": "python",
   "nbconvert_exporter": "python",
   "pygments_lexer": "ipython3",
   "version": "3.7.1"
  }
 },
 "nbformat": 4,
 "nbformat_minor": 2
}
