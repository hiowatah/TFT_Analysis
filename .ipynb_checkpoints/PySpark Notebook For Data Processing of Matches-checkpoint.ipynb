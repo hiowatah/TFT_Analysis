{
 "cells": [
  {
   "cell_type": "code",
   "execution_count": 1,
   "metadata": {},
   "outputs": [],
   "source": [
    "# Importing necessary libraries to extract the data properly from Postgres using PySpark\n",
    "import pandas as pd\n",
    "import numpy as np\n",
    "from API_Key import username, password\n",
    "import requests\n",
    "import time\n",
    "import psycopg2 as pg2\n",
    "import json\n",
    "from pandas.io.json import json_normalize\n",
    "import pyspark\n",
    "from pyspark.sql import SparkSession\n",
    "import pyspark.sql.functions as psf\n",
    "import pyspark.sql.types as pst\n",
    "from scipy.stats import pointbiserialr"
   ]
  },
  {
   "cell_type": "code",
   "execution_count": 2,
   "metadata": {},
   "outputs": [],
   "source": [
    "spark = SparkSession \\\n",
    "    .builder \\\n",
    "    .appName(\"TFT Analysis\") \\\n",
    "    .config(\"spark.jars\", \"/Users/hiowatah/downloads/postgresql-42.2.18.jar\") \\\n",
    "    .master(\"local[10]\") \\\n",
    "    .getOrCreate()"
   ]
  },
  {
   "cell_type": "code",
   "execution_count": 21,
   "metadata": {},
   "outputs": [],
   "source": [
    "df = spark.read \\\n",
    "    .format(\"jdbc\") \\\n",
    "    .option(\"url\", \"jdbc:postgresql://localhost:5432/TFT\") \\\n",
    "    .option(\"dbtable\", \"matches\") \\\n",
    "    .option(\"user\", username) \\\n",
    "    .option(\"password\", password) \\\n",
    "    .option(\"driver\", \"org.postgresql.Driver\") \\\n",
    "    .load()"
   ]
  },
  {
   "cell_type": "code",
   "execution_count": 22,
   "metadata": {},
   "outputs": [
    {
     "name": "stdout",
     "output_type": "stream",
     "text": [
      "root\n",
      " |-- match: string (nullable = true)\n",
      " |-- game_datetime: long (nullable = true)\n",
      " |-- game_length: double (nullable = true)\n",
      " |-- game_version: string (nullable = true)\n",
      " |-- gold_left: integer (nullable = true)\n",
      " |-- last_round: integer (nullable = true)\n",
      " |-- level: integer (nullable = true)\n",
      " |-- placement: integer (nullable = true)\n",
      " |-- puuid: string (nullable = true)\n",
      " |-- time_eliminated: double (nullable = true)\n",
      " |-- total_damage: integer (nullable = true)\n",
      " |-- traits: string (nullable = true)\n",
      " |-- units: string (nullable = true)\n",
      "\n"
     ]
    }
   ],
   "source": [
    "df.printSchema()"
   ]
  },
  {
   "cell_type": "markdown",
   "metadata": {},
   "source": [
    "## Need to make a UDF to parse through the json strings and create arrays to make data processing easier"
   ]
  },
  {
   "cell_type": "code",
   "execution_count": 6,
   "metadata": {},
   "outputs": [],
   "source": [
    "def jsonColParser(df, *cols, sanitize=True):\n",
    "    res = df\n",
    "    for i in cols:\n",
    "        if sanitize:\n",
    "            res = (\n",
    "                res.withColumn(\n",
    "                    i,\n",
    "                    psf.concat(psf.lit('{\"data\": '), i, psf.lit('}'))\n",
    "                )\n",
    "            )\n",
    "        schema = spark.read.json(res.rdd.map(lambda x: x[i])).schema\n",
    "        res = res.withColumn(i, psf.from_json(psf.col(i), schema))\n",
    "        \n",
    "        if sanitize:\n",
    "            res = res.withColumn(i, psf.col(i).data)\n",
    "            \n",
    "    return res"
   ]
  },
  {
   "cell_type": "code",
   "execution_count": 34,
   "metadata": {},
   "outputs": [],
   "source": [
    "df = jsonColParser(df, \"units\", \"traits\")"
   ]
  },
  {
   "cell_type": "code",
   "execution_count": 9,
   "metadata": {},
   "outputs": [
    {
     "data": {
      "text/plain": [
       "140816"
      ]
     },
     "execution_count": 9,
     "metadata": {},
     "output_type": "execute_result"
    }
   ],
   "source": [
    "df.count()"
   ]
  },
  {
   "cell_type": "code",
   "execution_count": 10,
   "metadata": {},
   "outputs": [
    {
     "data": {
      "text/plain": [
       "-0.7804422281556648"
      ]
     },
     "execution_count": 10,
     "metadata": {},
     "output_type": "execute_result"
    }
   ],
   "source": [
    "df.corr(\"placement\", \"total_damage\")"
   ]
  },
  {
   "cell_type": "code",
   "execution_count": 11,
   "metadata": {},
   "outputs": [],
   "source": [
    "df = df.where(\"game_version LIKE '%Version 11.2%'\")"
   ]
  },
  {
   "cell_type": "code",
   "execution_count": 12,
   "metadata": {},
   "outputs": [
    {
     "data": {
      "text/plain": [
       "52416"
      ]
     },
     "execution_count": 12,
     "metadata": {},
     "output_type": "execute_result"
    }
   ],
   "source": [
    "df.count()"
   ]
  },
  {
   "cell_type": "code",
   "execution_count": null,
   "metadata": {},
   "outputs": [],
   "source": []
  },
  {
   "cell_type": "code",
   "execution_count": 13,
   "metadata": {},
   "outputs": [],
   "source": [
    "df = df.withColumn(\"unit_names\", df.units.character_id)\\\n",
    "        .withColumn(\"units_tier\", df.units.tier)\\\n",
    "        .withColumn(\"chosen\", df.units.chosen)\\\n",
    "        .withColumn(\"items\", df.units.items)\\\n",
    "        .withColumn(\"trait_name\", df.traits['name'])\\\n",
    "        .withColumn(\"num_units_trait\", df.traits.num_units)\\\n",
    "        .withColumn(\"trait_tier\", df.traits.tier_current)\\\n",
    "        .withColumn(\"style\", df.traits.style)\\\n",
    "        .withColumn(\"trait_tier_total\", df.traits.tier_total)\\\n",
    "        .drop(\"units\", \"traits\")"
   ]
  },
  {
   "cell_type": "code",
   "execution_count": 14,
   "metadata": {},
   "outputs": [
    {
     "data": {
      "text/plain": [
       "52416"
      ]
     },
     "execution_count": 14,
     "metadata": {},
     "output_type": "execute_result"
    }
   ],
   "source": [
    "df.count()"
   ]
  },
  {
   "cell_type": "code",
   "execution_count": 17,
   "metadata": {},
   "outputs": [],
   "source": [
    "# df.toPandas().to_excel(\"matches.xlsx\")"
   ]
  },
  {
   "cell_type": "code",
   "execution_count": 20,
   "metadata": {},
   "outputs": [
    {
     "name": "stdout",
     "output_type": "stream",
     "text": [
      "+-----------+\n",
      "| Champion_1|\n",
      "+-----------+\n",
      "|TFT4_Maokai|\n",
      "|TFT4_Maokai|\n",
      "|TFT4_Maokai|\n",
      "|TFT4_Maokai|\n",
      "|TFT4_Maokai|\n",
      "|TFT4_Maokai|\n",
      "|TFT4_Maokai|\n",
      "|TFT4_Maokai|\n",
      "|TFT4_Maokai|\n",
      "|TFT4_Maokai|\n",
      "|TFT4_Maokai|\n",
      "|TFT4_Maokai|\n",
      "|TFT4_Maokai|\n",
      "|TFT4_Maokai|\n",
      "|TFT4_Maokai|\n",
      "|TFT4_Maokai|\n",
      "|TFT4_Maokai|\n",
      "|TFT4_Maokai|\n",
      "|TFT4_Maokai|\n",
      "|TFT4_Maokai|\n",
      "+-----------+\n",
      "only showing top 20 rows\n",
      "\n"
     ]
    }
   ],
   "source": [
    "df.select(\n",
    "    \"Champion_1\").where(\"Champion_1 LIKE 'TFT4_Maokai'\").show()"
   ]
  },
  {
   "cell_type": "code",
   "execution_count": 16,
   "metadata": {},
   "outputs": [],
   "source": [
    "df = df.withColumn(\"Champion_1\", df['unit_names'].getItem(0))\\\n",
    "    .withColumn(\"Champion_2\", df['unit_names'].getItem(1))\\\n",
    "    .withColumn(\"Champion_3\", df['unit_names'].getItem(2))\\\n",
    "    .withColumn(\"Champion_4\", df['unit_names'].getItem(3))\\\n",
    "    .withColumn(\"Champion_5\", df['unit_names'].getItem(4))\\\n",
    "    .withColumn(\"Champion_6\", df['unit_names'].getItem(5))\\\n",
    "    .withColumn(\"Champion_7\", df['unit_names'].getItem(6))\\\n",
    "    .withColumn(\"Champion_8\", df['unit_names'].getItem(7))\\\n",
    "    .withColumn(\"Champion_9\", df['unit_names'].getItem(8))\\\n",
    "    .withColumn(\"Champion_10\", df['unit_names'].getItem(9))\\\n",
    "    .withColumn(\"Champion_1_tier\", df['units_tier'].getItem(0))\\\n",
    "    .withColumn(\"Champion_2_tier\", df['units_tier'].getItem(1))\\\n",
    "    .withColumn(\"Champion_3_tier\", df['units_tier'].getItem(2))\\\n",
    "    .withColumn(\"Champion_4_tier\", df['units_tier'].getItem(3))\\\n",
    "    .withColumn(\"Champion_5_tier\", df['units_tier'].getItem(4))\\\n",
    "    .withColumn(\"Champion_6_tier\", df['units_tier'].getItem(5))\\\n",
    "    .withColumn(\"Champion_7_tier\", df['units_tier'].getItem(6))\\\n",
    "    .withColumn(\"Champion_8_tier\", df['units_tier'].getItem(7))\\\n",
    "    .withColumn(\"Champion_9_tier\", df['units_tier'].getItem(8))\\\n",
    "    .withColumn(\"Champion_10_tier\", df['units_tier'].getItem(9))\\\n",
    "    .withColumn(\"Champion_1_chosen\", df['chosen'].getItem(0))\\\n",
    "    .withColumn(\"Champion_2_chosen\", df['chosen'].getItem(1))\\\n",
    "    .withColumn(\"Champion_3_chosen\", df['chosen'].getItem(2))\\\n",
    "    .withColumn(\"Champion_4_chosen\", df['chosen'].getItem(3))\\\n",
    "    .withColumn(\"Champion_5_chosen\", df['chosen'].getItem(4))\\\n",
    "    .withColumn(\"Champion_6_chosen\", df['chosen'].getItem(5))\\\n",
    "    .withColumn(\"Champion_7_chosen\", df['chosen'].getItem(6))\\\n",
    "    .withColumn(\"Champion_8_chosen\", df['chosen'].getItem(7))\\\n",
    "    .withColumn(\"Champion_9_chosen\", df['chosen'].getItem(8))\\\n",
    "    .withColumn(\"Champion_10_chosen\", df['chosen'].getItem(9))\\\n",
    "    .withColumn(\"Champion_1_items\", df['items'].getItem(0))\\\n",
    "    .withColumn(\"Champion_2_items\", df['items'].getItem(1))\\\n",
    "    .withColumn(\"Champion_3_items\", df['items'].getItem(2))\\\n",
    "    .withColumn(\"Champion_4_items\", df['items'].getItem(3))\\\n",
    "    .withColumn(\"Champion_5_items\", df['items'].getItem(4))\\\n",
    "    .withColumn(\"Champion_6_items\", df['items'].getItem(5))\\\n",
    "    .withColumn(\"Champion_7_items\", df['items'].getItem(6))\\\n",
    "    .withColumn(\"Champion_8_items\", df['items'].getItem(7))\\\n",
    "    .withColumn(\"Champion_9_items\", df['items'].getItem(8))\\\n",
    "    .withColumn(\"Champion_10_items\", df['items'].getItem(9))\\\n",
    "    .drop(\"unit_names\", \"units_tier\", \"chosen\", \"items\")\n",
    "    \n"
   ]
  },
  {
   "cell_type": "code",
   "execution_count": 34,
   "metadata": {},
   "outputs": [
    {
     "name": "stdout",
     "output_type": "stream",
     "text": [
      "+--------------+-------------+----------------+--------------------+---------+----------+-----+---------+--------------------+------------------+------------+--------------------+--------------------+--------------------+--------------------+--------------------+--------------------+--------------------+--------------------+--------------------+----+\n",
      "|         match|game_datetime|     game_length|        game_version|gold_left|last_round|level|placement|               puuid|   time_eliminated|total_damage|          unit_names|          units_tier|              chosen|               items|          trait_name|     num_units_trait|          trait_tier|               style|    trait_tier_total|gold|\n",
      "+--------------+-------------+----------------+--------------------+---------+----------+-----+---------+--------------------+------------------+------------+--------------------+--------------------+--------------------+--------------------+--------------------+--------------------+--------------------+--------------------+--------------------+----+\n",
      "|NA1_3756108422|1611419655400|2190.53466796875|Version 11.2.353....|        1|        34|    8|        4|ZTAnvwo5xSwnsNseg...|1918.7403564453125|         113|[TFT4_Maokai, TFT...|[2, 2, 3, 2, 1, 1...|[,, Set4_Elderwoo...|[[], [], [], [7, ...|[Boss, Keeper, Se...|[1, 1, 4, 1, 6, 2...|[1, 0, 2, 0, 2, 0...|[3, 0, 2, 0, 3, 0...|[1, 3, 4, 3, 3, 3...|true|\n",
      "+--------------+-------------+----------------+--------------------+---------+----------+-----+---------+--------------------+------------------+------------+--------------------+--------------------+--------------------+--------------------+--------------------+--------------------+--------------------+--------------------+--------------------+----+\n",
      "only showing top 1 row\n",
      "\n"
     ]
    }
   ],
   "source": [
    "df.select(\"*\").withColumn(\"gold\", psf.array_contains(psf.col('style'), 2)).where(\"gold = 'true'\").show(1)"
   ]
  },
  {
   "cell_type": "code",
   "execution_count": 27,
   "metadata": {},
   "outputs": [
    {
     "name": "stdout",
     "output_type": "stream",
     "text": [
      "root\n",
      " |-- match: string (nullable = true)\n",
      " |-- game_datetime: long (nullable = true)\n",
      " |-- game_length: double (nullable = true)\n",
      " |-- game_version: string (nullable = true)\n",
      " |-- gold_left: integer (nullable = true)\n",
      " |-- last_round: integer (nullable = true)\n",
      " |-- level: integer (nullable = true)\n",
      " |-- placement: integer (nullable = true)\n",
      " |-- puuid: string (nullable = true)\n",
      " |-- time_eliminated: double (nullable = true)\n",
      " |-- total_damage: integer (nullable = true)\n",
      " |-- unit_names: array (nullable = true)\n",
      " |    |-- element: string (containsNull = true)\n",
      " |-- units_tier: array (nullable = true)\n",
      " |    |-- element: long (containsNull = true)\n",
      " |-- chosen: array (nullable = true)\n",
      " |    |-- element: string (containsNull = true)\n",
      " |-- items: array (nullable = true)\n",
      " |    |-- element: array (containsNull = true)\n",
      " |    |    |-- element: long (containsNull = true)\n",
      " |-- trait_name: array (nullable = true)\n",
      " |    |-- element: string (containsNull = true)\n",
      " |-- num_units_trait: array (nullable = true)\n",
      " |    |-- element: long (containsNull = true)\n",
      " |-- trait_tier: array (nullable = true)\n",
      " |    |-- element: long (containsNull = true)\n",
      " |-- style: array (nullable = true)\n",
      " |    |-- element: long (containsNull = true)\n",
      " |-- trait_tier_total: array (nullable = true)\n",
      " |    |-- element: long (containsNull = true)\n",
      "\n"
     ]
    }
   ],
   "source": [
    "df.printSchema()"
   ]
  },
  {
   "cell_type": "code",
   "execution_count": null,
   "metadata": {},
   "outputs": [],
   "source": []
  }
 ],
 "metadata": {
  "kernelspec": {
   "display_name": "Python 3",
   "language": "python",
   "name": "python3"
  },
  "language_info": {
   "codemirror_mode": {
    "name": "ipython",
    "version": 3
   },
   "file_extension": ".py",
   "mimetype": "text/x-python",
   "name": "python",
   "nbconvert_exporter": "python",
   "pygments_lexer": "ipython3",
   "version": "3.7.1"
  }
 },
 "nbformat": 4,
 "nbformat_minor": 2
}
