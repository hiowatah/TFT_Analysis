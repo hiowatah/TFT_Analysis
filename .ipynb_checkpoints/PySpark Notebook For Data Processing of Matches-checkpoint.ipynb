{
 "cells": [
  {
   "cell_type": "code",
   "execution_count": 28,
   "metadata": {},
   "outputs": [],
   "source": [
    "# Importing necessary libraries to extract the data properly from Postgres using PySpark\n",
    "import pandas as pd\n",
    "import numpy as np\n",
    "from API_Key import username, password\n",
    "import requests\n",
    "import time\n",
    "import psycopg2 as pg2\n",
    "import json\n",
    "from pandas.io.json import json_normalize\n",
    "import pyspark\n",
    "from pyspark.sql import SparkSession\n",
    "import pyspark.sql.functions as psf"
   ]
  },
  {
   "cell_type": "code",
   "execution_count": 2,
   "metadata": {},
   "outputs": [],
   "source": [
    "spark = SparkSession \\\n",
    "    .builder \\\n",
    "    .appName(\"TFT Analysis\") \\\n",
    "    .config(\"spark.jars\", \"/Users/hiowatah/downloads/postgresql-42.2.18.jar\") \\\n",
    "    .getOrCreate()"
   ]
  },
  {
   "cell_type": "code",
   "execution_count": 3,
   "metadata": {},
   "outputs": [],
   "source": [
    "df = spark.read \\\n",
    "    .format(\"jdbc\") \\\n",
    "    .option(\"url\", \"jdbc:postgresql://localhost:5432/TFT\") \\\n",
    "    .option(\"dbtable\", \"matches\") \\\n",
    "    .option(\"user\", username) \\\n",
    "    .option(\"password\", password) \\\n",
    "    .option(\"driver\", \"org.postgresql.Driver\") \\\n",
    "    .load()"
   ]
  },
  {
   "cell_type": "code",
   "execution_count": 4,
   "metadata": {},
   "outputs": [
    {
     "data": {
      "text/plain": [
       "StructType(List(StructField(match,StringType,true),StructField(game_datetime,LongType,true),StructField(game_length,DoubleType,true),StructField(game_version,StringType,true),StructField(gold_left,IntegerType,true),StructField(last_round,IntegerType,true),StructField(level,IntegerType,true),StructField(placement,IntegerType,true),StructField(puuid,StringType,true),StructField(time_eliminated,DoubleType,true),StructField(total_damage,IntegerType,true),StructField(traits,StringType,true),StructField(units,StringType,true)))"
      ]
     },
     "execution_count": 4,
     "metadata": {},
     "output_type": "execute_result"
    }
   ],
   "source": [
    "df.schema"
   ]
  },
  {
   "cell_type": "code",
   "execution_count": 12,
   "metadata": {},
   "outputs": [
    {
     "name": "stdout",
     "output_type": "stream",
     "text": [
      "-RECORD 0----------------------------------------------------------------------------------------------------------------------------------------------------------------------------------------------------------------------------------------------------------------------------------------------------------------------------------------------------------------------------------------------------------------------------------------------------------------------------------------------------------------------------------------------------------------------------------------------------------------------------------------------------------------------------------------\n",
      " units  | [{\"items\": [], \"name\": \"Katarina\", \"tier\": 2}, {\"items\": [], \"name\": \"Swain\", \"tier\": 2}, {\"items\": [], \"name\": \"Mordekaiser\", \"tier\": 3}, {\"items\": [], \"name\": \"Draven\", \"tier\": 2}, {\"items\": [], \"name\": \"Poppy\", \"tier\": 3}, {\"items\": [], \"name\": \"Darius\", \"tier\": 3}, {\"items\": [], \"name\": \"Garen\", \"tier\": 3}]                                                                                                                                                                                                                                                                                                                                                               \n",
      " traits | [{\"name\": \"Assassin\", \"num_units\": 1, \"tier_current\": 0, \"tier_total\": 3}, {\"name\": \"Blademaster\", \"num_units\": 1, \"tier_current\": 0, \"tier_total\": 3}, {\"name\": \"Demon\", \"num_units\": 1, \"tier_current\": 0, \"tier_total\": 3}, {\"name\": \"Imperial\", \"num_units\": 4, \"tier_current\": 2, \"tier_total\": 2}, {\"name\": \"Knight\", \"num_units\": 6, \"tier_current\": 3, \"tier_total\": 3}, {\"name\": \"Noble\", \"num_units\": 1, \"tier_current\": 0, \"tier_total\": 2}, {\"name\": \"Phantom\", \"num_units\": 1, \"tier_current\": 0, \"tier_total\": 1}, {\"name\": \"Shapeshifter\", \"num_units\": 1, \"tier_current\": 0, \"tier_total\": 2}, {\"name\": \"Yordle\", \"num_units\": 1, \"tier_current\": 0, \"tier_total\": 3}] \n",
      "only showing top 1 row\n",
      "\n"
     ]
    }
   ],
   "source": [
    "df.select(\"units\", \"traits\").show(1, truncate = False, vertical=True)"
   ]
  },
  {
   "cell_type": "markdown",
   "metadata": {},
   "source": [
    "# In order to analyze the games played on the latest version, I need to filter the game_version column"
   ]
  },
  {
   "cell_type": "code",
   "execution_count": 14,
   "metadata": {},
   "outputs": [
    {
     "data": {
      "text/plain": [
       "DataFrame[match: string, game_datetime: bigint, game_length: double, game_version: string, gold_left: int, last_round: int, level: int, placement: int, puuid: string, time_eliminated: double, total_damage: int, traits: string, units: string]"
      ]
     },
     "execution_count": 14,
     "metadata": {},
     "output_type": "execute_result"
    }
   ],
   "source": [
    "df.where(\"game_version LIKE '%Version 11%'\")"
   ]
  },
  {
   "cell_type": "code",
   "execution_count": 29,
   "metadata": {},
   "outputs": [],
   "source": [
    "def jsonColParser(df, *cols, sanitize=True):\n",
    "    res = df\n",
    "    for i in cols:\n",
    "        if sanitize:\n",
    "            res = (\n",
    "                res.withColumn(\n",
    "                    i,\n",
    "                    psf.concat(psf.lit('{\"data\": '), i, psf.lit('}'))\n",
    "                )\n",
    "            )\n",
    "        schema = spark.read.json(res.rdd.map(lambda x: x[i])).schema\n",
    "        res = res.withColumn(i, psf.from_json(psf.col(i), schema))\n",
    "        \n",
    "        if sanitize:\n",
    "            res = res.withColumn(i, psf.col(i).data)\n",
    "            \n",
    "    return res"
   ]
  },
  {
   "cell_type": "code",
   "execution_count": 30,
   "metadata": {},
   "outputs": [],
   "source": [
    "test = jsonColParser(df, \"units\", \"traits\")"
   ]
  },
  {
   "cell_type": "code",
   "execution_count": 32,
   "metadata": {},
   "outputs": [
    {
     "data": {
      "text/plain": [
       "StructType(List(StructField(match,StringType,true),StructField(game_datetime,LongType,true),StructField(game_length,DoubleType,true),StructField(game_version,StringType,true),StructField(gold_left,IntegerType,true),StructField(last_round,IntegerType,true),StructField(level,IntegerType,true),StructField(placement,IntegerType,true),StructField(puuid,StringType,true),StructField(time_eliminated,DoubleType,true),StructField(total_damage,IntegerType,true),StructField(traits,ArrayType(StructType(List(StructField(name,StringType,true),StructField(num_units,LongType,true),StructField(style,LongType,true),StructField(tier_current,LongType,true),StructField(tier_total,LongType,true))),true),true),StructField(units,ArrayType(StructType(List(StructField(character_id,StringType,true),StructField(chosen,StringType,true),StructField(items,ArrayType(LongType,true),true),StructField(name,StringType,true),StructField(rarity,LongType,true),StructField(tier,LongType,true))),true),true)))"
      ]
     },
     "execution_count": 32,
     "metadata": {},
     "output_type": "execute_result"
    }
   ],
   "source": [
    "test.schema"
   ]
  },
  {
   "cell_type": "code",
   "execution_count": null,
   "metadata": {},
   "outputs": [],
   "source": []
  },
  {
   "cell_type": "code",
   "execution_count": 35,
   "metadata": {},
   "outputs": [
    {
     "name": "stdout",
     "output_type": "stream",
     "text": [
      "-RECORD 0----------------------------------------------------------------------------------------------------------------------------------------------------------------------------------------------------\n",
      " units  | [[,, [], Katarina,, 2], [,, [], Swain,, 2], [,, [], Mordekaiser,, 3], [,, [], Draven,, 2], [,, [], Poppy,, 3], [,, [], Darius,, 3], [,, [], Garen,, 3]]                                            \n",
      " traits | [[Assassin, 1,, 0, 3], [Blademaster, 1,, 0, 3], [Demon, 1,, 0, 3], [Imperial, 4,, 2, 2], [Knight, 6,, 3, 3], [Noble, 1,, 0, 2], [Phantom, 1,, 0, 1], [Shapeshifter, 1,, 0, 2], [Yordle, 1,, 0, 3]] \n",
      "only showing top 1 row\n",
      "\n"
     ]
    }
   ],
   "source": [
    "test.select(\"units\", \"traits\").show(1, truncate = False, vertical=True)"
   ]
  },
  {
   "cell_type": "code",
   "execution_count": null,
   "metadata": {},
   "outputs": [],
   "source": []
  }
 ],
 "metadata": {
  "kernelspec": {
   "display_name": "Python 3",
   "language": "python",
   "name": "python3"
  },
  "language_info": {
   "codemirror_mode": {
    "name": "ipython",
    "version": 3
   },
   "file_extension": ".py",
   "mimetype": "text/x-python",
   "name": "python",
   "nbconvert_exporter": "python",
   "pygments_lexer": "ipython3",
   "version": "3.7.1"
  }
 },
 "nbformat": 4,
 "nbformat_minor": 2
}
