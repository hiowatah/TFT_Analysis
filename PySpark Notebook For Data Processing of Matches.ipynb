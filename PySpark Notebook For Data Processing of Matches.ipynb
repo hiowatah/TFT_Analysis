{
 "cells": [
  {
   "cell_type": "code",
   "execution_count": 1,
   "metadata": {},
   "outputs": [],
   "source": [
    "# Importing necessary libraries to extract the data properly from Postgres using PySpark\n",
    "import pandas as pd\n",
    "import numpy as np\n",
    "import matplotlib as plt\n",
    "import seaborn as sns\n",
    "from API_Key import username, password\n",
    "import requests\n",
    "import time\n",
    "import psycopg2 as pg2\n",
    "import json\n",
    "from pandas.io.json import json_normalize\n",
    "import pyspark\n",
    "from pyspark.sql import SparkSession\n",
    "import pyspark.sql.functions as psf\n",
    "import pyspark.sql.types as pst\n",
    "from scipy.stats import pointbiserialr"
   ]
  },
  {
   "cell_type": "code",
   "execution_count": 2,
   "metadata": {},
   "outputs": [],
   "source": [
    "spark = SparkSession \\\n",
    "    .builder \\\n",
    "    .appName(\"TFT Analysis\") \\\n",
    "    .config(\"spark.jars\", \"/Users/hiowatah/downloads/postgresql-42.2.18.jar\") \\\n",
    "    .master(\"local[10]\") \\\n",
    "    .getOrCreate()"
   ]
  },
  {
   "cell_type": "code",
   "execution_count": 3,
   "metadata": {},
   "outputs": [],
   "source": [
    "df = spark.read \\\n",
    "    .format(\"jdbc\") \\\n",
    "    .option(\"url\", \"jdbc:postgresql://localhost:5432/TFT\") \\\n",
    "    .option(\"dbtable\", \"matches\") \\\n",
    "    .option(\"user\", username) \\\n",
    "    .option(\"password\", password) \\\n",
    "    .option(\"driver\", \"org.postgresql.Driver\") \\\n",
    "    .load()"
   ]
  },
  {
   "cell_type": "code",
   "execution_count": 4,
   "metadata": {},
   "outputs": [
    {
     "name": "stdout",
     "output_type": "stream",
     "text": [
      "root\n",
      " |-- match: string (nullable = true)\n",
      " |-- game_datetime: long (nullable = true)\n",
      " |-- game_length: double (nullable = true)\n",
      " |-- game_version: string (nullable = true)\n",
      " |-- gold_left: integer (nullable = true)\n",
      " |-- last_round: integer (nullable = true)\n",
      " |-- level: integer (nullable = true)\n",
      " |-- placement: integer (nullable = true)\n",
      " |-- puuid: string (nullable = true)\n",
      " |-- time_eliminated: double (nullable = true)\n",
      " |-- total_damage: integer (nullable = true)\n",
      " |-- traits: string (nullable = true)\n",
      " |-- units: string (nullable = true)\n",
      "\n"
     ]
    }
   ],
   "source": [
    "df.printSchema()"
   ]
  },
  {
   "cell_type": "code",
   "execution_count": 9,
   "metadata": {},
   "outputs": [
    {
     "ename": "TypeError",
     "evalue": "'Column' object is not callable",
     "output_type": "error",
     "traceback": [
      "\u001b[0;31m---------------------------------------------------------------------------\u001b[0m",
      "\u001b[0;31mTypeError\u001b[0m                                 Traceback (most recent call last)",
      "\u001b[0;32m<ipython-input-9-0b8039bd7153>\u001b[0m in \u001b[0;36m<module>\u001b[0;34m\u001b[0m\n\u001b[0;32m----> 1\u001b[0;31m \u001b[0mdf\u001b[0m\u001b[0;34m.\u001b[0m\u001b[0munits\u001b[0m\u001b[0;34m.\u001b[0m\u001b[0mshow\u001b[0m\u001b[0;34m(\u001b[0m\u001b[0;34m)\u001b[0m\u001b[0;34m\u001b[0m\u001b[0;34m\u001b[0m\u001b[0m\n\u001b[0m",
      "\u001b[0;31mTypeError\u001b[0m: 'Column' object is not callable"
     ]
    }
   ],
   "source": [
    "df.units."
   ]
  },
  {
   "cell_type": "markdown",
   "metadata": {},
   "source": [
    "## Need to make a UDF to parse through the json strings and create arrays to make data processing easier"
   ]
  },
  {
   "cell_type": "code",
   "execution_count": 6,
   "metadata": {},
   "outputs": [],
   "source": [
    "def jsonColParser(df, *cols, sanitize=True):\n",
    "    res = df\n",
    "    for i in cols:\n",
    "        if sanitize:\n",
    "            res = (\n",
    "                res.withColumn(\n",
    "                    i,\n",
    "                    psf.concat(psf.lit('{\"data\": '), i, psf.lit('}'))\n",
    "                )\n",
    "            )\n",
    "        schema = spark.read.json(res.rdd.map(lambda x: x[i])).schema\n",
    "        res = res.withColumn(i, psf.from_json(psf.col(i), schema))\n",
    "        \n",
    "        if sanitize:\n",
    "            res = res.withColumn(i, psf.col(i).data)\n",
    "            \n",
    "    return res"
   ]
  },
  {
   "cell_type": "code",
   "execution_count": 7,
   "metadata": {},
   "outputs": [],
   "source": [
    "df = jsonColParser(df, \"units\", \"traits\")"
   ]
  },
  {
   "cell_type": "code",
   "execution_count": 8,
   "metadata": {},
   "outputs": [],
   "source": [
    "df = df.where(\"game_version LIKE '%Version 11.2%'\")"
   ]
  },
  {
   "cell_type": "code",
   "execution_count": 9,
   "metadata": {},
   "outputs": [
    {
     "data": {
      "text/plain": [
       "52416"
      ]
     },
     "execution_count": 9,
     "metadata": {},
     "output_type": "execute_result"
    }
   ],
   "source": [
    "df.count()"
   ]
  },
  {
   "cell_type": "code",
   "execution_count": 10,
   "metadata": {},
   "outputs": [
    {
     "name": "stdout",
     "output_type": "stream",
     "text": [
      "+--------------------------------------------------------------------------------------------------------+\n",
      "|units.character_id                                                                                      |\n",
      "+--------------------------------------------------------------------------------------------------------+\n",
      "|[TFT4_Wukong, TFT4_Nasus, TFT4_Jax, TFT4_Irelia, TFT4_Sejuani, TFT4_Kayle, TFT4_Xayah]                  |\n",
      "|[TFT4_Maokai, TFT4_Rakan, TFT4_Lulu, TFT4_Nunu, TFT4_Yuumi, TFT4_Shyvana, TFT4_Veigar, TFT4_Sett]       |\n",
      "|[TFT4_Braum, TFT4_Teemo, TFT4_Yuumi, TFT4_Sivir, TFT4_Aatrox, TFT4_Sejuani, TFT4_Samira]                |\n",
      "|[TFT4_Braum, TFT4_Nautilus, TFT4_Yuumi, TFT4_Katarina, TFT4_Neeko, TFT4_Darius, TFT4_Sejuani, TFT4_Olaf]|\n",
      "|[TFT4b_Diana, TFT4b_Zed, TFT4_Pyke, TFT4_Akali, TFT4_Kennen, TFT4_Katarina, TFT4_Shen, TFT4_Talon]      |\n",
      "+--------------------------------------------------------------------------------------------------------+\n",
      "only showing top 5 rows\n",
      "\n"
     ]
    }
   ],
   "source": [
    "df.select(df.units.character_id).show(5, truncate=False)"
   ]
  },
  {
   "cell_type": "code",
   "execution_count": null,
   "metadata": {},
   "outputs": [],
   "source": []
  },
  {
   "cell_type": "code",
   "execution_count": 11,
   "metadata": {},
   "outputs": [],
   "source": [
    "df = df.withColumn(\"unit_names\", df.units.character_id)\\\n",
    "        .withColumn(\"units_tier\", df.units.tier)\\\n",
    "        .withColumn(\"chosen\", df.units.chosen)\\\n",
    "        .withColumn(\"items\", df.units.items)\\\n",
    "        .withColumn(\"trait_name\", df.traits['name'])\\\n",
    "        .withColumn(\"num_units_trait\", df.traits.num_units)\\\n",
    "        .withColumn(\"trait_tier\", df.traits.tier_current)\\\n",
    "        .withColumn(\"style\", df.traits.style)\\\n",
    "        .withColumn(\"trait_tier_total\", df.traits.tier_total)\\\n",
    "        .drop(\"units\", \"traits\")"
   ]
  },
  {
   "cell_type": "code",
   "execution_count": 12,
   "metadata": {},
   "outputs": [
    {
     "data": {
      "text/plain": [
       "52416"
      ]
     },
     "execution_count": 12,
     "metadata": {},
     "output_type": "execute_result"
    }
   ],
   "source": [
    "df.count()"
   ]
  },
  {
   "cell_type": "code",
   "execution_count": 13,
   "metadata": {},
   "outputs": [
    {
     "name": "stdout",
     "output_type": "stream",
     "text": [
      "+------------------------------------------------------------------------------------------------------------+-----+\n",
      "|unit_names                                                                                                  |count|\n",
      "+------------------------------------------------------------------------------------------------------------+-----+\n",
      "|[TFT4b_Diana, TFT4_Teemo, TFT4_Pyke, TFT4_Akali, TFT4_Yuumi, TFT4b_Kindred, TFT4_Katarina, TFT4_Talon]      |115  |\n",
      "|[TFT4_Elise, TFT4_TwistedFate, TFT4_Pyke, TFT4_Vladimir, TFT4_Kalista, TFT4_Sivir, TFT4_Aatrox, TFT4_Zilean]|84   |\n",
      "|[TFT4_Maokai, TFT4_Rakan, TFT4_Lulu, TFT4_Nunu, TFT4_Veigar, TFT4_Xayah, TFT4_AurelionSol, TFT4_Ornn]       |67   |\n",
      "|[TFT4_Maokai, TFT4_TahmKench, TFT4_Vi, TFT4_Nunu, TFT4_Shyvana, TFT4_ChoGath, TFT4_Sett, TFT4_Ornn]         |59   |\n",
      "|[TFT4_Rakan, TFT4_Lulu, TFT4_Nunu, TFT4_Veigar, TFT4_Aatrox, TFT4_Xayah, TFT4_AurelionSol, TFT4_Ornn]       |59   |\n",
      "+------------------------------------------------------------------------------------------------------------+-----+\n",
      "only showing top 5 rows\n",
      "\n"
     ]
    }
   ],
   "source": [
    "df.where(\"placement >= 4\").groupBy(\"unit_names\").count().orderBy(\"count\", ascending=False).show(5, truncate = False)"
   ]
  },
  {
   "cell_type": "code",
   "execution_count": 14,
   "metadata": {},
   "outputs": [
    {
     "name": "stdout",
     "output_type": "stream",
     "text": [
      "root\n",
      " |-- match: string (nullable = true)\n",
      " |-- game_datetime: long (nullable = true)\n",
      " |-- game_length: double (nullable = true)\n",
      " |-- game_version: string (nullable = true)\n",
      " |-- gold_left: integer (nullable = true)\n",
      " |-- last_round: integer (nullable = true)\n",
      " |-- level: integer (nullable = true)\n",
      " |-- placement: integer (nullable = true)\n",
      " |-- puuid: string (nullable = true)\n",
      " |-- time_eliminated: double (nullable = true)\n",
      " |-- total_damage: integer (nullable = true)\n",
      " |-- unit_names: array (nullable = true)\n",
      " |    |-- element: string (containsNull = true)\n",
      " |-- units_tier: array (nullable = true)\n",
      " |    |-- element: long (containsNull = true)\n",
      " |-- chosen: array (nullable = true)\n",
      " |    |-- element: string (containsNull = true)\n",
      " |-- items: array (nullable = true)\n",
      " |    |-- element: array (containsNull = true)\n",
      " |    |    |-- element: long (containsNull = true)\n",
      " |-- trait_name: array (nullable = true)\n",
      " |    |-- element: string (containsNull = true)\n",
      " |-- num_units_trait: array (nullable = true)\n",
      " |    |-- element: long (containsNull = true)\n",
      " |-- trait_tier: array (nullable = true)\n",
      " |    |-- element: long (containsNull = true)\n",
      " |-- style: array (nullable = true)\n",
      " |    |-- element: long (containsNull = true)\n",
      " |-- trait_tier_total: array (nullable = true)\n",
      " |    |-- element: long (containsNull = true)\n",
      "\n"
     ]
    }
   ],
   "source": [
    "df.printSchema()"
   ]
  },
  {
   "cell_type": "code",
   "execution_count": 15,
   "metadata": {},
   "outputs": [],
   "source": [
    "df2 = df.toPandas()"
   ]
  },
  {
   "cell_type": "code",
   "execution_count": 16,
   "metadata": {},
   "outputs": [
    {
     "data": {
      "text/plain": [
       "-0.8998128651976676"
      ]
     },
     "execution_count": 16,
     "metadata": {},
     "output_type": "execute_result"
    }
   ],
   "source": [
    "df2.placement.corr(df2.total_damage)"
   ]
  },
  {
   "cell_type": "code",
   "execution_count": 26,
   "metadata": {},
   "outputs": [
    {
     "data": {
      "text/plain": [
       "<matplotlib.axes._subplots.AxesSubplot at 0x7fae895c3400>"
      ]
     },
     "execution_count": 26,
     "metadata": {},
     "output_type": "execute_result"
    },
    {
     "data": {
      "image/png": "[encoded data removed]",
      "text/plain": [
       "<Figure size 432x288 with 1 Axes>"
      ]
     },
     "metadata": {
      "needs_background": "light"
     },
     "output_type": "display_data"
    }
   ],
   "source": [
    "df2.groupby(\"placement\").mean()['total_damage'].plot(kind='bar')\n",
    "sns."
   ]
  },
  {
   "cell_type": "code",
   "execution_count": 29,
   "metadata": {},
   "outputs": [
    {
     "data": {
      "text/plain": [
       "0        [TFT4_Wukong, TFT4_Nasus, TFT4_Jax, TFT4_Ireli...\n",
       "1        [TFT4_Maokai, TFT4_Rakan, TFT4_Lulu, TFT4_Nunu...\n",
       "2        [TFT4_Braum, TFT4_Teemo, TFT4_Yuumi, TFT4_Sivi...\n",
       "3        [TFT4_Braum, TFT4_Nautilus, TFT4_Yuumi, TFT4_K...\n",
       "4        [TFT4b_Diana, TFT4b_Zed, TFT4_Pyke, TFT4_Akali...\n",
       "5        [TFT4_Tristana, TFT4_Brand, TFT4_Braum, TFT4_S...\n",
       "6        [TFT4_Yasuo, TFT4_Fiora, TFT4_Jax, TFT4_Irelia...\n",
       "7        [TFT4_Elise, TFT4_TwistedFate, TFT4_Pyke, TFT4...\n",
       "8        [TFT4b_Diana, TFT4_Nautilus, TFT4_Pyke, TFT4_A...\n",
       "9        [TFT4_Wukong, TFT4_Janna, TFT4_Yuumi, TFT4_Nee...\n",
       "10       [TFT4_Braum, TFT4_Nautilus, TFT4_Janna, TFT4_N...\n",
       "11       [TFT4_Maokai, TFT4_TahmKench, TFT4_Rakan, TFT4...\n",
       "12       [TFT4_Maokai, TFT4_TahmKench, TFT4_Annie, TFT4...\n",
       "13       [TFT4_Brand, TFT4_Braum, TFT4_Annie, TFT4_Lulu...\n",
       "14       [TFT4_Rakan, TFT4_Jax, TFT4_Irelia, TFT4b_Kind...\n",
       "15       [TFT4_Rakan, TFT4_Lulu, TFT4_Nunu, TFT4_Veigar...\n",
       "16       [TFT4b_Diana, TFT4_Janna, TFT4_Pyke, TFT4_Akal...\n",
       "17       [TFT4_Nidalee, TFT4_Tristana, TFT4_Braum, TFT4...\n",
       "18       [TFT4_Nidalee, TFT4_Garen, TFT4_Nautilus, TFT4...\n",
       "19       [TFT4_Nidalee, TFT4_Tristana, TFT4_Tristana, T...\n",
       "20       [TFT4_Braum, TFT4b_Zed, TFT4_Annie, TFT4_Dariu...\n",
       "21       [TFT4_Nidalee, TFT4_Rakan, TFT4_JarvanIV, TFT4...\n",
       "22       [TFT4_Braum, TFT4_Tryndamere, TFT4_Olaf, TFT4b...\n",
       "23       [TFT4_Maokai, TFT4_Rakan, TFT4_Lulu, TFT4_Kenn...\n",
       "24       [TFT4_Maokai, TFT4_TahmKench, TFT4_Vi, TFT4_Nu...\n",
       "25       [TFT4_TwistedFate, TFT4_Brand, TFT4_Jax, TFT4_...\n",
       "26       [TFT4_Braum, TFT4b_Kindred, TFT4_Sivir, TFT4_A...\n",
       "27       [TFT4_TwistedFate, TFT4_Brand, TFT4_Annie, TFT...\n",
       "28       [TFT4_Jax, TFT4_Irelia, TFT4b_Kindred, TFT4_Se...\n",
       "29       [TFT4_TwistedFate, TFT4_Brand, TFT4_Braum, TFT...\n",
       "                               ...                        \n",
       "52386    [TFT4_Maokai, TFT4_Brand, TFT4_Lulu, TFT4_Nunu...\n",
       "52387    [TFT4b_Diana, TFT4_Teemo, TFT4_Pyke, TFT4_Yuum...\n",
       "52388    [TFT4_Nidalee, TFT4_TahmKench, TFT4_TahmKench,...\n",
       "52389    [TFT4_Jax, TFT4_Yuumi, TFT4b_Kindred, TFT4_Kay...\n",
       "52390    [TFT4_Pyke, TFT4_Akali, TFT4_Irelia, TFT4_Kata...\n",
       "52391    [TFT4_Nasus, TFT4_Jax, TFT4_Irelia, TFT4_Yuumi...\n",
       "52392    [TFT4b_Diana, TFT4_Teemo, TFT4_Pyke, TFT4_Akal...\n",
       "52393    [TFT4_Nautilus, TFT4_Neeko, TFT4_Darius, TFT4_...\n",
       "52394    [TFT4_Nidalee, TFT4_JarvanIV, TFT4_Vi, TFT4b_K...\n",
       "52395    [TFT4_Yasuo, TFT4_Fiora, TFT4_Jax, TFT4_Kalist...\n",
       "52396    [TFT4_TahmKench, TFT4b_Zed, TFT4_Pyke, TFT4_An...\n",
       "52397    [TFT4_Rakan, TFT4_JarvanIV, TFT4_Teemo, TFT4b_...\n",
       "52398    [TFT4_Tristana, TFT4_Brand, TFT4_Braum, TFT4_R...\n",
       "52399    [TFT4_Braum, TFT4_Nautilus, TFT4_Yuumi, TFT4_N...\n",
       "52400    [TFT4_Tristana, TFT4_Brand, TFT4_Braum, TFT4_T...\n",
       "52401    [TFT4_Garen, TFT4_JarvanIV, TFT4b_Zed, TFT4_Vi...\n",
       "52402    [TFT4_Nasus, TFT4_Nautilus, TFT4_Jax, TFT4_Ire...\n",
       "52403    [TFT4_Nautilus, TFT4_Janna, TFT4_Lulu, TFT4_Yu...\n",
       "52404    [TFT4_Brand, TFT4_Braum, TFT4_Lulu, TFT4_Shyva...\n",
       "52405    [TFT4b_Diana, TFT4b_Zed, TFT4_Teemo, TFT4_Jann...\n",
       "52406    [TFT4_Nasus, TFT4_Yuumi, TFT4b_Kindred, TFT4_K...\n",
       "52407    [TFT4_Tristana, TFT4_Braum, TFT4_Teemo, TFT4_S...\n",
       "52408    [TFT4_Maokai, TFT4_Brand, TFT4_Braum, TFT4_Ann...\n",
       "52409    [TFT4_Brand, TFT4_TahmKench, TFT4_Annie, TFT4_...\n",
       "52410    [TFT4_TahmKench, TFT4_Annie, TFT4_Shyvana, TFT...\n",
       "52411    [TFT4b_Diana, TFT4_Maokai, TFT4_Tristana, TFT4...\n",
       "52412    [TFT4_Maokai, TFT4_Rakan, TFT4_Rakan, TFT4_Lul...\n",
       "52413    [TFT4_Maokai, TFT4_TahmKench, TFT4_Vi, TFT4_Nu...\n",
       "52414    [TFT4_TwistedFate, TFT4_Wukong, TFT4_Yasuo, TF...\n",
       "52415    [TFT4_Tristana, TFT4_Brand, TFT4_Braum, TFT4b_...\n",
       "Name: unit_names, Length: 52416, dtype: object"
      ]
     },
     "execution_count": 29,
     "metadata": {},
     "output_type": "execute_result"
    }
   ],
   "source": [
    "df2.unit_names."
   ]
  },
  {
   "cell_type": "code",
   "execution_count": null,
   "metadata": {},
   "outputs": [],
   "source": []
  }
 ],
 "metadata": {
  "kernelspec": {
   "display_name": "Python 3",
   "language": "python",
   "name": "python3"
  },
  "language_info": {
   "codemirror_mode": {
    "name": "ipython",
    "version": 3
   },
   "file_extension": ".py",
   "mimetype": "text/x-python",
   "name": "python",
   "nbconvert_exporter": "python",
   "pygments_lexer": "ipython3",
   "version": "3.8.5"
  }
 },
 "nbformat": 4,
 "nbformat_minor": 2
}
