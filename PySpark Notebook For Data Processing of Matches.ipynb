{
 "cells": [
  {
   "cell_type": "code",
   "execution_count": 1,
   "metadata": {},
   "outputs": [],
   "source": [
    "# Importing necessary libraries to extract the data properly from Postgres using PySpark\n",
    "import pandas as pd\n",
    "import numpy as np\n",
    "from API_Key import username, password\n",
    "import requests\n",
    "import time\n",
    "import psycopg2 as pg2\n",
    "import json\n",
    "from pandas.io.json import json_normalize\n",
    "import pyspark\n",
    "from pyspark.sql import SparkSession\n",
    "import pyspark.sql.functions as psf"
   ]
  },
  {
   "cell_type": "code",
   "execution_count": 2,
   "metadata": {},
   "outputs": [],
   "source": [
    "spark = SparkSession \\\n",
    "    .builder \\\n",
    "    .appName(\"TFT Analysis\") \\\n",
    "    .config(\"spark.jars\", \"/Users/hiowatah/downloads/postgresql-42.2.18.jar\") \\\n",
    "    .getOrCreate()"
   ]
  },
  {
   "cell_type": "code",
   "execution_count": 3,
   "metadata": {},
   "outputs": [],
   "source": [
    "df = spark.read \\\n",
    "    .format(\"jdbc\") \\\n",
    "    .option(\"url\", \"jdbc:postgresql://localhost:5432/TFT\") \\\n",
    "    .option(\"dbtable\", \"matches\") \\\n",
    "    .option(\"user\", username) \\\n",
    "    .option(\"password\", password) \\\n",
    "    .option(\"driver\", \"org.postgresql.Driver\") \\\n",
    "    .load()"
   ]
  },
  {
   "cell_type": "code",
   "execution_count": 4,
   "metadata": {},
   "outputs": [
    {
     "data": {
      "text/plain": [
       "StructType(List(StructField(match,StringType,true),StructField(game_datetime,LongType,true),StructField(game_length,DoubleType,true),StructField(game_version,StringType,true),StructField(gold_left,IntegerType,true),StructField(last_round,IntegerType,true),StructField(level,IntegerType,true),StructField(placement,IntegerType,true),StructField(puuid,StringType,true),StructField(time_eliminated,DoubleType,true),StructField(total_damage,IntegerType,true),StructField(traits,StringType,true),StructField(units,StringType,true)))"
      ]
     },
     "execution_count": 4,
     "metadata": {},
     "output_type": "execute_result"
    }
   ],
   "source": [
    "df.schema"
   ]
  },
  {
   "cell_type": "code",
   "execution_count": 5,
   "metadata": {},
   "outputs": [
    {
     "name": "stdout",
     "output_type": "stream",
     "text": [
      "-RECORD 0-------------------------------------------------------------------------------------------------------------------------------------------------------------------------------------------------------------------------------------------------------------------------------------------------------------------------------------------------------------------------------------------------------------------------------------------------------------------------------------------------------------------------------------------------------------------------------------------------------------------------------------------------------------------------------------------------------------------------------------\n",
      " units  | [{\"character_id\": \"TFT4_Maokai\", \"items\": [66, 57], \"name\": \"\", \"rarity\": 0, \"tier\": 3}, {\"character_id\": \"TFT4_Hecarim\", \"items\": [77], \"name\": \"\", \"rarity\": 1, \"tier\": 2}, {\"character_id\": \"TFT4_Zed\", \"items\": [], \"name\": \"\", \"rarity\": 1, \"tier\": 1}, {\"character_id\": \"TFT4_Sylas\", \"chosen\": \"Set4_Brawler\", \"items\": [12, 3], \"name\": \"\", \"rarity\": 1, \"tier\": 2}, {\"character_id\": \"TFT4_Lulu\", \"items\": [2], \"name\": \"\", \"rarity\": 1, \"tier\": 2}, {\"character_id\": \"TFT4_Nunu\", \"items\": [], \"name\": \"\", \"rarity\": 2, \"tier\": 2}, {\"character_id\": \"TFT4_Kennen\", \"items\": [34], \"name\": \"\", \"rarity\": 2, \"tier\": 1}]                                                                                                   \n",
      " traits | [{\"name\": \"Keeper\", \"num_units\": 1, \"style\": 0, \"tier_current\": 0, \"tier_total\": 3}, {\"name\": \"Moonlight\", \"num_units\": 1, \"style\": 0, \"tier_current\": 0, \"tier_total\": 2}, {\"name\": \"Set4_Brawler\", \"num_units\": 4, \"style\": 2, \"tier_current\": 2, \"tier_total\": 4}, {\"name\": \"Set4_Elderwood\", \"num_units\": 4, \"style\": 1, \"tier_current\": 1, \"tier_total\": 3}, {\"name\": \"Set4_Mage\", \"num_units\": 1, \"style\": 0, \"tier_current\": 0, \"tier_total\": 3}, {\"name\": \"Set4_Ninja\", \"num_units\": 2, \"style\": 0, \"tier_current\": 0, \"tier_total\": 2}, {\"name\": \"Set4_Shade\", \"num_units\": 1, \"style\": 0, \"tier_current\": 0, \"tier_total\": 3}, {\"name\": \"Set4_Vanguard\", \"num_units\": 1, \"style\": 0, \"tier_current\": 0, \"tier_total\": 4}] \n",
      "only showing top 1 row\n",
      "\n"
     ]
    }
   ],
   "source": [
    "df.select(\"units\", \"traits\").show(1, truncate = False, vertical=True)"
   ]
  },
  {
   "cell_type": "markdown",
   "metadata": {},
   "source": [
    "# In order to analyze the games played on the latest version, I need to filter the game_version column"
   ]
  },
  {
   "cell_type": "code",
   "execution_count": 6,
   "metadata": {},
   "outputs": [
    {
     "data": {
      "text/plain": [
       "DataFrame[match: string, game_datetime: bigint, game_length: double, game_version: string, gold_left: int, last_round: int, level: int, placement: int, puuid: string, time_eliminated: double, total_damage: int, traits: string, units: string]"
      ]
     },
     "execution_count": 6,
     "metadata": {},
     "output_type": "execute_result"
    }
   ],
   "source": [
    "df.where(\"game_version LIKE '%Version 11%'\")"
   ]
  },
  {
   "cell_type": "code",
   "execution_count": 7,
   "metadata": {},
   "outputs": [],
   "source": [
    "def jsonColParser(df, *cols, sanitize=True):\n",
    "    res = df\n",
    "    for i in cols:\n",
    "        if sanitize:\n",
    "            res = (\n",
    "                res.withColumn(\n",
    "                    i,\n",
    "                    psf.concat(psf.lit('{\"data\": '), i, psf.lit('}'))\n",
    "                )\n",
    "            )\n",
    "        schema = spark.read.json(res.rdd.map(lambda x: x[i])).schema\n",
    "        res = res.withColumn(i, psf.from_json(psf.col(i), schema))\n",
    "        \n",
    "        if sanitize:\n",
    "            res = res.withColumn(i, psf.col(i).data)\n",
    "            \n",
    "    return res"
   ]
  },
  {
   "cell_type": "code",
   "execution_count": 23,
   "metadata": {},
   "outputs": [],
   "source": [
    "test = jsonColParser(df, \"units\", \"traits\")"
   ]
  },
  {
   "cell_type": "code",
   "execution_count": 9,
   "metadata": {},
   "outputs": [
    {
     "data": {
      "text/plain": [
       "StructType(List(StructField(match,StringType,true),StructField(game_datetime,LongType,true),StructField(game_length,DoubleType,true),StructField(game_version,StringType,true),StructField(gold_left,IntegerType,true),StructField(last_round,IntegerType,true),StructField(level,IntegerType,true),StructField(placement,IntegerType,true),StructField(puuid,StringType,true),StructField(time_eliminated,DoubleType,true),StructField(total_damage,IntegerType,true),StructField(traits,ArrayType(StructType(List(StructField(name,StringType,true),StructField(num_units,LongType,true),StructField(style,LongType,true),StructField(tier_current,LongType,true),StructField(tier_total,LongType,true))),true),true),StructField(units,ArrayType(StructType(List(StructField(character_id,StringType,true),StructField(chosen,StringType,true),StructField(items,ArrayType(LongType,true),true),StructField(name,StringType,true),StructField(rarity,LongType,true),StructField(tier,LongType,true))),true),true)))"
      ]
     },
     "execution_count": 9,
     "metadata": {},
     "output_type": "execute_result"
    }
   ],
   "source": [
    "test.schema"
   ]
  },
  {
   "cell_type": "code",
   "execution_count": null,
   "metadata": {},
   "outputs": [],
   "source": []
  },
  {
   "cell_type": "code",
   "execution_count": 10,
   "metadata": {},
   "outputs": [
    {
     "name": "stdout",
     "output_type": "stream",
     "text": [
      "-RECORD 0----------------------------------------------------------------------------------------------------------------------------------------------------------------------------------------------------------------------------\n",
      " units  | [[TFT4_Maokai,, [66, 57], , 0, 3], [TFT4_Hecarim,, [77], , 1, 2], [TFT4_Zed,, [], , 1, 1], [TFT4_Sylas, Set4_Brawler, [12, 3], , 1, 2], [TFT4_Lulu,, [2], , 1, 2], [TFT4_Nunu,, [], , 2, 2], [TFT4_Kennen,, [34], , 2, 1]] \n",
      " traits | [[Keeper, 1, 0, 0, 3], [Moonlight, 1, 0, 0, 2], [Set4_Brawler, 4, 2, 2, 4], [Set4_Elderwood, 4, 1, 1, 3], [Set4_Mage, 1, 0, 0, 3], [Set4_Ninja, 2, 0, 0, 2], [Set4_Shade, 1, 0, 0, 3], [Set4_Vanguard, 1, 0, 0, 4]]        \n",
      "only showing top 1 row\n",
      "\n"
     ]
    }
   ],
   "source": [
    "test.select(\"units\", \"traits\").show(1, truncate = False, vertical=True)"
   ]
  },
  {
   "cell_type": "code",
   "execution_count": 76,
   "metadata": {},
   "outputs": [
    {
     "name": "stdout",
     "output_type": "stream",
     "text": [
      "-RECORD 0--------------------------------------------------------------------------------------------------\n",
      " units.character_id | [TFT4_Maokai, TFT4_Hecarim, TFT4_Zed, TFT4_Sylas, TFT4_Lulu, TFT4_Nunu, TFT4_Kennen] \n",
      "only showing top 1 row\n",
      "\n"
     ]
    }
   ],
   "source": [
    "test.select(test.units.character_id).show(1, truncate = False, vertical=True)"
   ]
  },
  {
   "cell_type": "code",
   "execution_count": 77,
   "metadata": {},
   "outputs": [
    {
     "name": "stdout",
     "output_type": "stream",
     "text": [
      "-RECORD 0---------------------------------------------------\n",
      " units.items | [[66, 57], [77], [], [12, 3], [2], [], [34]] \n",
      "only showing top 1 row\n",
      "\n"
     ]
    }
   ],
   "source": [
    "test.select(test.units.items).show(1, truncate = False, vertical=True)"
   ]
  },
  {
   "cell_type": "code",
   "execution_count": 81,
   "metadata": {},
   "outputs": [
    {
     "name": "stdout",
     "output_type": "stream",
     "text": [
      "-RECORD 0-----------------------------\n",
      " units.chosen | [,,, Set4_Brawler,,,] \n",
      "only showing top 1 row\n",
      "\n"
     ]
    }
   ],
   "source": [
    "test.select(test.units.chosen).show(1, truncate = False, vertical=True)"
   ]
  },
  {
   "cell_type": "code",
   "execution_count": 80,
   "metadata": {},
   "outputs": [
    {
     "name": "stdout",
     "output_type": "stream",
     "text": [
      "-RECORD 0---------------------------\n",
      " units.tier | [3, 2, 1, 2, 2, 2, 1] \n",
      "only showing top 1 row\n",
      "\n"
     ]
    }
   ],
   "source": [
    "test.select(test.units.tier).show(1, truncate = False, vertical=True)"
   ]
  },
  {
   "cell_type": "code",
   "execution_count": null,
   "metadata": {},
   "outputs": [],
   "source": []
  }
 ],
 "metadata": {
  "kernelspec": {
   "display_name": "Python 3",
   "language": "python",
   "name": "python3"
  },
  "language_info": {
   "codemirror_mode": {
    "name": "ipython",
    "version": 3
   },
   "file_extension": ".py",
   "mimetype": "text/x-python",
   "name": "python",
   "nbconvert_exporter": "python",
   "pygments_lexer": "ipython3",
   "version": "3.7.1"
  }
 },
 "nbformat": 4,
 "nbformat_minor": 2
}
