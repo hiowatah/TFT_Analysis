{
 "cells": [
  {
   "cell_type": "code",
   "execution_count": 1,
   "metadata": {},
   "outputs": [],
   "source": [
    "import sqlite3\n",
    "import pandas as pd\n",
    "import numpy as np\n",
    "from API_Key import key, username, password\n",
    "import requests\n",
    "import time\n",
    "import psycopg2 as pg2"
   ]
  },
  {
   "cell_type": "code",
   "execution_count": 2,
   "metadata": {},
   "outputs": [],
   "source": [
    "def inputting_to_db(username, password, query):\n",
    "    conn = pg2.connect(database='TFT', user=username, password=password)\n",
    "    c = conn.cursor()\n",
    "    c.execute(query)\n",
    "    \n",
    "    conn.commit()\n",
    "    conn.close()"
   ]
  },
  {
   "cell_type": "code",
   "execution_count": 3,
   "metadata": {},
   "outputs": [],
   "source": [
    "# Adding data to tables created \n",
    "def adding_to_db(username, password, query, data):\n",
    "    conn = pg2.connect(database='TFT', user=username, password=password)\n",
    "    c = conn.cursor()\n",
    "    c.executemany(query, data)\n",
    "    \n",
    "    conn.commit()\n",
    "    conn.close()"
   ]
  },
  {
   "cell_type": "markdown",
   "metadata": {},
   "source": [
    "# Creating tables based on Riot Games API Structure"
   ]
  },
  {
   "cell_type": "code",
   "execution_count": 4,
   "metadata": {},
   "outputs": [],
   "source": [
    "query1 = ('''CREATE TABLE summoner(\n",
    "\n",
    "                leagueId VARCHAR,\n",
    "                queueType VARCHAR,\n",
    "                tier TEXT,\n",
    "                rank TEXT,\n",
    "                summonerId VARCHAR,\n",
    "                summonerName TEXT,\n",
    "                leaguepoints INTEGER,\n",
    "                wins INTEGER,\n",
    "                losses INTEGER,\n",
    "                veteran BOOLEAN,\n",
    "                inactive BOOLEAN,\n",
    "                freshBlood BOOLEAN,\n",
    "                hotStreak BOOLEAN) ''')"
   ]
  },
  {
   "cell_type": "code",
   "execution_count": 5,
   "metadata": {},
   "outputs": [],
   "source": [
    "query2 = ('''CREATE TABLE userids(\n",
    "\n",
    "                id TEXT,\n",
    "                accountId TEXT,\n",
    "                puuid TEXT PRIMARY KEY,\n",
    "                name TEXT,\n",
    "                profileIconId INTEGER,\n",
    "                revisionDate BIG INT,\n",
    "                summonerLevel INTEGER) ''')"
   ]
  },
  {
   "cell_type": "code",
   "execution_count": 6,
   "metadata": {},
   "outputs": [],
   "source": [
    "query3 = (\"\"\"CREATE TABLE matchids(\n",
    "             puuid text PRIMARY KEY,\n",
    "             match text)\"\"\")"
   ]
  },
  {
   "cell_type": "code",
   "execution_count": 7,
   "metadata": {},
   "outputs": [],
   "source": [
    "inputting_to_db(username, password, query1)"
   ]
  },
  {
   "cell_type": "code",
   "execution_count": 8,
   "metadata": {},
   "outputs": [],
   "source": [
    "inputting_to_db(username, password, query2)"
   ]
  },
  {
   "cell_type": "code",
   "execution_count": 9,
   "metadata": {},
   "outputs": [],
   "source": [
    "inputting_to_db(username, password, query3)"
   ]
  },
  {
   "cell_type": "markdown",
   "metadata": {},
   "source": [
    "# Setting up loop to obtain all ranked TFT players in Diamond and below"
   ]
  },
  {
   "cell_type": "code",
   "execution_count": 10,
   "metadata": {},
   "outputs": [],
   "source": [
    "def player_collector(key):\n",
    "    leagues = ['IRON', 'BRONZE', 'SILVER', 'GOLD', 'PLATINUM', 'DIAMOND']\n",
    "    divisions = ['I', 'II', 'III', 'IV']\n",
    "    summoner = []\n",
    "    for league in leagues:\n",
    "        for division in divisions:\n",
    "            response = requests.get(\n",
    "            \"https://na1.api.riotgames.com/tft/league/v1/entries/{}/{}?api_key={}\".format(league, division, key))\n",
    "            for user in response.json():\n",
    "                summoner.append(tuple(user.values()))\n",
    "    return summoner"
   ]
  },
  {
   "cell_type": "code",
   "execution_count": 11,
   "metadata": {},
   "outputs": [],
   "source": [
    "players = player_collector(key)"
   ]
  },
  {
   "cell_type": "code",
   "execution_count": 12,
   "metadata": {},
   "outputs": [
    {
     "data": {
      "text/plain": [
       "4738"
      ]
     },
     "execution_count": 12,
     "metadata": {},
     "output_type": "execute_result"
    }
   ],
   "source": [
    "len(players)"
   ]
  },
  {
   "cell_type": "markdown",
   "metadata": {},
   "source": [
    "# Updating summoner table "
   ]
  },
  {
   "cell_type": "code",
   "execution_count": 13,
   "metadata": {},
   "outputs": [],
   "source": [
    "query4 = 'INSERT INTO summoner VALUES (%s,%s,%s,%s,%s,%s,%s,%s,%s,%s,%s,%s,%s)'"
   ]
  },
  {
   "cell_type": "code",
   "execution_count": 14,
   "metadata": {},
   "outputs": [],
   "source": [
    "adding_to_db(username, password, query4, players)"
   ]
  },
  {
   "cell_type": "code",
   "execution_count": 10,
   "metadata": {},
   "outputs": [],
   "source": [
    "query5 = 'INSERT INTO userids VALUES (%s,%s,%s,%s,%s,%s,%s)'"
   ]
  },
  {
   "cell_type": "code",
   "execution_count": 5,
   "metadata": {},
   "outputs": [],
   "source": [
    "def puuid_collector(key, username, password):\n",
    "    conn = pg2.connect(database='TFT', user=username, password=password)\n",
    "    c = conn.cursor()\n",
    "    c.execute(\"SELECT summonerName FROM summoner\")\n",
    "    players = c.fetchall()\n",
    "    # Getting a list of all summonernames to loop through\n",
    "    users = [player[0] for player in players]\n",
    "    summoner = []\n",
    "    for player in users:\n",
    "        response = requests.get(\n",
    "        \"https://na1.api.riotgames.com/tft/summoner/v1/summoners/by-name/{}?api_key={}\".format(player, key))\n",
    "        if response.status_code == 200:\n",
    "            summoner.append(tuple(response.json().values()))\n",
    "        elif response.status_code == 429:\n",
    "            print(len(summoner))\n",
    "            print('rate limit exceeded')\n",
    "            print(\"waiting 2 minutes\")\n",
    "            time.sleep(120)\n",
    "        else:\n",
    "            pass\n",
    "    return summoner;"
   ]
  },
  {
   "cell_type": "code",
   "execution_count": 6,
   "metadata": {
    "scrolled": true
   },
   "outputs": [
    {
     "name": "stdout",
     "output_type": "stream",
     "text": [
      "100\n",
      "rate limit exceeded\n",
      "waiting 2 minutes\n",
      "200\n",
      "rate limit exceeded\n",
      "waiting 2 minutes\n",
      "300\n",
      "rate limit exceeded\n",
      "waiting 2 minutes\n",
      "400\n",
      "rate limit exceeded\n",
      "waiting 2 minutes\n",
      "500\n",
      "rate limit exceeded\n",
      "waiting 2 minutes\n",
      "600\n",
      "rate limit exceeded\n",
      "waiting 2 minutes\n",
      "699\n",
      "rate limit exceeded\n",
      "waiting 2 minutes\n",
      "799\n",
      "rate limit exceeded\n",
      "waiting 2 minutes\n",
      "899\n",
      "rate limit exceeded\n",
      "waiting 2 minutes\n",
      "999\n",
      "rate limit exceeded\n",
      "waiting 2 minutes\n",
      "1099\n",
      "rate limit exceeded\n",
      "waiting 2 minutes\n",
      "1199\n",
      "rate limit exceeded\n",
      "waiting 2 minutes\n",
      "1299\n",
      "rate limit exceeded\n",
      "waiting 2 minutes\n",
      "1399\n",
      "rate limit exceeded\n",
      "waiting 2 minutes\n",
      "1499\n",
      "rate limit exceeded\n",
      "waiting 2 minutes\n",
      "1599\n",
      "rate limit exceeded\n",
      "waiting 2 minutes\n",
      "1699\n",
      "rate limit exceeded\n",
      "waiting 2 minutes\n",
      "1799\n",
      "rate limit exceeded\n",
      "waiting 2 minutes\n",
      "1898\n",
      "rate limit exceeded\n",
      "waiting 2 minutes\n",
      "1998\n",
      "rate limit exceeded\n",
      "waiting 2 minutes\n",
      "2097\n",
      "rate limit exceeded\n",
      "waiting 2 minutes\n",
      "2197\n",
      "rate limit exceeded\n",
      "waiting 2 minutes\n",
      "2297\n",
      "rate limit exceeded\n",
      "waiting 2 minutes\n",
      "2397\n",
      "rate limit exceeded\n",
      "waiting 2 minutes\n",
      "2497\n",
      "rate limit exceeded\n",
      "waiting 2 minutes\n",
      "2597\n",
      "rate limit exceeded\n",
      "waiting 2 minutes\n",
      "2697\n",
      "rate limit exceeded\n",
      "waiting 2 minutes\n",
      "2797\n",
      "rate limit exceeded\n",
      "waiting 2 minutes\n",
      "2897\n",
      "rate limit exceeded\n",
      "waiting 2 minutes\n",
      "2997\n",
      "rate limit exceeded\n",
      "waiting 2 minutes\n",
      "3097\n",
      "rate limit exceeded\n",
      "waiting 2 minutes\n",
      "3197\n",
      "rate limit exceeded\n",
      "waiting 2 minutes\n",
      "3297\n",
      "rate limit exceeded\n",
      "waiting 2 minutes\n",
      "3397\n",
      "rate limit exceeded\n",
      "waiting 2 minutes\n",
      "3497\n",
      "rate limit exceeded\n",
      "waiting 2 minutes\n",
      "3597\n",
      "rate limit exceeded\n",
      "waiting 2 minutes\n",
      "3697\n",
      "rate limit exceeded\n",
      "waiting 2 minutes\n",
      "3797\n",
      "rate limit exceeded\n",
      "waiting 2 minutes\n",
      "3897\n",
      "rate limit exceeded\n",
      "waiting 2 minutes\n",
      "3997\n",
      "rate limit exceeded\n",
      "waiting 2 minutes\n",
      "4097\n",
      "rate limit exceeded\n",
      "waiting 2 minutes\n",
      "4197\n",
      "rate limit exceeded\n",
      "waiting 2 minutes\n",
      "4297\n",
      "rate limit exceeded\n",
      "waiting 2 minutes\n",
      "4397\n",
      "rate limit exceeded\n",
      "waiting 2 minutes\n",
      "4497\n",
      "rate limit exceeded\n",
      "waiting 2 minutes\n",
      "4597\n",
      "rate limit exceeded\n",
      "waiting 2 minutes\n"
     ]
    }
   ],
   "source": [
    "puuid = puuid_collector(key, username, password)"
   ]
  },
  {
   "cell_type": "code",
   "execution_count": 13,
   "metadata": {},
   "outputs": [],
   "source": [
    "adding_to_db(username, password, query5, puuid)"
   ]
  },
  {
   "cell_type": "code",
   "execution_count": 36,
   "metadata": {},
   "outputs": [],
   "source": [
    "def matchid_collector(key, username, password):\n",
    "    conn = pg2.connect(database='TFT', user=username, password=password)\n",
    "    c = conn.cursor()\n",
    "    c.execute(\"SELECT puuid FROM userids\")\n",
    "    players = c.fetchall()\n",
    "    # Getting a list of all puuids to loop through\n",
    "    users = [player[0] for player in players]\n",
    "    games = []\n",
    "    for player in users:\n",
    "        response = requests.get(\n",
    "            \"https://americas.api.riotgames.com/tft/match/v1/matches/by-puuid/{}/ids?count=30&api_key={}\".format(player, key))\n",
    "        if response.status_code == 200:\n",
    "            for matches in response.json():\n",
    "                games.append((player, matches))\n",
    "        elif response.status_code == 429:\n",
    "            print(len(games), games[-2:])\n",
    "            print('rate limit exceeded')\n",
    "            print(\"waiting 2 minutes\")\n",
    "            time.sleep(120)\n",
    "        else:\n",
    "            pass\n",
    "    return games;"
   ]
  },
  {
   "cell_type": "code",
   "execution_count": 37,
   "metadata": {},
   "outputs": [
    {
     "name": "stdout",
     "output_type": "stream",
     "text": [
      "2803 [('yLC44_Jkngmkw2vL8PLtSx83hFwXSJIKrB-xnftl86c8hyI0fY3Tc7Y1j9oc3iGQcsSPB1Njf3slYQ', 'NA1_3742278015'), ('yLC44_Jkngmkw2vL8PLtSx83hFwXSJIKrB-xnftl86c8hyI0fY3Tc7Y1j9oc3iGQcsSPB1Njf3slYQ', 'NA1_3742218814')]\n",
      "rate limit exceeded\n",
      "waiting 2 minutes\n",
      "5531 [('eL4CeoiAa3lsAkERVsE_7Yyh4m5VIIsBgz0bR8HYol-ry-zDYYwNRKCqZ0JKnBiOlnImd2UXfcEXDw', 'NA1_3739730836'), ('eL4CeoiAa3lsAkERVsE_7Yyh4m5VIIsBgz0bR8HYol-ry-zDYYwNRKCqZ0JKnBiOlnImd2UXfcEXDw', 'NA1_3739607226')]\n",
      "rate limit exceeded\n",
      "waiting 2 minutes\n",
      "8031 [('Q5n6W4N91n3Hny7qEtfvagf8X9lrsTfwCXSRTZZvQnQruuc3mGqPd4362V-qCqXwfhE2o74bXs-jdg', 'NA1_3548379652'), ('Q5n6W4N91n3Hny7qEtfvagf8X9lrsTfwCXSRTZZvQnQruuc3mGqPd4362V-qCqXwfhE2o74bXs-jdg', 'NA1_3548391531')]\n",
      "rate limit exceeded\n",
      "waiting 2 minutes\n",
      "10665 [('ppuEFRdv26V1-YVxKx8PTZ3u-57eSRRzTBlfWkkIYmqZrp1C8kqtQysql70tGliCOVqYXstDY695Vw', 'NA1_3534814320'), ('ppuEFRdv26V1-YVxKx8PTZ3u-57eSRRzTBlfWkkIYmqZrp1C8kqtQysql70tGliCOVqYXstDY695Vw', 'NA1_3474632347')]\n",
      "rate limit exceeded\n",
      "waiting 2 minutes\n",
      "13163 [('0XYUnvqRVWJBnrIhkGvFftdj-k0zmlATrP5JD6Xb9vPXzHPUIGbW6-pmpe2wOYIZ_6my9gxKW1zIlA', 'NA1_3749485149'), ('0XYUnvqRVWJBnrIhkGvFftdj-k0zmlATrP5JD6Xb9vPXzHPUIGbW6-pmpe2wOYIZ_6my9gxKW1zIlA', 'NA1_3748765628')]\n",
      "rate limit exceeded\n",
      "waiting 2 minutes\n",
      "15329 [('WqMNHPuV14lGC6IJuTQRcnZzAlMwQofR7D6t3kijEhSW9_1o2R9RzNpH_fxU8Vzhs7fuqCKnbJOXiA', 'NA1_3721046402'), ('WqMNHPuV14lGC6IJuTQRcnZzAlMwQofR7D6t3kijEhSW9_1o2R9RzNpH_fxU8Vzhs7fuqCKnbJOXiA', 'NA1_3717933492')]\n",
      "rate limit exceeded\n",
      "waiting 2 minutes\n",
      "18105 [('6DLOhY2PbnIMW6TpyeRnBWclaieNjxqnGgefeKC3k5PuS_7Ze_d6wcmFuzodR81BH8Z4xY5VkGzR0g', 'NA1_3684602949'), ('6DLOhY2PbnIMW6TpyeRnBWclaieNjxqnGgefeKC3k5PuS_7Ze_d6wcmFuzodR81BH8Z4xY5VkGzR0g', 'NA1_3682162295')]\n",
      "rate limit exceeded\n",
      "waiting 2 minutes\n",
      "20765 [('ep4I3fy_eRwTY83nXBg9aGsHll94fug8M6xfvmgV9IYE1nh-xr9AHyX3juLqnp_nlcdxEV97XmwhQQ', 'NA1_3567307870'), ('ep4I3fy_eRwTY83nXBg9aGsHll94fug8M6xfvmgV9IYE1nh-xr9AHyX3juLqnp_nlcdxEV97XmwhQQ', 'NA1_3566867432')]\n",
      "rate limit exceeded\n",
      "waiting 2 minutes\n",
      "23600 [('zuniMYmqoCc_eSyxm7HaaZASFsDLjyUl7vDxEPVz2N0eFx-ArSiD9t8GkrQx-HSQny0e09FmVuWxqA', 'NA1_3724301925'), ('zuniMYmqoCc_eSyxm7HaaZASFsDLjyUl7vDxEPVz2N0eFx-ArSiD9t8GkrQx-HSQny0e09FmVuWxqA', 'NA1_3722334493')]\n",
      "rate limit exceeded\n",
      "waiting 2 minutes\n",
      "26371 [('WVumJ4tkiTQqU4L4S18ub_oweeJNDFbTaIFG4hLS-Q_4ELuzhvITQ4yEAdqMtzH6dGrLpd8H8NZjfA', 'NA1_3733690177'), ('WVumJ4tkiTQqU4L4S18ub_oweeJNDFbTaIFG4hLS-Q_4ELuzhvITQ4yEAdqMtzH6dGrLpd8H8NZjfA', 'NA1_3733587367')]\n",
      "rate limit exceeded\n",
      "waiting 2 minutes\n",
      "29219 [('b7rtiTbmSrmzxr8IDMDZ-i2ofDbtAee-yrxpgmCLy3jmxPnIMJ94vRoY-TLq00oJRfs64Og5NzwH5Q', 'NA1_3710104402'), ('b7rtiTbmSrmzxr8IDMDZ-i2ofDbtAee-yrxpgmCLy3jmxPnIMJ94vRoY-TLq00oJRfs64Og5NzwH5Q', 'NA1_3708809193')]\n",
      "rate limit exceeded\n",
      "waiting 2 minutes\n",
      "32030 [('BYJI--BFaVD9FbyaAqWfXCXCVKDIohh49vV6M7pA44D_Qe8L3ElQUx0aVhhkiP_ibBCMO2UBqNpGag', 'NA1_3722987436'), ('BYJI--BFaVD9FbyaAqWfXCXCVKDIohh49vV6M7pA44D_Qe8L3ElQUx0aVhhkiP_ibBCMO2UBqNpGag', 'NA1_3722338850')]\n",
      "rate limit exceeded\n",
      "waiting 2 minutes\n",
      "34770 [('OncSjn0Lh9rUM8OB86EkLqsP61acy7C1nK8fiKifI7bFgEtYxilXjIeTN0kOr6XNiGmDaUPcqUmfIQ', 'NA1_3753118173'), ('OncSjn0Lh9rUM8OB86EkLqsP61acy7C1nK8fiKifI7bFgEtYxilXjIeTN0kOr6XNiGmDaUPcqUmfIQ', 'NA1_3753134747')]\n",
      "rate limit exceeded\n",
      "waiting 2 minutes\n",
      "37551 [('OkQLn32rXhPx0DgTYqzPd9FHKaEUXj-UtQ7kN0I9D568j0AQtnQXM14HOFjWHWYI0t28PIaTBFJG9g', 'NA1_3744374545'), ('OkQLn32rXhPx0DgTYqzPd9FHKaEUXj-UtQ7kN0I9D568j0AQtnQXM14HOFjWHWYI0t28PIaTBFJG9g', 'NA1_3744277017')]\n",
      "rate limit exceeded\n",
      "waiting 2 minutes\n",
      "40387 [('yZj4stZruatocHtheY5BKBtFg9PbCCLB9PeuxFrZHxwyACPgRzRlgYbbux3rvpLm2jPz6A29jtkYqQ', 'NA1_3218189619'), ('yZj4stZruatocHtheY5BKBtFg9PbCCLB9PeuxFrZHxwyACPgRzRlgYbbux3rvpLm2jPz6A29jtkYqQ', 'NA1_3216206548')]\n",
      "rate limit exceeded\n",
      "waiting 2 minutes\n",
      "43203 [('872lyN63oQmYXyNXeDcxYzxxo93Np2IJNSrsCuz1naMrv1KP_qrmNO4xAAvVDTGacuetNRKN3Yjnbw', 'NA1_3690031578'), ('872lyN63oQmYXyNXeDcxYzxxo93Np2IJNSrsCuz1naMrv1KP_qrmNO4xAAvVDTGacuetNRKN3Yjnbw', 'NA1_3689965197')]\n",
      "rate limit exceeded\n",
      "waiting 2 minutes\n",
      "46114 [('yQPSMKCQtVBwq7eaX8b20sg4PqGtTOHRYfZ3fNbxyg4VHPVoUYpvEEywgXjTk5YT4Va1GqXjJeguCw', 'NA1_3746405483'), ('yQPSMKCQtVBwq7eaX8b20sg4PqGtTOHRYfZ3fNbxyg4VHPVoUYpvEEywgXjTk5YT4Va1GqXjJeguCw', 'NA1_3746421223')]\n",
      "rate limit exceeded\n",
      "waiting 2 minutes\n",
      "48914 [('hByHDzRRNh72hU1-E5DPVqvHIi6WkfC4MUMxDeRxl7TVaBpm_gKFoMMfEaJRmgb-Zb5cuiALXeQCXQ', 'NA1_3690180076'), ('hByHDzRRNh72hU1-E5DPVqvHIi6WkfC4MUMxDeRxl7TVaBpm_gKFoMMfEaJRmgb-Zb5cuiALXeQCXQ', 'NA1_3690164560')]\n",
      "rate limit exceeded\n",
      "waiting 2 minutes\n",
      "51789 [('iGfedIDusr37BZQMn6xMGiGaYD5sw1YgzJUo3nTCnbgYEqsAZbFsREVdeaLq_itUT6e1LtJTMXbAwg', 'NA1_3747827441'), ('iGfedIDusr37BZQMn6xMGiGaYD5sw1YgzJUo3nTCnbgYEqsAZbFsREVdeaLq_itUT6e1LtJTMXbAwg', 'NA1_3747854007')]\n",
      "rate limit exceeded\n",
      "waiting 2 minutes\n",
      "54612 [('nja08l_ehVkLA5rnePDqXZOAh62sChP75NHn-gm90ZYO4gD3Plvyk38-RFFLCHr1vfma0sOiQx1AvA', 'NA1_3737825478'), ('nja08l_ehVkLA5rnePDqXZOAh62sChP75NHn-gm90ZYO4gD3Plvyk38-RFFLCHr1vfma0sOiQx1AvA', 'NA1_3737693439')]\n",
      "rate limit exceeded\n",
      "waiting 2 minutes\n",
      "57467 [('xBvPtOC8-Ub21R5sTMEmY3uFaxpWrlzMJTeZpX2PJFpSMJWEqXp1i3rjpFhqG7Gag0UcICINDTTZYw', 'NA1_3719717409'), ('xBvPtOC8-Ub21R5sTMEmY3uFaxpWrlzMJTeZpX2PJFpSMJWEqXp1i3rjpFhqG7Gag0UcICINDTTZYw', 'NA1_3717283704')]\n",
      "rate limit exceeded\n",
      "waiting 2 minutes\n",
      "60267 [('kkaxEKimU9VAaeQxT99SZUMrpr9KCQ-GeETr_tGa5UxB0dl8yTUlc2sfaxsjGFTuDldeAPMb9uWctA', 'NA1_3693574457'), ('kkaxEKimU9VAaeQxT99SZUMrpr9KCQ-GeETr_tGa5UxB0dl8yTUlc2sfaxsjGFTuDldeAPMb9uWctA', 'NA1_3693570774')]\n",
      "rate limit exceeded\n",
      "waiting 2 minutes\n",
      "63169 [('9ZyDN0O95-MqiIzJi_ln2w0Kq8fshW2oFUu_gBdOct82XQIPvDMN-JnXMoVqc6XCyppRcLmE_cW7yA', 'NA1_3737749265'), ('9ZyDN0O95-MqiIzJi_ln2w0Kq8fshW2oFUu_gBdOct82XQIPvDMN-JnXMoVqc6XCyppRcLmE_cW7yA', 'NA1_3735977492')]\n",
      "rate limit exceeded\n",
      "waiting 2 minutes\n",
      "66090 [('ypLawlbSQZhL7SPoJwoymLfRJPZFKBPAuHmlR1idrk7gPdX-hzT0RJf0rNGm5uTmxdd9a-5ApPfWFQ', 'NA1_3486641129'), ('ypLawlbSQZhL7SPoJwoymLfRJPZFKBPAuHmlR1idrk7gPdX-hzT0RJf0rNGm5uTmxdd9a-5ApPfWFQ', 'NA1_3486516707')]\n",
      "rate limit exceeded\n",
      "waiting 2 minutes\n",
      "69000 [('Q3EJcfkLHR-kJuVUnAeE3uitqkpuP6RzBEUh5nD3XUojJO6mKvdsr50m9hVqGkfRhpGdKvm3HuqZbQ', 'NA1_3752058851'), ('Q3EJcfkLHR-kJuVUnAeE3uitqkpuP6RzBEUh5nD3XUojJO6mKvdsr50m9hVqGkfRhpGdKvm3HuqZbQ', 'NA1_3751365053')]\n",
      "rate limit exceeded\n",
      "waiting 2 minutes\n",
      "71797 [('un5JxQj6d6O9w0uTYJBep-Edf5H4vPnqonapfZySndESeevaIL7JrrpQo6qVVWjclTPBQTeYQRG4_g', 'NA1_3753186067'), ('un5JxQj6d6O9w0uTYJBep-Edf5H4vPnqonapfZySndESeevaIL7JrrpQo6qVVWjclTPBQTeYQRG4_g', 'NA1_3753144200')]\n",
      "rate limit exceeded\n",
      "waiting 2 minutes\n",
      "74706 [('6vu2lvm_H78NBPmpzqE-YymAjb8RL7VCLHnnhPy2Ka4pg5DIwUg6gS6FBbJyzmvIXbytiR76sGL6EA', 'NA1_3721905202'), ('6vu2lvm_H78NBPmpzqE-YymAjb8RL7VCLHnnhPy2Ka4pg5DIwUg6gS6FBbJyzmvIXbytiR76sGL6EA', 'NA1_3721828542')]\n",
      "rate limit exceeded\n",
      "waiting 2 minutes\n",
      "77556 [('NzYW3BQBDTjEQJHawyl31PZEtTarbtOrjcjusSgapO_UdcZhPVt6MQBmy1UJ2gY1_J-PvuYSb9mrag', 'NA1_3752507738'), ('NzYW3BQBDTjEQJHawyl31PZEtTarbtOrjcjusSgapO_UdcZhPVt6MQBmy1UJ2gY1_J-PvuYSb9mrag', 'NA1_3752406108')]\n",
      "rate limit exceeded\n",
      "waiting 2 minutes\n",
      "80496 [('K8WPBN15N9OY7SZwrfVWSTvxPIQf1zn88Q1auc0W5Pec70HmAZGHhE5wdjFh474-xlnVjnZgHT8dAg', 'NA1_3740966638'), ('K8WPBN15N9OY7SZwrfVWSTvxPIQf1zn88Q1auc0W5Pec70HmAZGHhE5wdjFh474-xlnVjnZgHT8dAg', 'NA1_3740003809')]\n",
      "rate limit exceeded\n",
      "waiting 2 minutes\n",
      "83376 [('V3u__ndmTYq127MhH7FTja3teuPkTCpee40S1JrJ8lacEn3yf7gUtjKUr9aAYC294EsCeuhbmhExvA', 'NA1_3752641553'), ('V3u__ndmTYq127MhH7FTja3teuPkTCpee40S1JrJ8lacEn3yf7gUtjKUr9aAYC294EsCeuhbmhExvA', 'NA1_3752616338')]\n",
      "rate limit exceeded\n",
      "waiting 2 minutes\n",
      "86329 [('3yZpby1OJ0oa0lGqoZPHCi1v7YRO0yUNVBnBPPOHuVLIkDQ_Fs3Ssfkk_0BmtS4cF9Wska-ZgVosRQ', 'NA1_3755973634'), ('3yZpby1OJ0oa0lGqoZPHCi1v7YRO0yUNVBnBPPOHuVLIkDQ_Fs3Ssfkk_0BmtS4cF9Wska-ZgVosRQ', 'NA1_3755940365')]\n",
      "rate limit exceeded\n",
      "waiting 2 minutes\n",
      "89089 [('HyQcnNmx2tUV3yi6hg6IkENOc_VEfQDvCs-IvEwqPWx06AYIkrAB88KlVmOzfJca0ky5zEJB86U_ig', 'NA1_3748644328'), ('HyQcnNmx2tUV3yi6hg6IkENOc_VEfQDvCs-IvEwqPWx06AYIkrAB88KlVmOzfJca0ky5zEJB86U_ig', 'NA1_3747848908')]\n",
      "rate limit exceeded\n",
      "waiting 2 minutes\n",
      "91909 [('ybLaFS0LKC5yNz9ODjq9QQzD3QvJHSRuIKoIhR0tp0X6WbB1kHrgHjDWTJYJ95MsSLWm_3DW-1uLGw', 'NA1_3591096550'), ('ybLaFS0LKC5yNz9ODjq9QQzD3QvJHSRuIKoIhR0tp0X6WbB1kHrgHjDWTJYJ95MsSLWm_3DW-1uLGw', 'NA1_3591089723')]\n",
      "rate limit exceeded\n",
      "waiting 2 minutes\n"
     ]
    },
    {
     "name": "stdout",
     "output_type": "stream",
     "text": [
      "94699 [('ibvTY14o-aT29D3f79Tj5KNOkuByCicCO9PVgaCuyFJSX6PKxQbt1_7JtJwkdch7ceh2eW33bJLzug', 'NA1_3751134252'), ('ibvTY14o-aT29D3f79Tj5KNOkuByCicCO9PVgaCuyFJSX6PKxQbt1_7JtJwkdch7ceh2eW33bJLzug', 'NA1_3750938943')]\n",
      "rate limit exceeded\n",
      "waiting 2 minutes\n",
      "97639 [('4p6TqcT1bdtAtZt-oCfIv4k4i5tWUycQSfgxu4VYNtBZMyG6NHug3TxGHlKy6AqgD9zltibICFwJ0A', 'NA1_3723360291'), ('4p6TqcT1bdtAtZt-oCfIv4k4i5tWUycQSfgxu4VYNtBZMyG6NHug3TxGHlKy6AqgD9zltibICFwJ0A', 'NA1_3722894736')]\n",
      "rate limit exceeded\n",
      "waiting 2 minutes\n",
      "100489 [('gUZ-xVUZ07flRdmXeSc7nrbDGZKEcznr8RE80cGu9YwALR6UOJ2_74Qu3n5Wu9FVHi_UvVsCWO1rXQ', 'NA1_3733597734'), ('gUZ-xVUZ07flRdmXeSc7nrbDGZKEcznr8RE80cGu9YwALR6UOJ2_74Qu3n5Wu9FVHi_UvVsCWO1rXQ', 'NA1_3733613101')]\n",
      "rate limit exceeded\n",
      "waiting 2 minutes\n",
      "103369 [('f6wqdLCUs_FpEutGlsj0vPTeOqxaGJsjZVf-Ib5fN1VRmGlGb8MKWVy9mDRrg4glPwfELn7q49lfHA', 'NA1_3756651500'), ('f6wqdLCUs_FpEutGlsj0vPTeOqxaGJsjZVf-Ib5fN1VRmGlGb8MKWVy9mDRrg4glPwfELn7q49lfHA', 'NA1_3756429126')]\n",
      "rate limit exceeded\n",
      "waiting 2 minutes\n",
      "106159 [('Hb1iPUAw1XaIL-BtztRqEwzOxNE80FnywM7mjtzxXhqFJSBVHbtuAjon5iAkZH3ooZdFeVDre5cN0A', 'NA1_3738216286'), ('Hb1iPUAw1XaIL-BtztRqEwzOxNE80FnywM7mjtzxXhqFJSBVHbtuAjon5iAkZH3ooZdFeVDre5cN0A', 'NA1_3735922962')]\n",
      "rate limit exceeded\n",
      "waiting 2 minutes\n",
      "108979 [('79z6_nhlRVv7moCzFojA9XSg7bciQhY6OLmZNYv0BqxVmKFJmbi685U8ywdl4UBIqjRF8wwe3Wst7w', 'NA1_3757293399'), ('79z6_nhlRVv7moCzFojA9XSg7bciQhY6OLmZNYv0BqxVmKFJmbi685U8ywdl4UBIqjRF8wwe3Wst7w', 'NA1_3757139029')]\n",
      "rate limit exceeded\n",
      "waiting 2 minutes\n",
      "111949 [('m9PR06zOnvwAwS1Kjb7CJ2TB4s7X8qxxKWvmgmtHRGq8D_i9xj2cept-e5E8yzNQB7gmowZPthQENA', 'NA1_3753442781'), ('m9PR06zOnvwAwS1Kjb7CJ2TB4s7X8qxxKWvmgmtHRGq8D_i9xj2cept-e5E8yzNQB7gmowZPthQENA', 'NA1_3753367881')]\n",
      "rate limit exceeded\n",
      "waiting 2 minutes\n",
      "114889 [('7iv-pfGmLLcjQNnOqiAdGHC3XicZg6sNkUioOGgpqz3fCXoNOeCWckibKssUmKWUzEqTsSxZHG1E8A', 'NA1_3754118219'), ('7iv-pfGmLLcjQNnOqiAdGHC3XicZg6sNkUioOGgpqz3fCXoNOeCWckibKssUmKWUzEqTsSxZHG1E8A', 'NA1_3754093643')]\n",
      "rate limit exceeded\n",
      "waiting 2 minutes\n",
      "117709 [('2MLN4BEBQUDybhlhje8X_6FFjTIXwOpUMjA-xm5c3rOvVHibHvS7vSak8h8RIJaWUsPYaeVMzMTucA', 'NA1_3755927585'), ('2MLN4BEBQUDybhlhje8X_6FFjTIXwOpUMjA-xm5c3rOvVHibHvS7vSak8h8RIJaWUsPYaeVMzMTucA', 'NA1_3755954973')]\n",
      "rate limit exceeded\n",
      "waiting 2 minutes\n",
      "120559 [('NBywWYO3gHHP5MhON30Z-JBvBJ4AYlAj_QGRcwscC1p6yOr5li5dNj6KP88Hk8I9XUHWTP_3asqblw', 'NA1_3748541224'), ('NBywWYO3gHHP5MhON30Z-JBvBJ4AYlAj_QGRcwscC1p6yOr5li5dNj6KP88Hk8I9XUHWTP_3asqblw', 'NA1_3746668913')]\n",
      "rate limit exceeded\n",
      "waiting 2 minutes\n",
      "123499 [('kSDQzskrFbN-03eEZQ9pV5cWmnKBE7TNoFn7QbY82vsWjXXMQbwyT0ek63OFvAvyYqNSbiR2GIzRTg', 'NA1_3748714852'), ('kSDQzskrFbN-03eEZQ9pV5cWmnKBE7TNoFn7QbY82vsWjXXMQbwyT0ek63OFvAvyYqNSbiR2GIzRTg', 'NA1_3748700995')]\n",
      "rate limit exceeded\n",
      "waiting 2 minutes\n",
      "126379 [('16lSWomDnNGi3ChBZNumo1YCMCPlUFFCmKADwex5oEpkLsDAN9G7Z4vya8VDidWOqSXCqEZ4FHGciA', 'NA1_3752210859'), ('16lSWomDnNGi3ChBZNumo1YCMCPlUFFCmKADwex5oEpkLsDAN9G7Z4vya8VDidWOqSXCqEZ4FHGciA', 'NA1_3752183280')]\n",
      "rate limit exceeded\n",
      "waiting 2 minutes\n",
      "129259 [('23Ds1AhX3cSBL4D_RSD3D6Xx9L6KI04tJQCwpsSiqzwpKxJyylAp31XM1xKBOA48iB7inhipWGpi0g', 'NA1_3753688693'), ('23Ds1AhX3cSBL4D_RSD3D6Xx9L6KI04tJQCwpsSiqzwpKxJyylAp31XM1xKBOA48iB7inhipWGpi0g', 'NA1_3753721092')]\n",
      "rate limit exceeded\n",
      "waiting 2 minutes\n"
     ]
    }
   ],
   "source": [
    "match_histories = matchid_collector(key, username, password)"
   ]
  },
  {
   "cell_type": "code",
   "execution_count": 38,
   "metadata": {},
   "outputs": [],
   "source": [
    "query6 = 'INSERT INTO matchids VALUES (%s,%s)'"
   ]
  },
  {
   "cell_type": "code",
   "execution_count": 41,
   "metadata": {},
   "outputs": [],
   "source": [
    "adding_to_db(username, password, query6, match_histories)"
   ]
  },
  {
   "cell_type": "code",
   "execution_count": null,
   "metadata": {},
   "outputs": [],
   "source": []
  }
 ],
 "metadata": {
  "kernelspec": {
   "display_name": "Python 3",
   "language": "python",
   "name": "python3"
  },
  "language_info": {
   "codemirror_mode": {
    "name": "ipython",
    "version": 3
   },
   "file_extension": ".py",
   "mimetype": "text/x-python",
   "name": "python",
   "nbconvert_exporter": "python",
   "pygments_lexer": "ipython3",
   "version": "3.7.1"
  }
 },
 "nbformat": 4,
 "nbformat_minor": 2
}
