{
 "cells": [
  {
   "cell_type": "code",
   "execution_count": 23,
   "metadata": {},
   "outputs": [],
   "source": [
    "import pandas as pd\n",
    "from API_Key import key, username, password\n",
    "import psycopg2 as pg2\n",
    "import json"
   ]
  },
  {
   "cell_type": "code",
   "execution_count": 32,
   "metadata": {},
   "outputs": [],
   "source": [
    "conn = pg2.connect(database='TFT', user=username, password=password)\n",
    "#c = conn.cursor()\n",
    "df = pd.read_sql(sql=(\"select * from matches\"),con=conn)"
   ]
  },
  {
   "cell_type": "code",
   "execution_count": 33,
   "metadata": {},
   "outputs": [
    {
     "data": {
      "text/html": [
       "<div>\n",
       "<style scoped>\n",
       "    .dataframe tbody tr th:only-of-type {\n",
       "        vertical-align: middle;\n",
       "    }\n",
       "\n",
       "    .dataframe tbody tr th {\n",
       "        vertical-align: top;\n",
       "    }\n",
       "\n",
       "    .dataframe thead th {\n",
       "        text-align: right;\n",
       "    }\n",
       "</style>\n",
       "<table border=\"1\" class=\"dataframe\">\n",
       "  <thead>\n",
       "    <tr style=\"text-align: right;\">\n",
       "      <th></th>\n",
       "      <th>match</th>\n",
       "      <th>game_datetime</th>\n",
       "      <th>game_length</th>\n",
       "      <th>game_version</th>\n",
       "      <th>gold_left</th>\n",
       "      <th>last_round</th>\n",
       "      <th>level</th>\n",
       "      <th>placement</th>\n",
       "      <th>puuid</th>\n",
       "      <th>time_eliminated</th>\n",
       "      <th>total_damage</th>\n",
       "      <th>traits</th>\n",
       "      <th>units</th>\n",
       "    </tr>\n",
       "  </thead>\n",
       "  <tbody>\n",
       "    <tr>\n",
       "      <th>0</th>\n",
       "      <td>NA1_3162393839</td>\n",
       "      <td>1569867523766</td>\n",
       "      <td>2263.492676</td>\n",
       "      <td>Version 9.19.290.8808 (Sep 25 2019/21:14:15) [...</td>\n",
       "      <td>3</td>\n",
       "      <td>1</td>\n",
       "      <td>7</td>\n",
       "      <td>1</td>\n",
       "      <td>a3U9LKm3Gs6LoKuJWYGfBw2RhM5UwvWuZi7_CYmEmf4hzT...</td>\n",
       "      <td>2241.134033</td>\n",
       "      <td>196</td>\n",
       "      <td>[{\"name\": \"Assassin\", \"num_units\": 1, \"tier_cu...</td>\n",
       "      <td>[{\"items\": [], \"name\": \"Katarina\", \"tier\": 2},...</td>\n",
       "    </tr>\n",
       "    <tr>\n",
       "      <th>1</th>\n",
       "      <td>NA1_3162393839</td>\n",
       "      <td>1569867523766</td>\n",
       "      <td>2263.492676</td>\n",
       "      <td>Version 9.19.290.8808 (Sep 25 2019/21:14:15) [...</td>\n",
       "      <td>1</td>\n",
       "      <td>1</td>\n",
       "      <td>7</td>\n",
       "      <td>4</td>\n",
       "      <td>ZqdoVA4Q1x9vfCGI6OG-J7HtF9DNGEjOD-G-uWiVDRIM-q...</td>\n",
       "      <td>2107.736084</td>\n",
       "      <td>122</td>\n",
       "      <td>[{\"name\": \"Blademaster\", \"num_units\": 2, \"tier...</td>\n",
       "      <td>[{\"items\": [], \"name\": \"Vayne\", \"tier\": 3}, {\"...</td>\n",
       "    </tr>\n",
       "    <tr>\n",
       "      <th>2</th>\n",
       "      <td>NA1_3162393839</td>\n",
       "      <td>1569867523766</td>\n",
       "      <td>2263.492676</td>\n",
       "      <td>Version 9.19.290.8808 (Sep 25 2019/21:14:15) [...</td>\n",
       "      <td>18</td>\n",
       "      <td>1</td>\n",
       "      <td>8</td>\n",
       "      <td>5</td>\n",
       "      <td>CbzNpaTOk4ZIdMZb1321NsZFQTS8MUMKTpDtw8luqKCx0L...</td>\n",
       "      <td>1844.241333</td>\n",
       "      <td>87</td>\n",
       "      <td>[{\"name\": \"Assassin\", \"num_units\": 2, \"tier_cu...</td>\n",
       "      <td>[{\"items\": [], \"name\": \"Khazix\", \"tier\": 2}, {...</td>\n",
       "    </tr>\n",
       "    <tr>\n",
       "      <th>3</th>\n",
       "      <td>NA1_3162393839</td>\n",
       "      <td>1569867523766</td>\n",
       "      <td>2263.492676</td>\n",
       "      <td>Version 9.19.290.8808 (Sep 25 2019/21:14:15) [...</td>\n",
       "      <td>63</td>\n",
       "      <td>1</td>\n",
       "      <td>7</td>\n",
       "      <td>6</td>\n",
       "      <td>PbnixBPQ9SeDo5gsD2fctWdilCQPU6Quh_W06Iro_QIX4K...</td>\n",
       "      <td>1684.496582</td>\n",
       "      <td>42</td>\n",
       "      <td>[{\"name\": \"Assassin\", \"num_units\": 5, \"tier_cu...</td>\n",
       "      <td>[{\"items\": [], \"name\": \"Zed\", \"tier\": 2}, {\"it...</td>\n",
       "    </tr>\n",
       "    <tr>\n",
       "      <th>4</th>\n",
       "      <td>NA1_3162393839</td>\n",
       "      <td>1569867523766</td>\n",
       "      <td>2263.492676</td>\n",
       "      <td>Version 9.19.290.8808 (Sep 25 2019/21:14:15) [...</td>\n",
       "      <td>1</td>\n",
       "      <td>1</td>\n",
       "      <td>8</td>\n",
       "      <td>8</td>\n",
       "      <td>AidJDUCfOyQcEE8t_vzO13z2iSaR7uiHU1dLR5kBitBAZz...</td>\n",
       "      <td>1548.534546</td>\n",
       "      <td>40</td>\n",
       "      <td>[{\"name\": \"Brawler\", \"num_units\": 1, \"tier_cur...</td>\n",
       "      <td>[{\"items\": [], \"name\": \"Nidalee\", \"tier\": 2}, ...</td>\n",
       "    </tr>\n",
       "  </tbody>\n",
       "</table>\n",
       "</div>"
      ],
      "text/plain": [
       "            match  game_datetime  game_length  \\\n",
       "0  NA1_3162393839  1569867523766  2263.492676   \n",
       "1  NA1_3162393839  1569867523766  2263.492676   \n",
       "2  NA1_3162393839  1569867523766  2263.492676   \n",
       "3  NA1_3162393839  1569867523766  2263.492676   \n",
       "4  NA1_3162393839  1569867523766  2263.492676   \n",
       "\n",
       "                                        game_version  gold_left  last_round  \\\n",
       "0  Version 9.19.290.8808 (Sep 25 2019/21:14:15) [...          3           1   \n",
       "1  Version 9.19.290.8808 (Sep 25 2019/21:14:15) [...          1           1   \n",
       "2  Version 9.19.290.8808 (Sep 25 2019/21:14:15) [...         18           1   \n",
       "3  Version 9.19.290.8808 (Sep 25 2019/21:14:15) [...         63           1   \n",
       "4  Version 9.19.290.8808 (Sep 25 2019/21:14:15) [...          1           1   \n",
       "\n",
       "   level  placement                                              puuid  \\\n",
       "0      7          1  a3U9LKm3Gs6LoKuJWYGfBw2RhM5UwvWuZi7_CYmEmf4hzT...   \n",
       "1      7          4  ZqdoVA4Q1x9vfCGI6OG-J7HtF9DNGEjOD-G-uWiVDRIM-q...   \n",
       "2      8          5  CbzNpaTOk4ZIdMZb1321NsZFQTS8MUMKTpDtw8luqKCx0L...   \n",
       "3      7          6  PbnixBPQ9SeDo5gsD2fctWdilCQPU6Quh_W06Iro_QIX4K...   \n",
       "4      8          8  AidJDUCfOyQcEE8t_vzO13z2iSaR7uiHU1dLR5kBitBAZz...   \n",
       "\n",
       "   time_eliminated  total_damage  \\\n",
       "0      2241.134033           196   \n",
       "1      2107.736084           122   \n",
       "2      1844.241333            87   \n",
       "3      1684.496582            42   \n",
       "4      1548.534546            40   \n",
       "\n",
       "                                              traits  \\\n",
       "0  [{\"name\": \"Assassin\", \"num_units\": 1, \"tier_cu...   \n",
       "1  [{\"name\": \"Blademaster\", \"num_units\": 2, \"tier...   \n",
       "2  [{\"name\": \"Assassin\", \"num_units\": 2, \"tier_cu...   \n",
       "3  [{\"name\": \"Assassin\", \"num_units\": 5, \"tier_cu...   \n",
       "4  [{\"name\": \"Brawler\", \"num_units\": 1, \"tier_cur...   \n",
       "\n",
       "                                               units  \n",
       "0  [{\"items\": [], \"name\": \"Katarina\", \"tier\": 2},...  \n",
       "1  [{\"items\": [], \"name\": \"Vayne\", \"tier\": 3}, {\"...  \n",
       "2  [{\"items\": [], \"name\": \"Khazix\", \"tier\": 2}, {...  \n",
       "3  [{\"items\": [], \"name\": \"Zed\", \"tier\": 2}, {\"it...  \n",
       "4  [{\"items\": [], \"name\": \"Nidalee\", \"tier\": 2}, ...  "
      ]
     },
     "execution_count": 33,
     "metadata": {},
     "output_type": "execute_result"
    }
   ],
   "source": [
    "df.head()"
   ]
  },
  {
   "cell_type": "code",
   "execution_count": 34,
   "metadata": {},
   "outputs": [],
   "source": [
    "df['traits'] = df['traits'].apply(lambda x: json.loads(x))\n",
    "df['units'] = df['units'].apply(lambda x: json.loads(x))\n"
   ]
  },
  {
   "cell_type": "code",
   "execution_count": 35,
   "metadata": {},
   "outputs": [],
   "source": [
    "active_traits = []\n",
    "for trait in df.traits[0]:\n",
    "    if trait['tier_current'] > 1:\n",
    "        active_traits.append({trait['name']:trait['tier_current']})"
   ]
  },
  {
   "cell_type": "code",
   "execution_count": 36,
   "metadata": {},
   "outputs": [
    {
     "data": {
      "text/plain": [
       "[{'Imperial': 2}, {'Knight': 3}]"
      ]
     },
     "execution_count": 36,
     "metadata": {},
     "output_type": "execute_result"
    }
   ],
   "source": [
    "active_traits"
   ]
  },
  {
   "cell_type": "code",
   "execution_count": null,
   "metadata": {},
   "outputs": [],
   "source": []
  }
 ],
 "metadata": {
  "kernelspec": {
   "display_name": "Python 3",
   "language": "python",
   "name": "python3"
  },
  "language_info": {
   "codemirror_mode": {
    "name": "ipython",
    "version": 3
   },
   "file_extension": ".py",
   "mimetype": "text/x-python",
   "name": "python",
   "nbconvert_exporter": "python",
   "pygments_lexer": "ipython3",
   "version": "3.8.5"
  }
 },
 "nbformat": 4,
 "nbformat_minor": 4
}
