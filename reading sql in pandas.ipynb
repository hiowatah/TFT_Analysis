{
 "cells": [
  {
   "cell_type": "code",
   "execution_count": 1,
   "metadata": {},
   "outputs": [],
   "source": [
    "import pandas as pd\n",
    "from API_Key import key, username, password\n",
    "import psycopg2 as pg2\n",
    "import json\n",
    "from datetime import datetime"
   ]
  },
  {
   "cell_type": "code",
   "execution_count": 2,
   "metadata": {},
   "outputs": [],
   "source": [
    "conn = pg2.connect(database='TFT', user=username, password=password)\n",
    "#c = conn.cursor()\n",
    "df = pd.read_sql(sql=(\"select * from matches\"),con=conn)"
   ]
  },
  {
   "cell_type": "code",
   "execution_count": 3,
   "metadata": {},
   "outputs": [
    {
     "name": "stdout",
     "output_type": "stream",
     "text": [
      "<class 'pandas.core.frame.DataFrame'>\n",
      "RangeIndex: 7928 entries, 0 to 7927\n",
      "Data columns (total 13 columns):\n",
      " #   Column           Non-Null Count  Dtype  \n",
      "---  ------           --------------  -----  \n",
      " 0   match            7928 non-null   object \n",
      " 1   game_datetime    7928 non-null   float64\n",
      " 2   game_length      7928 non-null   float64\n",
      " 3   game_version     7928 non-null   object \n",
      " 4   gold_left        7928 non-null   int64  \n",
      " 5   last_round       7928 non-null   int64  \n",
      " 6   level            7928 non-null   int64  \n",
      " 7   placement        7928 non-null   int64  \n",
      " 8   puuid            7928 non-null   object \n",
      " 9   time_eliminated  7928 non-null   float64\n",
      " 10  total_damage     7928 non-null   int64  \n",
      " 11  traits           7928 non-null   object \n",
      " 12  units            7928 non-null   object \n",
      "dtypes: float64(3), int64(5), object(5)\n",
      "memory usage: 805.3+ KB\n"
     ]
    }
   ],
   "source": [
    "df.info()"
   ]
  },
  {
   "cell_type": "code",
   "execution_count": 4,
   "metadata": {},
   "outputs": [
    {
     "data": {
      "text/html": [
       "<div>\n",
       "<style scoped>\n",
       "    .dataframe tbody tr th:only-of-type {\n",
       "        vertical-align: middle;\n",
       "    }\n",
       "\n",
       "    .dataframe tbody tr th {\n",
       "        vertical-align: top;\n",
       "    }\n",
       "\n",
       "    .dataframe thead th {\n",
       "        text-align: right;\n",
       "    }\n",
       "</style>\n",
       "<table border=\"1\" class=\"dataframe\">\n",
       "  <thead>\n",
       "    <tr style=\"text-align: right;\">\n",
       "      <th></th>\n",
       "      <th>match</th>\n",
       "      <th>game_datetime</th>\n",
       "      <th>game_length</th>\n",
       "      <th>game_version</th>\n",
       "      <th>gold_left</th>\n",
       "      <th>last_round</th>\n",
       "      <th>level</th>\n",
       "      <th>placement</th>\n",
       "      <th>puuid</th>\n",
       "      <th>time_eliminated</th>\n",
       "      <th>total_damage</th>\n",
       "      <th>traits</th>\n",
       "      <th>units</th>\n",
       "    </tr>\n",
       "  </thead>\n",
       "  <tbody>\n",
       "    <tr>\n",
       "      <th>0</th>\n",
       "      <td>NA1_4107203113</td>\n",
       "      <td>1.637190e+12</td>\n",
       "      <td>2028.263306</td>\n",
       "      <td>Version 11.23.409.0111 (Nov 12 2021/12:01:09) ...</td>\n",
       "      <td>0</td>\n",
       "      <td>34</td>\n",
       "      <td>8</td>\n",
       "      <td>3</td>\n",
       "      <td>2-xYFcIJUem__n9qL8bVWDc7uuuvvnp-SuB4VqKmGiPBFw...</td>\n",
       "      <td>1896.383179</td>\n",
       "      <td>77</td>\n",
       "      <td>[{\"name\": \"Set6_Bruiser\", \"num_units\": 2, \"sty...</td>\n",
       "      <td>[{\"character_id\": \"TFT6_Vi\", \"items\": [], \"nam...</td>\n",
       "    </tr>\n",
       "    <tr>\n",
       "      <th>1</th>\n",
       "      <td>NA1_4107203113</td>\n",
       "      <td>1.637190e+12</td>\n",
       "      <td>2028.263306</td>\n",
       "      <td>Version 11.23.409.0111 (Nov 12 2021/12:01:09) ...</td>\n",
       "      <td>0</td>\n",
       "      <td>27</td>\n",
       "      <td>7</td>\n",
       "      <td>7</td>\n",
       "      <td>rIB0yQoA9jT06yokBJjP0wQQRbXe2xwZK1dlIrFwi471Im...</td>\n",
       "      <td>1550.396729</td>\n",
       "      <td>37</td>\n",
       "      <td>[{\"name\": \"Set6_Academy\", \"num_units\": 2, \"sty...</td>\n",
       "      <td>[{\"character_id\": \"TFT6_Graves\", \"items\": [], ...</td>\n",
       "    </tr>\n",
       "    <tr>\n",
       "      <th>2</th>\n",
       "      <td>NA1_4107203113</td>\n",
       "      <td>1.637190e+12</td>\n",
       "      <td>2028.263306</td>\n",
       "      <td>Version 11.23.409.0111 (Nov 12 2021/12:01:09) ...</td>\n",
       "      <td>1</td>\n",
       "      <td>33</td>\n",
       "      <td>8</td>\n",
       "      <td>5</td>\n",
       "      <td>WiQACHT1c3gcMNkdAVHuRybWz48Dsbu3PbTZGlr28dOcCV...</td>\n",
       "      <td>1842.735352</td>\n",
       "      <td>91</td>\n",
       "      <td>[{\"name\": \"Set6_Academy\", \"num_units\": 1, \"sty...</td>\n",
       "      <td>[{\"character_id\": \"TFT6_KogMaw\", \"items\": [12,...</td>\n",
       "    </tr>\n",
       "    <tr>\n",
       "      <th>3</th>\n",
       "      <td>NA1_4107203113</td>\n",
       "      <td>1.637190e+12</td>\n",
       "      <td>2028.263306</td>\n",
       "      <td>Version 11.23.409.0111 (Nov 12 2021/12:01:09) ...</td>\n",
       "      <td>1</td>\n",
       "      <td>30</td>\n",
       "      <td>8</td>\n",
       "      <td>6</td>\n",
       "      <td>FqFDLL5R9eVnnGE5TVK-kd1LiZ8GXeS7Ejy73BSnjddxz5...</td>\n",
       "      <td>1695.539795</td>\n",
       "      <td>41</td>\n",
       "      <td>[{\"name\": \"Set6_Academy\", \"num_units\": 1, \"sty...</td>\n",
       "      <td>[{\"character_id\": \"TFT6_Swain\", \"items\": [2193...</td>\n",
       "    </tr>\n",
       "    <tr>\n",
       "      <th>4</th>\n",
       "      <td>NA1_4107203113</td>\n",
       "      <td>1.637190e+12</td>\n",
       "      <td>2028.263306</td>\n",
       "      <td>Version 11.23.409.0111 (Nov 12 2021/12:01:09) ...</td>\n",
       "      <td>0</td>\n",
       "      <td>27</td>\n",
       "      <td>8</td>\n",
       "      <td>8</td>\n",
       "      <td>4uM1ZdIf5gv4G-I9ZvP9zKajQsJurn24wQQP-UivRpLnh4...</td>\n",
       "      <td>1546.322754</td>\n",
       "      <td>53</td>\n",
       "      <td>[{\"name\": \"Set6_Academy\", \"num_units\": 1, \"sty...</td>\n",
       "      <td>[{\"character_id\": \"TFT6_Darius\", \"items\": [], ...</td>\n",
       "    </tr>\n",
       "  </tbody>\n",
       "</table>\n",
       "</div>"
      ],
      "text/plain": [
       "            match  game_datetime  game_length  \\\n",
       "0  NA1_4107203113   1.637190e+12  2028.263306   \n",
       "1  NA1_4107203113   1.637190e+12  2028.263306   \n",
       "2  NA1_4107203113   1.637190e+12  2028.263306   \n",
       "3  NA1_4107203113   1.637190e+12  2028.263306   \n",
       "4  NA1_4107203113   1.637190e+12  2028.263306   \n",
       "\n",
       "                                        game_version  gold_left  last_round  \\\n",
       "0  Version 11.23.409.0111 (Nov 12 2021/12:01:09) ...          0          34   \n",
       "1  Version 11.23.409.0111 (Nov 12 2021/12:01:09) ...          0          27   \n",
       "2  Version 11.23.409.0111 (Nov 12 2021/12:01:09) ...          1          33   \n",
       "3  Version 11.23.409.0111 (Nov 12 2021/12:01:09) ...          1          30   \n",
       "4  Version 11.23.409.0111 (Nov 12 2021/12:01:09) ...          0          27   \n",
       "\n",
       "   level  placement                                              puuid  \\\n",
       "0      8          3  2-xYFcIJUem__n9qL8bVWDc7uuuvvnp-SuB4VqKmGiPBFw...   \n",
       "1      7          7  rIB0yQoA9jT06yokBJjP0wQQRbXe2xwZK1dlIrFwi471Im...   \n",
       "2      8          5  WiQACHT1c3gcMNkdAVHuRybWz48Dsbu3PbTZGlr28dOcCV...   \n",
       "3      8          6  FqFDLL5R9eVnnGE5TVK-kd1LiZ8GXeS7Ejy73BSnjddxz5...   \n",
       "4      8          8  4uM1ZdIf5gv4G-I9ZvP9zKajQsJurn24wQQP-UivRpLnh4...   \n",
       "\n",
       "   time_eliminated  total_damage  \\\n",
       "0      1896.383179            77   \n",
       "1      1550.396729            37   \n",
       "2      1842.735352            91   \n",
       "3      1695.539795            41   \n",
       "4      1546.322754            53   \n",
       "\n",
       "                                              traits  \\\n",
       "0  [{\"name\": \"Set6_Bruiser\", \"num_units\": 2, \"sty...   \n",
       "1  [{\"name\": \"Set6_Academy\", \"num_units\": 2, \"sty...   \n",
       "2  [{\"name\": \"Set6_Academy\", \"num_units\": 1, \"sty...   \n",
       "3  [{\"name\": \"Set6_Academy\", \"num_units\": 1, \"sty...   \n",
       "4  [{\"name\": \"Set6_Academy\", \"num_units\": 1, \"sty...   \n",
       "\n",
       "                                               units  \n",
       "0  [{\"character_id\": \"TFT6_Vi\", \"items\": [], \"nam...  \n",
       "1  [{\"character_id\": \"TFT6_Graves\", \"items\": [], ...  \n",
       "2  [{\"character_id\": \"TFT6_KogMaw\", \"items\": [12,...  \n",
       "3  [{\"character_id\": \"TFT6_Swain\", \"items\": [2193...  \n",
       "4  [{\"character_id\": \"TFT6_Darius\", \"items\": [], ...  "
      ]
     },
     "execution_count": 4,
     "metadata": {},
     "output_type": "execute_result"
    }
   ],
   "source": [
    "df.head()"
   ]
  },
  {
   "cell_type": "code",
   "execution_count": 5,
   "metadata": {},
   "outputs": [],
   "source": [
    "df['game_datetime'] = df['game_datetime'].apply(\n",
    "                                            lambda x: datetime.utcfromtimestamp(x/1000).strftime('%Y-%m-%d %H:%M:%S'))"
   ]
  },
  {
   "cell_type": "code",
   "execution_count": 6,
   "metadata": {},
   "outputs": [],
   "source": [
    "df = df[df['game_datetime'] >= \"2021-11-04\"]"
   ]
  },
  {
   "cell_type": "markdown",
   "metadata": {},
   "source": [
    "### Successfully webscraped champion names and saved them in pickle to prevent constant scraping"
   ]
  },
  {
   "cell_type": "code",
   "execution_count": 7,
   "metadata": {},
   "outputs": [],
   "source": [
    "# # Getting champions from Latest Set\n",
    "# from bs4 import BeautifulSoup\n",
    "# import requests\n",
    "# url = 'https://app.mobalytics.gg/tft/champions'\n",
    "# soup = BeautifulSoup(requests.get(url).content, 'html.parser')\n",
    "\n",
    "# champs = []\n",
    "# for champ in soup.find(\"div\", class_='m-1o47yso').find_all('a'):\n",
    "#     champs.append(champ['href'])\n",
    "\n",
    "# # removing excess string in champion name\n",
    "# for position, champ in enumerate(champs):\n",
    "#     champs[position] = champ.replace(\"/tft/champions/\", \"\")"
   ]
  },
  {
   "cell_type": "code",
   "execution_count": 8,
   "metadata": {},
   "outputs": [],
   "source": [
    "# import pickle \n",
    "# # Store data (serialize)\n",
    "# with open('Set6_Champions.pickle', 'wb') as handle:\n",
    "#     pickle.dump(champs, handle, protocol=pickle.HIGHEST_PROTOCOL)"
   ]
  },
  {
   "cell_type": "code",
   "execution_count": 10,
   "metadata": {},
   "outputs": [],
   "source": [
    "# Load data (deserialize)\n",
    "import pickle\n",
    "with open('Set6_Champions.pickle', 'rb') as handle:\n",
    "    unserialized_data = pickle.load(handle)\n",
    "\n",
    "champs = unserialized_data"
   ]
  },
  {
   "cell_type": "code",
   "execution_count": 11,
   "metadata": {},
   "outputs": [],
   "source": [
    "# creating new columns for each champ in the TFT set and filling values with 0\n",
    "for champ in champs:\n",
    "    df[champ] = 0"
   ]
  },
  {
   "cell_type": "code",
   "execution_count": 14,
   "metadata": {},
   "outputs": [],
   "source": [
    "df['traits'] = df['traits'].apply(lambda x: json.loads(x))\n",
    "df['units'] = df['units'].apply(lambda x: json.loads(x))"
   ]
  },
  {
   "cell_type": "code",
   "execution_count": 15,
   "metadata": {},
   "outputs": [],
   "source": [
    "active_traits = []\n",
    "for match in df.traits:\n",
    "    active_traits.append([{trait['name']:trait['tier_current']} \n",
    "                          for trait in match \n",
    "                          if trait['tier_current'] >=1])"
   ]
  },
  {
   "cell_type": "code",
   "execution_count": 17,
   "metadata": {},
   "outputs": [],
   "source": [
    "df['active_traits'] = active_traits"
   ]
  },
  {
   "cell_type": "code",
   "execution_count": 18,
   "metadata": {},
   "outputs": [],
   "source": [
    "items = list()\n",
    "carry = list()\n",
    "for row in df['units']:\n",
    "    for resources in row:\n",
    "        if len(resources['items']) >=1:\n",
    "            items.append(resources['items'])\n",
    "            carry.append(resources['name'])"
   ]
  },
  {
   "cell_type": "code",
   "execution_count": 19,
   "metadata": {},
   "outputs": [],
   "source": [
    "army = []\n",
    "for unit in df['units']:\n",
    "    champs = []\n",
    "    for champ in unit:\n",
    "        champs.append(champ['character_id'][5:])\n",
    "    army.append(champs) "
   ]
  },
  {
   "cell_type": "code",
   "execution_count": 20,
   "metadata": {},
   "outputs": [],
   "source": [
    "df['army'] = army"
   ]
  },
  {
   "cell_type": "code",
   "execution_count": 21,
   "metadata": {},
   "outputs": [
    {
     "data": {
      "text/plain": [
       "Index(['match', 'game_datetime', 'game_length', 'game_version', 'gold_left',\n",
       "       'last_round', 'level', 'placement', 'puuid', 'time_eliminated',\n",
       "       'total_damage', 'traits', 'units', 'akali', 'blitz', 'braum', 'caitlyn',\n",
       "       'camille', 'chogath', 'darius', 'dr-mundo', 'ekko', 'ezreal', 'fiora',\n",
       "       'galio', 'gangplank', 'garen', 'graves', 'heimerdinger', 'illaoi',\n",
       "       'janna', 'jayce', 'jhin', 'jinx', 'kaisa', 'kassadin', 'katarina',\n",
       "       'kogmaw', 'leona', 'lissandra', 'lulu', 'lux', 'malzahar',\n",
       "       'miss-fortune', 'orianna', 'poppy', 'quinn', 'samira', 'seraphine',\n",
       "       'shaco', 'singed', 'sion', 'swain', 'tahm-kench', 'talon', 'taric',\n",
       "       'tristana', 'trundle', 'twisted-fate', 'twitch', 'urgot', 'veigar',\n",
       "       'vex', 'vi', 'viktor', 'warwick', 'yone', 'yuumi', 'zac', 'ziggs',\n",
       "       'zilean', 'zyra', 'active_traits', 'army'],\n",
       "      dtype='object')"
      ]
     },
     "execution_count": 21,
     "metadata": {},
     "output_type": "execute_result"
    }
   ],
   "source": [
    "df.columns"
   ]
  },
  {
   "cell_type": "code",
   "execution_count": 22,
   "metadata": {},
   "outputs": [],
   "source": [
    "# Need to rename some of the champion named columns in order to be more consistent\n",
    "df.rename(columns={\"dr-mundo\": \"drmundo\", \n",
    "                   \"blitz\": \"blitzcrank\",\n",
    "                  \"tahm-kench\": \"tahmkench\",\n",
    "                  \"twisted-fate\": \"twistedfate\",\n",
    "                  \"miss-fortune\": \"missfortune\"}, inplace=True)\n",
    "df['rainingdummy']=0"
   ]
  },
  {
   "cell_type": "code",
   "execution_count": 44,
   "metadata": {},
   "outputs": [
    {
     "ename": "KeyboardInterrupt",
     "evalue": "",
     "output_type": "error",
     "traceback": [
      "\u001b[0;31m---------------------------------------------------------------------------\u001b[0m",
      "\u001b[0;31mKeyboardInterrupt\u001b[0m                         Traceback (most recent call last)",
      "\u001b[0;32m<ipython-input-44-bc2656d0c816>\u001b[0m in \u001b[0;36m<module>\u001b[0;34m\u001b[0m\n\u001b[1;32m      2\u001b[0m \u001b[0;32mfor\u001b[0m \u001b[0munit\u001b[0m \u001b[0;32min\u001b[0m \u001b[0mdf\u001b[0m\u001b[0;34m[\u001b[0m\u001b[0;34m'army'\u001b[0m\u001b[0;34m]\u001b[0m\u001b[0;34m:\u001b[0m\u001b[0;34m\u001b[0m\u001b[0;34m\u001b[0m\u001b[0m\n\u001b[1;32m      3\u001b[0m     \u001b[0;32mfor\u001b[0m \u001b[0mchampion\u001b[0m \u001b[0;32min\u001b[0m \u001b[0munit\u001b[0m\u001b[0;34m:\u001b[0m\u001b[0;34m\u001b[0m\u001b[0;34m\u001b[0m\u001b[0m\n\u001b[0;32m----> 4\u001b[0;31m         \u001b[0mdf\u001b[0m\u001b[0;34m[\u001b[0m\u001b[0mchampion\u001b[0m\u001b[0;34m.\u001b[0m\u001b[0mlower\u001b[0m\u001b[0;34m(\u001b[0m\u001b[0;34m)\u001b[0m\u001b[0;34m]\u001b[0m\u001b[0;34m.\u001b[0m\u001b[0mapply\u001b[0m\u001b[0;34m(\u001b[0m\u001b[0;32mlambda\u001b[0m \u001b[0mx\u001b[0m\u001b[0;34m:\u001b[0m \u001b[0mx\u001b[0m\u001b[0;34m+\u001b[0m\u001b[0;36m1\u001b[0m\u001b[0;34m)\u001b[0m\u001b[0;34m\u001b[0m\u001b[0;34m\u001b[0m\u001b[0m\n\u001b[0m",
      "\u001b[0;32m/opt/anaconda3/lib/python3.8/site-packages/pandas/core/series.py\u001b[0m in \u001b[0;36mapply\u001b[0;34m(self, func, convert_dtype, args, **kwds)\u001b[0m\n\u001b[1;32m   4198\u001b[0m             \u001b[0;32melse\u001b[0m\u001b[0;34m:\u001b[0m\u001b[0;34m\u001b[0m\u001b[0;34m\u001b[0m\u001b[0m\n\u001b[1;32m   4199\u001b[0m                 \u001b[0mvalues\u001b[0m \u001b[0;34m=\u001b[0m \u001b[0mself\u001b[0m\u001b[0;34m.\u001b[0m\u001b[0mastype\u001b[0m\u001b[0;34m(\u001b[0m\u001b[0mobject\u001b[0m\u001b[0;34m)\u001b[0m\u001b[0;34m.\u001b[0m\u001b[0m_values\u001b[0m\u001b[0;34m\u001b[0m\u001b[0;34m\u001b[0m\u001b[0m\n\u001b[0;32m-> 4200\u001b[0;31m                 \u001b[0mmapped\u001b[0m \u001b[0;34m=\u001b[0m \u001b[0mlib\u001b[0m\u001b[0;34m.\u001b[0m\u001b[0mmap_infer\u001b[0m\u001b[0;34m(\u001b[0m\u001b[0mvalues\u001b[0m\u001b[0;34m,\u001b[0m \u001b[0mf\u001b[0m\u001b[0;34m,\u001b[0m \u001b[0mconvert\u001b[0m\u001b[0;34m=\u001b[0m\u001b[0mconvert_dtype\u001b[0m\u001b[0;34m)\u001b[0m\u001b[0;34m\u001b[0m\u001b[0;34m\u001b[0m\u001b[0m\n\u001b[0m\u001b[1;32m   4201\u001b[0m \u001b[0;34m\u001b[0m\u001b[0m\n\u001b[1;32m   4202\u001b[0m         \u001b[0;32mif\u001b[0m \u001b[0mlen\u001b[0m\u001b[0;34m(\u001b[0m\u001b[0mmapped\u001b[0m\u001b[0;34m)\u001b[0m \u001b[0;32mand\u001b[0m \u001b[0misinstance\u001b[0m\u001b[0;34m(\u001b[0m\u001b[0mmapped\u001b[0m\u001b[0;34m[\u001b[0m\u001b[0;36m0\u001b[0m\u001b[0;34m]\u001b[0m\u001b[0;34m,\u001b[0m \u001b[0mSeries\u001b[0m\u001b[0;34m)\u001b[0m\u001b[0;34m:\u001b[0m\u001b[0;34m\u001b[0m\u001b[0;34m\u001b[0m\u001b[0m\n",
      "\u001b[0;31mKeyboardInterrupt\u001b[0m: "
     ]
    }
   ],
   "source": [
    "#\n",
    "for unit in df['army']:\n",
    "    for champion in unit:\n",
    "        df[champion.lower()].apply(lambda x: x+1)"
   ]
  },
  {
   "cell_type": "code",
   "execution_count": 49,
   "metadata": {},
   "outputs": [],
   "source": [
    "def champion_counter(df, row):\n",
    "    for unit in df.iloc[row]['army']:\n",
    "        df.iloc[row][unit.lower()] +=1\n",
    "    return df"
   ]
  },
  {
   "cell_type": "code",
   "execution_count": null,
   "metadata": {},
   "outputs": [],
   "source": []
  },
  {
   "cell_type": "code",
   "execution_count": 50,
   "metadata": {},
   "outputs": [
    {
     "name": "stderr",
     "output_type": "stream",
     "text": [
      "<ipython-input-49-56d84c4411ff>:3: SettingWithCopyWarning: \n",
      "A value is trying to be set on a copy of a slice from a DataFrame\n",
      "\n",
      "See the caveats in the documentation: https://pandas.pydata.org/pandas-docs/stable/user_guide/indexing.html#returning-a-view-versus-a-copy\n",
      "  df.iloc[row][unit.lower()] +=1\n"
     ]
    }
   ],
   "source": [
    "for num in range(len(df)):\n",
    "    champion_counter(df, num)"
   ]
  },
  {
   "cell_type": "code",
   "execution_count": 51,
   "metadata": {},
   "outputs": [
    {
     "data": {
      "text/html": [
       "<div>\n",
       "<style scoped>\n",
       "    .dataframe tbody tr th:only-of-type {\n",
       "        vertical-align: middle;\n",
       "    }\n",
       "\n",
       "    .dataframe tbody tr th {\n",
       "        vertical-align: top;\n",
       "    }\n",
       "\n",
       "    .dataframe thead th {\n",
       "        text-align: right;\n",
       "    }\n",
       "</style>\n",
       "<table border=\"1\" class=\"dataframe\">\n",
       "  <thead>\n",
       "    <tr style=\"text-align: right;\">\n",
       "      <th></th>\n",
       "      <th>match</th>\n",
       "      <th>game_datetime</th>\n",
       "      <th>game_length</th>\n",
       "      <th>game_version</th>\n",
       "      <th>gold_left</th>\n",
       "      <th>last_round</th>\n",
       "      <th>level</th>\n",
       "      <th>placement</th>\n",
       "      <th>puuid</th>\n",
       "      <th>time_eliminated</th>\n",
       "      <th>...</th>\n",
       "      <th>warwick</th>\n",
       "      <th>yone</th>\n",
       "      <th>yuumi</th>\n",
       "      <th>zac</th>\n",
       "      <th>ziggs</th>\n",
       "      <th>zilean</th>\n",
       "      <th>zyra</th>\n",
       "      <th>active_traits</th>\n",
       "      <th>army</th>\n",
       "      <th>rainingdummy</th>\n",
       "    </tr>\n",
       "  </thead>\n",
       "  <tbody>\n",
       "    <tr>\n",
       "      <th>0</th>\n",
       "      <td>NA1_4107203113</td>\n",
       "      <td>2021-11-17 23:03:32</td>\n",
       "      <td>2028.263306</td>\n",
       "      <td>Version 11.23.409.0111 (Nov 12 2021/12:01:09) ...</td>\n",
       "      <td>0</td>\n",
       "      <td>34</td>\n",
       "      <td>8</td>\n",
       "      <td>3</td>\n",
       "      <td>2-xYFcIJUem__n9qL8bVWDc7uuuvvnp-SuB4VqKmGiPBFw...</td>\n",
       "      <td>1896.383179</td>\n",
       "      <td>...</td>\n",
       "      <td>0</td>\n",
       "      <td>0</td>\n",
       "      <td>0</td>\n",
       "      <td>0</td>\n",
       "      <td>0</td>\n",
       "      <td>0</td>\n",
       "      <td>0</td>\n",
       "      <td>[{'Set6_Bruiser': 1}, {'Set6_Chemtech': 1}, {'...</td>\n",
       "      <td>[Vi, Lissandra, Taric, DrMundo, Orianna, Janna...</td>\n",
       "      <td>0</td>\n",
       "    </tr>\n",
       "    <tr>\n",
       "      <th>1</th>\n",
       "      <td>NA1_4107203113</td>\n",
       "      <td>2021-11-17 23:03:32</td>\n",
       "      <td>2028.263306</td>\n",
       "      <td>Version 11.23.409.0111 (Nov 12 2021/12:01:09) ...</td>\n",
       "      <td>0</td>\n",
       "      <td>27</td>\n",
       "      <td>7</td>\n",
       "      <td>7</td>\n",
       "      <td>rIB0yQoA9jT06yokBJjP0wQQRbXe2xwZK1dlIrFwi471Im...</td>\n",
       "      <td>1550.396729</td>\n",
       "      <td>...</td>\n",
       "      <td>0</td>\n",
       "      <td>0</td>\n",
       "      <td>0</td>\n",
       "      <td>0</td>\n",
       "      <td>0</td>\n",
       "      <td>0</td>\n",
       "      <td>0</td>\n",
       "      <td>[{'Set6_Academy': 1}, {'Set6_Enforcer': 1}, {'...</td>\n",
       "      <td>[Graves, Caitlyn, Kassadin, Garen, Blitzcrank,...</td>\n",
       "      <td>0</td>\n",
       "    </tr>\n",
       "    <tr>\n",
       "      <th>2</th>\n",
       "      <td>NA1_4107203113</td>\n",
       "      <td>2021-11-17 23:03:32</td>\n",
       "      <td>2028.263306</td>\n",
       "      <td>Version 11.23.409.0111 (Nov 12 2021/12:01:09) ...</td>\n",
       "      <td>1</td>\n",
       "      <td>33</td>\n",
       "      <td>8</td>\n",
       "      <td>5</td>\n",
       "      <td>WiQACHT1c3gcMNkdAVHuRybWz48Dsbu3PbTZGlr28dOcCV...</td>\n",
       "      <td>1842.735352</td>\n",
       "      <td>...</td>\n",
       "      <td>0</td>\n",
       "      <td>0</td>\n",
       "      <td>0</td>\n",
       "      <td>0</td>\n",
       "      <td>0</td>\n",
       "      <td>0</td>\n",
       "      <td>0</td>\n",
       "      <td>[{'Set6_Arcanist': 1}, {'Set6_Bruiser': 2}, {'...</td>\n",
       "      <td>[KogMaw, Lissandra, Malzahar, ChoGath, DrMundo...</td>\n",
       "      <td>0</td>\n",
       "    </tr>\n",
       "    <tr>\n",
       "      <th>3</th>\n",
       "      <td>NA1_4107203113</td>\n",
       "      <td>2021-11-17 23:03:32</td>\n",
       "      <td>2028.263306</td>\n",
       "      <td>Version 11.23.409.0111 (Nov 12 2021/12:01:09) ...</td>\n",
       "      <td>1</td>\n",
       "      <td>30</td>\n",
       "      <td>8</td>\n",
       "      <td>6</td>\n",
       "      <td>FqFDLL5R9eVnnGE5TVK-kd1LiZ8GXeS7Ejy73BSnjddxz5...</td>\n",
       "      <td>1695.539795</td>\n",
       "      <td>...</td>\n",
       "      <td>0</td>\n",
       "      <td>0</td>\n",
       "      <td>0</td>\n",
       "      <td>0</td>\n",
       "      <td>0</td>\n",
       "      <td>0</td>\n",
       "      <td>0</td>\n",
       "      <td>[{'Set6_Colossus': 1}, {'Set6_Cuddly': 1}, {'S...</td>\n",
       "      <td>[Swain, Talon, Seraphine, Sion, Yuumi, Galio]</td>\n",
       "      <td>0</td>\n",
       "    </tr>\n",
       "    <tr>\n",
       "      <th>4</th>\n",
       "      <td>NA1_4107203113</td>\n",
       "      <td>2021-11-17 23:03:32</td>\n",
       "      <td>2028.263306</td>\n",
       "      <td>Version 11.23.409.0111 (Nov 12 2021/12:01:09) ...</td>\n",
       "      <td>0</td>\n",
       "      <td>27</td>\n",
       "      <td>8</td>\n",
       "      <td>8</td>\n",
       "      <td>4uM1ZdIf5gv4G-I9ZvP9zKajQsJurn24wQQP-UivRpLnh4...</td>\n",
       "      <td>1546.322754</td>\n",
       "      <td>...</td>\n",
       "      <td>0</td>\n",
       "      <td>0</td>\n",
       "      <td>0</td>\n",
       "      <td>0</td>\n",
       "      <td>0</td>\n",
       "      <td>0</td>\n",
       "      <td>0</td>\n",
       "      <td>[{'Set6_Assassin': 2}, {'Set6_Bodyguard': 1}, ...</td>\n",
       "      <td>[Darius, TwistedFate, Shaco, Ekko, Braum, DrMu...</td>\n",
       "      <td>0</td>\n",
       "    </tr>\n",
       "  </tbody>\n",
       "</table>\n",
       "<p>5 rows × 75 columns</p>\n",
       "</div>"
      ],
      "text/plain": [
       "            match        game_datetime  game_length  \\\n",
       "0  NA1_4107203113  2021-11-17 23:03:32  2028.263306   \n",
       "1  NA1_4107203113  2021-11-17 23:03:32  2028.263306   \n",
       "2  NA1_4107203113  2021-11-17 23:03:32  2028.263306   \n",
       "3  NA1_4107203113  2021-11-17 23:03:32  2028.263306   \n",
       "4  NA1_4107203113  2021-11-17 23:03:32  2028.263306   \n",
       "\n",
       "                                        game_version  gold_left  last_round  \\\n",
       "0  Version 11.23.409.0111 (Nov 12 2021/12:01:09) ...          0          34   \n",
       "1  Version 11.23.409.0111 (Nov 12 2021/12:01:09) ...          0          27   \n",
       "2  Version 11.23.409.0111 (Nov 12 2021/12:01:09) ...          1          33   \n",
       "3  Version 11.23.409.0111 (Nov 12 2021/12:01:09) ...          1          30   \n",
       "4  Version 11.23.409.0111 (Nov 12 2021/12:01:09) ...          0          27   \n",
       "\n",
       "   level  placement                                              puuid  \\\n",
       "0      8          3  2-xYFcIJUem__n9qL8bVWDc7uuuvvnp-SuB4VqKmGiPBFw...   \n",
       "1      7          7  rIB0yQoA9jT06yokBJjP0wQQRbXe2xwZK1dlIrFwi471Im...   \n",
       "2      8          5  WiQACHT1c3gcMNkdAVHuRybWz48Dsbu3PbTZGlr28dOcCV...   \n",
       "3      8          6  FqFDLL5R9eVnnGE5TVK-kd1LiZ8GXeS7Ejy73BSnjddxz5...   \n",
       "4      8          8  4uM1ZdIf5gv4G-I9ZvP9zKajQsJurn24wQQP-UivRpLnh4...   \n",
       "\n",
       "   time_eliminated  ...  warwick yone yuumi  zac  ziggs  zilean  zyra  \\\n",
       "0      1896.383179  ...        0    0     0    0      0       0     0   \n",
       "1      1550.396729  ...        0    0     0    0      0       0     0   \n",
       "2      1842.735352  ...        0    0     0    0      0       0     0   \n",
       "3      1695.539795  ...        0    0     0    0      0       0     0   \n",
       "4      1546.322754  ...        0    0     0    0      0       0     0   \n",
       "\n",
       "                                       active_traits  \\\n",
       "0  [{'Set6_Bruiser': 1}, {'Set6_Chemtech': 1}, {'...   \n",
       "1  [{'Set6_Academy': 1}, {'Set6_Enforcer': 1}, {'...   \n",
       "2  [{'Set6_Arcanist': 1}, {'Set6_Bruiser': 2}, {'...   \n",
       "3  [{'Set6_Colossus': 1}, {'Set6_Cuddly': 1}, {'S...   \n",
       "4  [{'Set6_Assassin': 2}, {'Set6_Bodyguard': 1}, ...   \n",
       "\n",
       "                                                army  rainingdummy  \n",
       "0  [Vi, Lissandra, Taric, DrMundo, Orianna, Janna...             0  \n",
       "1  [Graves, Caitlyn, Kassadin, Garen, Blitzcrank,...             0  \n",
       "2  [KogMaw, Lissandra, Malzahar, ChoGath, DrMundo...             0  \n",
       "3      [Swain, Talon, Seraphine, Sion, Yuumi, Galio]             0  \n",
       "4  [Darius, TwistedFate, Shaco, Ekko, Braum, DrMu...             0  \n",
       "\n",
       "[5 rows x 75 columns]"
      ]
     },
     "execution_count": 51,
     "metadata": {},
     "output_type": "execute_result"
    }
   ],
   "source": [
    "df.head()"
   ]
  },
  {
   "cell_type": "code",
   "execution_count": 55,
   "metadata": {},
   "outputs": [
    {
     "name": "stderr",
     "output_type": "stream",
     "text": [
      "<ipython-input-55-ec469ceb560a>:1: SettingWithCopyWarning: \n",
      "A value is trying to be set on a copy of a slice from a DataFrame\n",
      "\n",
      "See the caveats in the documentation: https://pandas.pydata.org/pandas-docs/stable/user_guide/indexing.html#returning-a-view-versus-a-copy\n",
      "  df.iloc[0]['vi'] = 1\n"
     ]
    }
   ],
   "source": [
    "df.iloc[0]['vi'] = 1"
   ]
  },
  {
   "cell_type": "code",
   "execution_count": 56,
   "metadata": {},
   "outputs": [
    {
     "data": {
      "text/plain": [
       "0"
      ]
     },
     "execution_count": 56,
     "metadata": {},
     "output_type": "execute_result"
    }
   ],
   "source": [
    "df.iloc[0]['vi']"
   ]
  },
  {
   "cell_type": "code",
   "execution_count": null,
   "metadata": {},
   "outputs": [],
   "source": []
  }
 ],
 "metadata": {
  "kernelspec": {
   "display_name": "Python 3",
   "language": "python",
   "name": "python3"
  },
  "language_info": {
   "codemirror_mode": {
    "name": "ipython",
    "version": 3
   },
   "file_extension": ".py",
   "mimetype": "text/x-python",
   "name": "python",
   "nbconvert_exporter": "python",
   "pygments_lexer": "ipython3",
   "version": "3.8.5"
  }
 },
 "nbformat": 4,
 "nbformat_minor": 4
}
