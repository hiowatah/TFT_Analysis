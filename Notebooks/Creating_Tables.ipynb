{
 "cells": [
  {
   "cell_type": "code",
   "execution_count": 1,
   "metadata": {},
   "outputs": [],
   "source": [
    "import sqlite3\n",
    "import pandas as pd\n",
    "import numpy as np\n",
    "from API_Key import key, username, password\n",
    "import requests\n",
    "import time\n",
    "import psycopg2 as pg2\n",
    "import json"
   ]
  },
  {
   "cell_type": "code",
   "execution_count": 2,
   "metadata": {},
   "outputs": [],
   "source": [
    "def inputting_to_db(username, password, query):\n",
    "    conn = pg2.connect(database='TFT', user=username, password=password)\n",
    "    c = conn.cursor()\n",
    "    c.execute(query)\n",
    "    \n",
    "    conn.commit()\n",
    "    conn.close()"
   ]
  },
  {
   "cell_type": "code",
   "execution_count": 3,
   "metadata": {},
   "outputs": [],
   "source": [
    "# Adding data to tables created \n",
    "def adding_to_db(username, password, query, data):\n",
    "    conn = pg2.connect(database='TFT', user=username, password=password)\n",
    "    c = conn.cursor()\n",
    "    c.executemany(query, data)\n",
    "    \n",
    "    conn.commit()\n",
    "    conn.close()"
   ]
  },
  {
   "cell_type": "markdown",
   "metadata": {},
   "source": [
    "# Creating tables based on Riot Games API Structure"
   ]
  },
  {
   "cell_type": "code",
   "execution_count": 4,
   "metadata": {},
   "outputs": [],
   "source": [
    "query1 = ('''\n",
    "            CREATE TABLE summoner(\n",
    "\n",
    "                leagueId VARCHAR,\n",
    "                queueType VARCHAR,\n",
    "                tier TEXT,\n",
    "                rank TEXT,\n",
    "                summonerId VARCHAR,\n",
    "                summonerName TEXT,\n",
    "                leaguepoints INTEGER,\n",
    "                wins INTEGER,\n",
    "                losses INTEGER,\n",
    "                veteran BOOLEAN,\n",
    "                inactive BOOLEAN,\n",
    "                freshBlood BOOLEAN,\n",
    "                hotStreak BOOLEAN) ''')"
   ]
  },
  {
   "cell_type": "code",
   "execution_count": 36,
   "metadata": {},
   "outputs": [],
   "source": [
    "query2 = ('''  \n",
    "                CREATE TABLE userids(\n",
    "\n",
    "                id TEXT,\n",
    "                accountId TEXT,\n",
    "                puuid TEXT PRIMARY KEY,\n",
    "                name TEXT,\n",
    "                profileIconId INTEGER,\n",
    "                revisionDate NUMERIC,\n",
    "                summonerLevel INTEGER) ''')"
   ]
  },
  {
   "cell_type": "code",
   "execution_count": 14,
   "metadata": {},
   "outputs": [],
   "source": [
    "query3 = (\"\"\" \n",
    "             CREATE TABLE matchids(\n",
    "             puuid text,\n",
    "             match text)\"\"\")"
   ]
  },
  {
   "cell_type": "code",
   "execution_count": 4,
   "metadata": {},
   "outputs": [],
   "source": [
    "query4 = 'INSERT INTO summoner VALUES (%s,%s,%s,%s,%s,%s,%s,%s,%s,%s,%s,%s,%s)'"
   ]
  },
  {
   "cell_type": "code",
   "execution_count": 5,
   "metadata": {},
   "outputs": [],
   "source": [
    "query5 = 'INSERT INTO userids VALUES (%s,%s,%s,%s,%s,%s,%s)'"
   ]
  },
  {
   "cell_type": "code",
   "execution_count": 12,
   "metadata": {},
   "outputs": [],
   "source": [
    "query6 = 'INSERT INTO matchids VALUES (%s,%s)'"
   ]
  },
  {
   "cell_type": "code",
   "execution_count": 25,
   "metadata": {},
   "outputs": [],
   "source": [
    "query7 = (''' \n",
    "            CREATE TABLE matches(\n",
    "                match TEXT,\n",
    "                game_datetime NUMERIC,\n",
    "                game_length FLOAT,\n",
    "                game_version VARCHAR,\n",
    "                gold_left INT,\n",
    "                last_round INT,\n",
    "                level INT,\n",
    "                placement INT,\n",
    "                puuid TEXT,\n",
    "                time_eliminated FLOAT,\n",
    "                total_damage INT,\n",
    "                traits TEXT,\n",
    "                units TEXT) ''')"
   ]
  },
  {
   "cell_type": "code",
   "execution_count": 10,
   "metadata": {},
   "outputs": [],
   "source": [
    "query8 = 'INSERT INTO matches VALUES (%s,%s, %s,%s,%s,%s,%s, %s, %s, %s, %s, %s, %s)'"
   ]
  },
  {
   "cell_type": "code",
   "execution_count": 8,
   "metadata": {},
   "outputs": [],
   "source": [
    "inputting_to_db(username, password, query1)"
   ]
  },
  {
   "cell_type": "code",
   "execution_count": 37,
   "metadata": {},
   "outputs": [],
   "source": [
    "inputting_to_db(username, password, query2)"
   ]
  },
  {
   "cell_type": "code",
   "execution_count": 15,
   "metadata": {},
   "outputs": [],
   "source": [
    "inputting_to_db(username, password, query3)"
   ]
  },
  {
   "cell_type": "code",
   "execution_count": 26,
   "metadata": {},
   "outputs": [],
   "source": [
    "inputting_to_db(username, password, query7)"
   ]
  },
  {
   "cell_type": "markdown",
   "metadata": {},
   "source": [
    "# Setting up loop to obtain all ranked TFT players in Diamond and below"
   ]
  },
  {
   "cell_type": "code",
   "execution_count": 12,
   "metadata": {},
   "outputs": [],
   "source": [
    "def player_collector(key):\n",
    "    leagues = ['IRON', 'BRONZE', 'SILVER', 'GOLD', 'PLATINUM', 'DIAMOND']\n",
    "    divisions = ['I', 'II', 'III', 'IV']\n",
    "    summoner = []\n",
    "    for league in leagues:\n",
    "        for division in divisions:\n",
    "            response = requests.get(\n",
    "            \"https://na1.api.riotgames.com/tft/league/v1/entries/{}/{}?api_key={}\".format(league, division, key))\n",
    "            for user in response.json():\n",
    "                summoner.append(tuple(user.values()))\n",
    "    return summoner"
   ]
  },
  {
   "cell_type": "code",
   "execution_count": 13,
   "metadata": {},
   "outputs": [],
   "source": [
    "players = player_collector(key)"
   ]
  },
  {
   "cell_type": "code",
   "execution_count": 14,
   "metadata": {},
   "outputs": [
    {
     "data": {
      "text/plain": [
       "4782"
      ]
     },
     "execution_count": 14,
     "metadata": {},
     "output_type": "execute_result"
    }
   ],
   "source": [
    "len(players)"
   ]
  },
  {
   "cell_type": "markdown",
   "metadata": {},
   "source": [
    "# Updating summoner table "
   ]
  },
  {
   "cell_type": "code",
   "execution_count": 16,
   "metadata": {},
   "outputs": [],
   "source": [
    "adding_to_db(username, password, query4, players)"
   ]
  },
  {
   "cell_type": "code",
   "execution_count": 18,
   "metadata": {},
   "outputs": [],
   "source": [
    "def puuid_collector(key, username, password):\n",
    "    conn = pg2.connect(database='TFT', user=username, password=password)\n",
    "    c = conn.cursor()\n",
    "    c.execute(\"SELECT DISTINCT(summonerName) FROM summoner\")\n",
    "    players = c.fetchall()\n",
    "    # Getting a list of all summonernames to loop through\n",
    "    users = [player[0] for player in players]\n",
    "    summoner = []\n",
    "    for player in users:\n",
    "        response = requests.get(\n",
    "        \"https://na1.api.riotgames.com/tft/summoner/v1/summoners/by-name/{}?api_key={}\".format(player, key))\n",
    "        if response.status_code == 200:\n",
    "            summoner.append(tuple(response.json().values()))\n",
    "        elif response.status_code == 429:\n",
    "            print(len(summoner))\n",
    "            print('rate limit exceeded')\n",
    "            print(\"waiting 2 minutes\")\n",
    "            time.sleep(120)\n",
    "        else:\n",
    "            pass\n",
    "    return summoner;"
   ]
  },
  {
   "cell_type": "code",
   "execution_count": 22,
   "metadata": {
    "scrolled": true
   },
   "outputs": [
    {
     "name": "stdout",
     "output_type": "stream",
     "text": [
      "7\n",
      "rate limit exceeded\n",
      "waiting 2 minutes\n",
      "105\n",
      "rate limit exceeded\n",
      "waiting 2 minutes\n",
      "205\n",
      "rate limit exceeded\n",
      "waiting 2 minutes\n",
      "305\n",
      "rate limit exceeded\n",
      "waiting 2 minutes\n",
      "405\n",
      "rate limit exceeded\n",
      "waiting 2 minutes\n",
      "505\n",
      "rate limit exceeded\n",
      "waiting 2 minutes\n",
      "605\n",
      "rate limit exceeded\n",
      "waiting 2 minutes\n",
      "704\n",
      "rate limit exceeded\n",
      "waiting 2 minutes\n",
      "804\n",
      "rate limit exceeded\n",
      "waiting 2 minutes\n",
      "904\n",
      "rate limit exceeded\n",
      "waiting 2 minutes\n",
      "1004\n",
      "rate limit exceeded\n",
      "waiting 2 minutes\n",
      "1104\n",
      "rate limit exceeded\n",
      "waiting 2 minutes\n",
      "1204\n",
      "rate limit exceeded\n",
      "waiting 2 minutes\n",
      "1304\n",
      "rate limit exceeded\n",
      "waiting 2 minutes\n",
      "1404\n",
      "rate limit exceeded\n",
      "waiting 2 minutes\n",
      "1504\n",
      "rate limit exceeded\n",
      "waiting 2 minutes\n",
      "1603\n",
      "rate limit exceeded\n",
      "waiting 2 minutes\n",
      "1703\n",
      "rate limit exceeded\n",
      "waiting 2 minutes\n",
      "1803\n",
      "rate limit exceeded\n",
      "waiting 2 minutes\n",
      "1903\n",
      "rate limit exceeded\n",
      "waiting 2 minutes\n",
      "2003\n",
      "rate limit exceeded\n",
      "waiting 2 minutes\n",
      "2102\n",
      "rate limit exceeded\n",
      "waiting 2 minutes\n",
      "2202\n",
      "rate limit exceeded\n",
      "waiting 2 minutes\n",
      "2302\n",
      "rate limit exceeded\n",
      "waiting 2 minutes\n",
      "2402\n",
      "rate limit exceeded\n",
      "waiting 2 minutes\n",
      "2502\n",
      "rate limit exceeded\n",
      "waiting 2 minutes\n",
      "2602\n",
      "rate limit exceeded\n",
      "waiting 2 minutes\n",
      "2702\n",
      "rate limit exceeded\n",
      "waiting 2 minutes\n",
      "2802\n",
      "rate limit exceeded\n",
      "waiting 2 minutes\n",
      "2901\n",
      "rate limit exceeded\n",
      "waiting 2 minutes\n",
      "3001\n",
      "rate limit exceeded\n",
      "waiting 2 minutes\n",
      "3100\n",
      "rate limit exceeded\n",
      "waiting 2 minutes\n",
      "3200\n",
      "rate limit exceeded\n",
      "waiting 2 minutes\n",
      "3299\n",
      "rate limit exceeded\n",
      "waiting 2 minutes\n",
      "3399\n",
      "rate limit exceeded\n",
      "waiting 2 minutes\n",
      "3499\n",
      "rate limit exceeded\n",
      "waiting 2 minutes\n",
      "3599\n",
      "rate limit exceeded\n",
      "waiting 2 minutes\n",
      "3699\n",
      "rate limit exceeded\n",
      "waiting 2 minutes\n",
      "3799\n",
      "rate limit exceeded\n",
      "waiting 2 minutes\n",
      "3899\n",
      "rate limit exceeded\n",
      "waiting 2 minutes\n",
      "3999\n",
      "rate limit exceeded\n",
      "waiting 2 minutes\n",
      "4099\n",
      "rate limit exceeded\n",
      "waiting 2 minutes\n",
      "4199\n",
      "rate limit exceeded\n",
      "waiting 2 minutes\n",
      "4298\n",
      "rate limit exceeded\n",
      "waiting 2 minutes\n",
      "4398\n",
      "rate limit exceeded\n",
      "waiting 2 minutes\n",
      "4498\n",
      "rate limit exceeded\n",
      "waiting 2 minutes\n",
      "4598\n",
      "rate limit exceeded\n",
      "waiting 2 minutes\n",
      "4698\n",
      "rate limit exceeded\n",
      "waiting 2 minutes\n"
     ]
    }
   ],
   "source": [
    "puuid = puuid_collector(key, username, password)"
   ]
  },
  {
   "cell_type": "code",
   "execution_count": 38,
   "metadata": {},
   "outputs": [],
   "source": [
    "adding_to_db(username, password, query5, puuid)"
   ]
  },
  {
   "cell_type": "code",
   "execution_count": 6,
   "metadata": {},
   "outputs": [],
   "source": [
    "def matchid_collector(key, username, password):\n",
    "    conn = pg2.connect(database='TFT', user=username, password=password)\n",
    "    c = conn.cursor()\n",
    "    c.execute(\"SELECT puuid FROM userids\")\n",
    "    players = c.fetchall()\n",
    "    # Getting a list of all puuids to loop through\n",
    "    users = [player[0] for player in players]\n",
    "    games = []\n",
    "    for player in users:\n",
    "        response = requests.get(\n",
    "            \"https://americas.api.riotgames.com/tft/match/v1/matches/by-puuid/{}/ids?count=30&api_key={}\".format(player, key))\n",
    "        if response.status_code == 200:\n",
    "            for matches in response.json():\n",
    "                games.append((player, matches))\n",
    "        elif response.status_code == 429:\n",
    "            print(len(games), games[-2:])\n",
    "            print('rate limit exceeded')\n",
    "            print(\"waiting 2 minutes\")\n",
    "            time.sleep(120)\n",
    "        else:\n",
    "            pass\n",
    "    return games;"
   ]
  },
  {
   "cell_type": "code",
   "execution_count": 10,
   "metadata": {},
   "outputs": [
    {
     "name": "stdout",
     "output_type": "stream",
     "text": [
      "2918 [('T0o5tn_pyCXbcGn56CStM601xGZ56eBwwcyKm5p7bR07oMQsGjIAn7MW7cE3gZTcVlTYtuuSopvbKQ', 'NA1_4105749611'), ('T0o5tn_pyCXbcGn56CStM601xGZ56eBwwcyKm5p7bR07oMQsGjIAn7MW7cE3gZTcVlTYtuuSopvbKQ', 'NA1_4105698324')]\n",
      "rate limit exceeded\n",
      "waiting 2 minutes\n",
      "5891 [('3bXpK0ak9JbOWeaKn06-u-9I9uU8NyWa3LeiBT1om87iao1ZUn_T6AkiuPR3yycNPgeqqBqW8qyPEQ', 'NA1_4092926462'), ('3bXpK0ak9JbOWeaKn06-u-9I9uU8NyWa3LeiBT1om87iao1ZUn_T6AkiuPR3yycNPgeqqBqW8qyPEQ', 'NA1_4092883517')]\n",
      "rate limit exceeded\n",
      "waiting 2 minutes\n",
      "8814 [('ud420M--WdG7B1XNX4CCMB_uaLSJiyZyF6ksD_k6UlrvwFnREKFwK0gfPMXlnrdD78PQMxchYDfNsw', 'NA1_4100482847'), ('ud420M--WdG7B1XNX4CCMB_uaLSJiyZyF6ksD_k6UlrvwFnREKFwK0gfPMXlnrdD78PQMxchYDfNsw', 'NA1_4100137392')]\n",
      "rate limit exceeded\n",
      "waiting 2 minutes\n",
      "11790 [('wknvNIrwzlGQJAj1Vb2tLqMOWBtPl0AGQvrVzkoh2KzaVdKeHNCmyZYg3zszhY1eKANUl7jEGCB4Qw', 'NA1_4105791283'), ('wknvNIrwzlGQJAj1Vb2tLqMOWBtPl0AGQvrVzkoh2KzaVdKeHNCmyZYg3zszhY1eKANUl7jEGCB4Qw', 'NA1_4105224516')]\n",
      "rate limit exceeded\n",
      "waiting 2 minutes\n",
      "14719 [('rnV6QNQyuQKrj789hFH5972ykr1mNlCUnsLF7H0fsFmM0IGZgJEqmvOAWksKFWofMywEwcnS_VjMvQ', 'NA1_4104004934'), ('rnV6QNQyuQKrj789hFH5972ykr1mNlCUnsLF7H0fsFmM0IGZgJEqmvOAWksKFWofMywEwcnS_VjMvQ', 'NA1_4103874843')]\n",
      "rate limit exceeded\n",
      "waiting 2 minutes\n",
      "17676 [('CiI93lEfq4zszSX4DaSgb0OD8Mvf9QdoMTQzWxI6wEMSGA0UFrD-LZH7JjYZsoHVq-ByEdqQVnos4Q', 'NA1_4102399823'), ('CiI93lEfq4zszSX4DaSgb0OD8Mvf9QdoMTQzWxI6wEMSGA0UFrD-LZH7JjYZsoHVq-ByEdqQVnos4Q', 'NA1_4102216900')]\n",
      "rate limit exceeded\n",
      "waiting 2 minutes\n",
      "20618 [('rEqI9DYu84bbPbI9VllZqVdYT29IyUKnpgx87XM5z4fJtF14Dvor50zNar1dM2jzUIL90GwRuTpgPg', 'NA1_4092217117'), ('rEqI9DYu84bbPbI9VllZqVdYT29IyUKnpgx87XM5z4fJtF14Dvor50zNar1dM2jzUIL90GwRuTpgPg', 'NA1_4092194773')]\n",
      "rate limit exceeded\n",
      "waiting 2 minutes\n",
      "23557 [('QGykVK5Rhy1hkQw8bJG9S0rg-cIrbTqECPRihUqsIk4ojRdXZxsbUzfqZWIwEYs344iJ1a0y7XB5Mg', 'NA1_4076970176'), ('QGykVK5Rhy1hkQw8bJG9S0rg-cIrbTqECPRihUqsIk4ojRdXZxsbUzfqZWIwEYs344iJ1a0y7XB5Mg', 'NA1_3736530143')]\n",
      "rate limit exceeded\n",
      "waiting 2 minutes\n",
      "26548 [('_09fjbCEddcTDcpocv96_kKqjrRDyupIiaMq4Xg5kibroBZZ8TU9cSSN3l-xKOTFNOk3N1oGZJiYaQ', 'NA1_4099979949'), ('_09fjbCEddcTDcpocv96_kKqjrRDyupIiaMq4Xg5kibroBZZ8TU9cSSN3l-xKOTFNOk3N1oGZJiYaQ', 'NA1_4099160680')]\n",
      "rate limit exceeded\n",
      "waiting 2 minutes\n",
      "29512 [('whOjqzmD32-zuFduSPf7lhWOjiGNAOlUPiudbX5fT85azGSEue5wtjfvZQs-gqE6KTfVOC4RzJMgyg', 'NA1_3906537462'), ('whOjqzmD32-zuFduSPf7lhWOjiGNAOlUPiudbX5fT85azGSEue5wtjfvZQs-gqE6KTfVOC4RzJMgyg', 'NA1_3906545108')]\n",
      "rate limit exceeded\n",
      "waiting 2 minutes\n",
      "32486 [('ITtjoT5JdK_7VKPsoyflCWGWkQWBAoQluSiD2aeMNDXvBuL7ZpeiOUvWnZkD2GD6GwhRdp5uOT8Lpw', 'NA1_4103273891'), ('ITtjoT5JdK_7VKPsoyflCWGWkQWBAoQluSiD2aeMNDXvBuL7ZpeiOUvWnZkD2GD6GwhRdp5uOT8Lpw', 'NA1_4102947985')]\n",
      "rate limit exceeded\n",
      "waiting 2 minutes\n",
      "35436 [('KcSsv5oVd9PPOPOcyWoQaMlm5OvvhFtihKA3tFBbqZGX5ZxZqV3W-WjXOd7utc8MHN6OLCNuKdXKZQ', 'NA1_4089252866'), ('KcSsv5oVd9PPOPOcyWoQaMlm5OvvhFtihKA3tFBbqZGX5ZxZqV3W-WjXOd7utc8MHN6OLCNuKdXKZQ', 'NA1_4088650120')]\n",
      "rate limit exceeded\n",
      "waiting 2 minutes\n",
      "38405 [('yCzcbTk0Ig8SEG0ywKXr-ukJOTlLBXAAK2Yxy9gOzC5qt6IH5njGrhNX4phl4U5WaDrg3UreeGZt2A', 'NA1_3627282058'), ('yCzcbTk0Ig8SEG0ywKXr-ukJOTlLBXAAK2Yxy9gOzC5qt6IH5njGrhNX4phl4U5WaDrg3UreeGZt2A', 'NA1_3626370283')]\n",
      "rate limit exceeded\n",
      "waiting 2 minutes\n",
      "41373 [('FSF-MozfcuVk-cKdCZr73jjfuzf4hCnS63vFGHxZ1zybwXFTEPUCzi-l-W_oTYr33c6AlpfhNiPTaQ', 'NA1_4098452400'), ('FSF-MozfcuVk-cKdCZr73jjfuzf4hCnS63vFGHxZ1zybwXFTEPUCzi-l-W_oTYr33c6AlpfhNiPTaQ', 'NA1_4098397844')]\n",
      "rate limit exceeded\n",
      "waiting 2 minutes\n",
      "44345 [('UtZDGkvICXcG0FkT27n8hnDYGVKKF40h6vYBo4mgNN3SIy5BRuKzuHzRzXbwqxfNTSPoXCqJmC3svg', 'NA1_4107260325'), ('UtZDGkvICXcG0FkT27n8hnDYGVKKF40h6vYBo4mgNN3SIy5BRuKzuHzRzXbwqxfNTSPoXCqJmC3svg', 'NA1_4107215073')]\n",
      "rate limit exceeded\n",
      "waiting 2 minutes\n",
      "47331 [('LjPCBSe1_wSMGmv1eatNLj-Zbm3sKfsrVwNbc9fdVvhGCP9S3UQuexi8NWduKsj2fXCR8zK2b7meNw', 'NA1_4095251931'), ('LjPCBSe1_wSMGmv1eatNLj-Zbm3sKfsrVwNbc9fdVvhGCP9S3UQuexi8NWduKsj2fXCR8zK2b7meNw', 'NA1_4095068046')]\n",
      "rate limit exceeded\n",
      "waiting 2 minutes\n",
      "50277 [('Ljbc_FIIL8JZHy-74NxKug4Vd6rzUUlJ85_zWciVbqFx0rZuuKGA8kJDEge0VUnSMN1Hu1TXbewiNg', 'NA1_4100926774'), ('Ljbc_FIIL8JZHy-74NxKug4Vd6rzUUlJ85_zWciVbqFx0rZuuKGA8kJDEge0VUnSMN1Hu1TXbewiNg', 'NA1_4100864977')]\n",
      "rate limit exceeded\n",
      "waiting 2 minutes\n",
      "53238 [('_dONpwgcTPzcMAHKMwzNuIs7BuGuOKIfChkvbIvZFBdBpwGwZ9R5pnldGX4pmNHBbEvzARAlj0_CIQ', 'NA1_3985919992'), ('_dONpwgcTPzcMAHKMwzNuIs7BuGuOKIfChkvbIvZFBdBpwGwZ9R5pnldGX4pmNHBbEvzARAlj0_CIQ', 'NA1_3985737449')]\n",
      "rate limit exceeded\n",
      "waiting 2 minutes\n",
      "56189 [('aoq4NzSrCrYJQyuvb-nyfeck7CX5x3L0RtzHiVNIVABSfp2bJA37a3rXxyjPsZqIZnNVip9ybJ57IQ', 'NA1_4098433325'), ('aoq4NzSrCrYJQyuvb-nyfeck7CX5x3L0RtzHiVNIVABSfp2bJA37a3rXxyjPsZqIZnNVip9ybJ57IQ', 'NA1_4095478981')]\n",
      "rate limit exceeded\n",
      "waiting 2 minutes\n",
      "59183 [('MZX8EywYC3r3r94FgoIB1uc4NoPwBEPbrCzDAuxgC6rB7ENS50DvezwI9870G-CJyeoCEMFs4-Uqdw', 'NA1_3952476492'), ('MZX8EywYC3r3r94FgoIB1uc4NoPwBEPbrCzDAuxgC6rB7ENS50DvezwI9870G-CJyeoCEMFs4-Uqdw', 'NA1_3946181507')]\n",
      "rate limit exceeded\n",
      "waiting 2 minutes\n",
      "62091 [('Wi_IjBy7n4wK19f858khVYbYnRcL8Qgqn7TKOleZ4_ZwqxtjF92Ftp9rwaub61FX35t02utSk2ZbzA', 'NA1_3202743173'), ('Wi_IjBy7n4wK19f858khVYbYnRcL8Qgqn7TKOleZ4_ZwqxtjF92Ftp9rwaub61FX35t02utSk2ZbzA', 'NA1_3200188090')]\n",
      "rate limit exceeded\n",
      "waiting 2 minutes\n",
      "65052 [('P9N-vU9zcm5eU6_IHFXUJvzkyNzDG8udaqAL7hj57GJBXDbUKlGSRjwlCwJ_ri2nyZqG57LHOOG29g', 'NA1_4053758680'), ('P9N-vU9zcm5eU6_IHFXUJvzkyNzDG8udaqAL7hj57GJBXDbUKlGSRjwlCwJ_ri2nyZqG57LHOOG29g', 'NA1_4053754406')]\n",
      "rate limit exceeded\n",
      "waiting 2 minutes\n",
      "68019 [('lQJyIjNIfDSTOgLsUsJaelUEmiMpDESw303_Bz18gmWp8Oqta2blBvVGElRVi9B24PAT1HSeFiYYwA', 'NA1_4105918030'), ('lQJyIjNIfDSTOgLsUsJaelUEmiMpDESw303_Bz18gmWp8Oqta2blBvVGElRVi9B24PAT1HSeFiYYwA', 'NA1_4105822390')]\n",
      "rate limit exceeded\n",
      "waiting 2 minutes\n",
      "70936 [('k7TTBJuY9EtnKwfRLB823dn47_LimajA2Seg_5q_Og5DpNhA_jQqXIdanHJDT4i79vlvp9Z2ObNF8Q', 'NA1_4103489874'), ('k7TTBJuY9EtnKwfRLB823dn47_LimajA2Seg_5q_Og5DpNhA_jQqXIdanHJDT4i79vlvp9Z2ObNF8Q', 'NA1_4103401529')]\n",
      "rate limit exceeded\n",
      "waiting 2 minutes\n",
      "73909 [('rE8qenKrNUknqfzwJOsQnL9k9aImncJzaAvFkNs5NCwNHA72xVtx0dDdMmJgX06ZCgnEnx9mZ5270A', 'NA1_3985012050'), ('rE8qenKrNUknqfzwJOsQnL9k9aImncJzaAvFkNs5NCwNHA72xVtx0dDdMmJgX06ZCgnEnx9mZ5270A', 'NA1_3984956961')]\n",
      "rate limit exceeded\n",
      "waiting 2 minutes\n",
      "76879 [('n_7Ly9AvbrHghpOHReUpY5U75svmcxGfypWix5YTnVobtdn1BJ9sKwQnD3p0ZKq3USj3e1QmDjo8Xw', 'NA1_4101728252'), ('n_7Ly9AvbrHghpOHReUpY5U75svmcxGfypWix5YTnVobtdn1BJ9sKwQnD3p0ZKq3USj3e1QmDjo8Xw', 'NA1_4101696086')]\n",
      "rate limit exceeded\n",
      "waiting 2 minutes\n",
      "79855 [('78JkJ5RLtZ3Miw6dykLKMtVNmyX-iI4P5wgjBsMHGbk8tdtWuGfw4BpNMD0M08vQfIebmosUrcz2TQ', 'NA1_4103868248'), ('78JkJ5RLtZ3Miw6dykLKMtVNmyX-iI4P5wgjBsMHGbk8tdtWuGfw4BpNMD0M08vQfIebmosUrcz2TQ', 'NA1_4103920381')]\n",
      "rate limit exceeded\n",
      "waiting 2 minutes\n",
      "82780 [('mvDBfwGeut5mcWEqIAooANikv2URKR7jWer4p3RXbPsvXgSkR3I3maKN9xcsEcfdnhScB3-8nFs1lA', 'NA1_3992629053'), ('mvDBfwGeut5mcWEqIAooANikv2URKR7jWer4p3RXbPsvXgSkR3I3maKN9xcsEcfdnhScB3-8nFs1lA', 'NA1_3990298426')]\n",
      "rate limit exceeded\n",
      "waiting 2 minutes\n",
      "85761 [('oeKdLgcSZu931qTkPsWQPK9E2KXk4VBsGR-r-UcwcfFZ5qQtsc8Mvf754y72YKx1Pn3szNaRt_w7dg', 'NA1_4094896055'), ('oeKdLgcSZu931qTkPsWQPK9E2KXk4VBsGR-r-UcwcfFZ5qQtsc8Mvf754y72YKx1Pn3szNaRt_w7dg', 'NA1_4094884000')]\n",
      "rate limit exceeded\n",
      "waiting 2 minutes\n",
      "88722 [('FGjshTUlMroTHTPB5SirIBJtwRQO41LIBUA2yOAptgSyaf0kmZAAU0c0zYdMSZZq6nL5d_vsW74gNA', 'NA1_4100888762'), ('FGjshTUlMroTHTPB5SirIBJtwRQO41LIBUA2yOAptgSyaf0kmZAAU0c0zYdMSZZq6nL5d_vsW74gNA', 'NA1_4100065985')]\n",
      "rate limit exceeded\n",
      "waiting 2 minutes\n",
      "91688 [('LPEaHPhg0Iy27-C14Mf_bHYdN1COkbv00l4qXbVKw2GR0ny8yuAXIAbXXAj2tinrMVN726DCOB4mSg', 'NA1_4100129206'), ('LPEaHPhg0Iy27-C14Mf_bHYdN1COkbv00l4qXbVKw2GR0ny8yuAXIAbXXAj2tinrMVN726DCOB4mSg', 'NA1_4099519120')]\n",
      "rate limit exceeded\n",
      "waiting 2 minutes\n",
      "94654 [('F1lGhtAgv95XbVRxKjJ26jBSjlArGAP34rSTW4x6tIEVCiovUbmY-JB0QsieQ6KhdRHMstLXTIEtDg', 'NA1_3893173794'), ('F1lGhtAgv95XbVRxKjJ26jBSjlArGAP34rSTW4x6tIEVCiovUbmY-JB0QsieQ6KhdRHMstLXTIEtDg', 'NA1_3893189856')]\n",
      "rate limit exceeded\n",
      "waiting 2 minutes\n",
      "97625 [('D5NxBUw0gNYf2-K82cbq5i6CR4Hr2n8grkO4tQXBDlOlnLS59sFLVeMY3x6L-kUCaGlEVFu7D-afeQ', 'NA1_4104328934'), ('D5NxBUw0gNYf2-K82cbq5i6CR4Hr2n8grkO4tQXBDlOlnLS59sFLVeMY3x6L-kUCaGlEVFu7D-afeQ', 'NA1_4103476432')]\n",
      "rate limit exceeded\n",
      "waiting 2 minutes\n"
     ]
    },
    {
     "name": "stdout",
     "output_type": "stream",
     "text": [
      "100559 [('Zo0HQLO6hFvciFW68-ehGELUZPxoz5teapEZaJTJ9msAdH0edD6mhP4YLVlJdtsN9Y7wZWHejHBCFQ', 'NA1_4101189641'), ('Zo0HQLO6hFvciFW68-ehGELUZPxoz5teapEZaJTJ9msAdH0edD6mhP4YLVlJdtsN9Y7wZWHejHBCFQ', 'NA1_4101137375')]\n",
      "rate limit exceeded\n",
      "waiting 2 minutes\n",
      "103528 [('O8xyJPpTpcbwTRkpfiwYmreRz4yhLRdHfFxP_s6ow07Z_B9kzre3GjTSfH94cTnsIktCVcZpw9agew', 'NA1_3201756389'), ('O8xyJPpTpcbwTRkpfiwYmreRz4yhLRdHfFxP_s6ow07Z_B9kzre3GjTSfH94cTnsIktCVcZpw9agew', 'NA1_3196993852')]\n",
      "rate limit exceeded\n",
      "waiting 2 minutes\n",
      "106486 [('r7Mr8sU9D24KPikKfgR0CDxLqbLkq-jZgKQFHEt_CDqNim869OheSxBnbvdc2tIPXw-QvPsT7H46rg', 'NA1_4103576195'), ('r7Mr8sU9D24KPikKfgR0CDxLqbLkq-jZgKQFHEt_CDqNim869OheSxBnbvdc2tIPXw-QvPsT7H46rg', 'NA1_4103570681')]\n",
      "rate limit exceeded\n",
      "waiting 2 minutes\n",
      "109440 [('DCYf8nFYTkvq-dkmTsvHVHJ_ZOx3iIyPoGkwW5xLRVo8wAgOHOZ1oHtOUSSSrymVjB6brIywt6V4bA', 'NA1_4060803241'), ('DCYf8nFYTkvq-dkmTsvHVHJ_ZOx3iIyPoGkwW5xLRVo8wAgOHOZ1oHtOUSSSrymVjB6brIywt6V4bA', 'NA1_4060518781')]\n",
      "rate limit exceeded\n",
      "waiting 2 minutes\n",
      "112367 [('ZCrjEd51utiGhyzXBSu_uoPPH3u7BU2YpmJMBNMpAJNnw73Q0TrGzFc6J4nVMaDhBVlZ4DQzaq7uiQ', 'NA1_4100390164'), ('ZCrjEd51utiGhyzXBSu_uoPPH3u7BU2YpmJMBNMpAJNnw73Q0TrGzFc6J4nVMaDhBVlZ4DQzaq7uiQ', 'NA1_4100321708')]\n",
      "rate limit exceeded\n",
      "waiting 2 minutes\n",
      "115305 [('639_tSYwKN7VkXWnUQ9fyaSERXCOwu-iMWg1AY3tRj6onqQ_AEEPVjSjOHSuP2iK3UKug7tC08rBEw', 'NA1_4097411141'), ('639_tSYwKN7VkXWnUQ9fyaSERXCOwu-iMWg1AY3tRj6onqQ_AEEPVjSjOHSuP2iK3UKug7tC08rBEw', 'NA1_4097348848')]\n",
      "rate limit exceeded\n",
      "waiting 2 minutes\n",
      "118305 [('Y1FYskYBgl-TGKHvchx0kd4557FZ_1TGCcjiJrND8h0BizVlYs_4VZQA6UMDMYIWEgppu8kPXQ3F1g', 'NA1_4104456608'), ('Y1FYskYBgl-TGKHvchx0kd4557FZ_1TGCcjiJrND8h0BizVlYs_4VZQA6UMDMYIWEgppu8kPXQ3F1g', 'NA1_4104224412')]\n",
      "rate limit exceeded\n",
      "waiting 2 minutes\n",
      "121252 [('USQvBP5e3zNfJWWnNw6dO6JKqSX2PBn9Z4w229_QvMGFT9mkF5_u6JOBDHfbMp54wBR3ijGvDWv4Hw', 'NA1_4092502302'), ('USQvBP5e3zNfJWWnNw6dO6JKqSX2PBn9Z4w229_QvMGFT9mkF5_u6JOBDHfbMp54wBR3ijGvDWv4Hw', 'NA1_4092432360')]\n",
      "rate limit exceeded\n",
      "waiting 2 minutes\n",
      "124226 [('bLfe0ryc6pUnvPO0WankIBryk2BGCRsUYwFRtwEdD5KnztraKJl9VhKOkjlfR311BkLBE2PkCcfM8A', 'NA1_4094681942'), ('bLfe0ryc6pUnvPO0WankIBryk2BGCRsUYwFRtwEdD5KnztraKJl9VhKOkjlfR311BkLBE2PkCcfM8A', 'NA1_4094252606')]\n",
      "rate limit exceeded\n",
      "waiting 2 minutes\n",
      "127223 [('8BFtLbn0ID3HyMmz4mK9-nY6VZ-7fF5tt3SONHUcyXr5vBEzmhjhY44PI4nhiGmTMK9JGyNGDaOtZw', 'NA1_4102052271'), ('8BFtLbn0ID3HyMmz4mK9-nY6VZ-7fF5tt3SONHUcyXr5vBEzmhjhY44PI4nhiGmTMK9JGyNGDaOtZw', 'NA1_4102017318')]\n",
      "rate limit exceeded\n",
      "waiting 2 minutes\n",
      "130178 [('cUH1DRtvQBP2YC111YQVL6bu_DH7R0UnF-hBXZOM1XtaH_ygvY7vmhYyrx7v5av1pcqK53_ODSQoxw', 'NA1_3769660497'), ('cUH1DRtvQBP2YC111YQVL6bu_DH7R0UnF-hBXZOM1XtaH_ygvY7vmhYyrx7v5av1pcqK53_ODSQoxw', 'NA1_3769453445')]\n",
      "rate limit exceeded\n",
      "waiting 2 minutes\n",
      "133134 [('slLivP2_ehVEHxA84T5tc8GOv-7uCNpFGuTnIKcq67va4hFvgk5L_ij4OvyQ_iLsPszXAQjHJAu8hg', 'NA1_4101272349'), ('slLivP2_ehVEHxA84T5tc8GOv-7uCNpFGuTnIKcq67va4hFvgk5L_ij4OvyQ_iLsPszXAQjHJAu8hg', 'NA1_4101132320')]\n",
      "rate limit exceeded\n",
      "waiting 2 minutes\n",
      "136085 [('y8CHAWIBYlSu8JzZ7gtebQLmx-7RG8TMjt52s9e1SHtmYPs22WNXDSv7BY7vDiP427RbN3MMFPVWuQ', 'NA1_4051828794'), ('y8CHAWIBYlSu8JzZ7gtebQLmx-7RG8TMjt52s9e1SHtmYPs22WNXDSv7BY7vDiP427RbN3MMFPVWuQ', 'NA1_4005609238')]\n",
      "rate limit exceeded\n",
      "waiting 2 minutes\n"
     ]
    }
   ],
   "source": [
    "match_histories = matchid_collector(key, username, password)"
   ]
  },
  {
   "cell_type": "code",
   "execution_count": 16,
   "metadata": {},
   "outputs": [],
   "source": [
    "adding_to_db(username, password, query6, match_histories)"
   ]
  },
  {
   "cell_type": "code",
   "execution_count": 19,
   "metadata": {},
   "outputs": [],
   "source": [
    "match_data = []\n",
    "for player in response.json()['info']['participants']:\n",
    "                game_datetime = response.json()['info']['game_datetime']\n",
    "                game_length = response.json()['info']['game_length']\n",
    "                game_version = response.json()['info']['game_version']\n",
    "                gold_left = player['gold_left']\n",
    "                last_round = player['last_round']\n",
    "                level = player['level']\n",
    "                placement = player['placement']\n",
    "                puuid = player['puuid']\n",
    "                time_eliminated = player['time_eliminated']\n",
    "                total_damage = player['total_damage_to_players']\n",
    "                traits = player['traits']\n",
    "                units = player['units']\n",
    "                match_data.append(\n",
    "                    (game_datetime, game_length, game_version, gold_left, last_round, level, placement,\n",
    "                    puuid, time_eliminated, total_damage, traits, units))"
   ]
  },
  {
   "cell_type": "code",
   "execution_count": 5,
   "metadata": {},
   "outputs": [],
   "source": [
    "# A lot of data so going to call the matchids in batches\n",
    "def match_data_collector(key, username, password):\n",
    "    conn = pg2.connect(database='TFT', user=username, password=password)\n",
    "    c = conn.cursor()\n",
    "    c.execute(\"SELECT DISTINCT(match) FROM matchids WHERE match NOT IN (SELECT match FROM matches) LIMIT 1000\")\n",
    "    matches = c.fetchall()\n",
    "    # Getting a list of all puuids to loop through\n",
    "    games = [match[0] for match in matches]\n",
    "    match_data = []\n",
    "    for game in games:\n",
    "        response = requests.get(\"https://americas.api.riotgames.com/tft/match/v1/matches/{}?api_key={}\".format(game, key))\n",
    "        start_time = time.time()\n",
    "        if response.status_code == 200:\n",
    "            for player in response.json()['info']['participants']:\n",
    "                game_id = game\n",
    "                game_datetime = response.json()['info']['game_datetime']\n",
    "                game_length = response.json()['info']['game_length']\n",
    "                game_version = response.json()['info']['game_version']\n",
    "                gold_left = player['gold_left']\n",
    "                last_round = player['last_round']\n",
    "                level = player['level']\n",
    "                placement = player['placement']\n",
    "                puuid = player['puuid']\n",
    "                time_eliminated = player['time_eliminated']\n",
    "                total_damage = player['total_damage_to_players']\n",
    "                traits = json.dumps(player['traits'])\n",
    "                units = json.dumps(player['units'])\n",
    "                match_data.append(\n",
    "                    (game_id, game_datetime, game_length, game_version, gold_left, last_round, level, placement,\n",
    "                    puuid, time_eliminated, total_damage, traits, units))\n",
    "                end_time = time.time()\n",
    "                \n",
    "                #if end_time - start_time < 1:\n",
    "                 #   time.sleep(1 - (end_time - start_time))\n",
    "                \n",
    "        elif response.status_code == 429:\n",
    "            print(match_data[-1])\n",
    "            print('rate limit exceeded')\n",
    "            print(\"waiting 2 minutes\")\n",
    "            time.sleep(120)\n",
    "        else:\n",
    "            pass\n",
    "    return match_data;"
   ]
  },
  {
   "cell_type": "code",
   "execution_count": 7,
   "metadata": {},
   "outputs": [],
   "source": [
    "conn = pg2.connect(database='TFT', user=username, password=password)\n",
    "c = conn.cursor()\n",
    "c.execute(\"SELECT DISTINCT(match) FROM matchids WHERE match NOT IN (SELECT match FROM matches)\")\n",
    "matches = c.fetchall()\n",
    "# Getting a list of all puuids to loop through "
   ]
  },
  {
   "cell_type": "code",
   "execution_count": 9,
   "metadata": {},
   "outputs": [
    {
     "name": "stdout",
     "output_type": "stream",
     "text": [
      "('NA1_4080088612', 1635049301247, 2083.8935546875, 'Version 11.21.403.3002 (Oct 14 2021/15:48:27) [PUBLIC] <Releases/11.21>', 3, 30, 8, 5, 'JDEnUljgkFt2MXKa4lzFRRQUo-ovXXh0gK3TC9o3h516ARiOSX3xxjZfJahIxHFFDVXqukxOONOVyg', 1714.4530029296875, 84, '[{\"name\": \"Set5_Abomination\", \"num_units\": 1, \"style\": 0, \"tier_current\": 0, \"tier_total\": 3}, {\"name\": \"Set5_Brawler\", \"num_units\": 1, \"style\": 0, \"tier_current\": 0, \"tier_total\": 3}, {\"name\": \"Set5_Caretaker\", \"num_units\": 1, \"style\": 3, \"tier_current\": 1, \"tier_total\": 1}, {\"name\": \"Set5_Dawnbringer\", \"num_units\": 4, \"style\": 2, \"tier_current\": 2, \"tier_total\": 4}, {\"name\": \"Set5_Draconic\", \"num_units\": 1, \"style\": 0, \"tier_current\": 0, \"tier_total\": 2}, {\"name\": \"Set5_Invoker\", \"num_units\": 2, \"style\": 1, \"tier_current\": 1, \"tier_total\": 2}, {\"name\": \"Set5_Mystic\", \"num_units\": 1, \"style\": 0, \"tier_current\": 0, \"tier_total\": 4}, {\"name\": \"Set5_Renewer\", \"num_units\": 6, \"style\": 4, \"tier_current\": 3, \"tier_total\": 3}, {\"name\": \"Set5_Revenant\", \"num_units\": 3, \"style\": 2, \"tier_current\": 2, \"tier_total\": 4}, {\"name\": \"Set5_Sentinel\", \"num_units\": 1, \"style\": 0, \"tier_current\": 0, \"tier_total\": 3}, {\"name\": \"Set5_Skirmisher\", \"num_units\": 1, \"style\": 0, \"tier_current\": 0, \"tier_total\": 3}]', '[{\"character_id\": \"TFT5_Gragas\", \"items\": [1168], \"name\": \"\", \"rarity\": 0, \"tier\": 1}, {\"character_id\": \"TFT5_Soraka\", \"items\": [], \"name\": \"Soraka\", \"rarity\": 1, \"tier\": 2}, {\"character_id\": \"TFT5_Rakan\", \"items\": [], \"name\": \"\", \"rarity\": 2, \"tier\": 2}, {\"character_id\": \"TFT5_Nidalee\", \"items\": [2046, 48], \"name\": \"Nidalee\", \"rarity\": 2, \"tier\": 1}, {\"character_id\": \"TFT5_Karma\", \"items\": [37, 44, 48], \"name\": \"\", \"rarity\": 3, \"tier\": 2}, {\"character_id\": \"TFT5_Ivern\", \"items\": [45, 59], \"name\": \"Ivern\", \"rarity\": 3, \"tier\": 2}, {\"character_id\": \"TFT5_Fiddlesticks\", \"items\": [], \"name\": \"\", \"rarity\": 3, \"tier\": 2}, {\"character_id\": \"TFT5_Heimerdinger\", \"items\": [2023, 22], \"name\": \"\", \"rarity\": 4, \"tier\": 1}]')\n",
      "rate limit exceeded\n",
      "waiting 2 minutes\n",
      "('NA1_3876080784', 1619049083516, 2193.06884765625, 'Version 11.8.370.4668 (Apr 14 2021/14:31:39) [PUBLIC] <Releases/11.8>', 25, 37, 8, 4, 'NL0lFABlX7yZ5FN2zSyxu7I6IeUNRSC-H2WjxfL-8amaFpp-txQK3SrDM0yCUk6NViG9H5JbxOkSYg', 1979.9290771484375, 133, '[{\"name\": \"Duelist\", \"num_units\": 1, \"style\": 0, \"tier_current\": 0, \"tier_total\": 4}, {\"name\": \"Emperor\", \"num_units\": 1, \"style\": 3, \"tier_current\": 1, \"tier_total\": 1}, {\"name\": \"Fortune\", \"num_units\": 1, \"style\": 0, \"tier_current\": 0, \"tier_total\": 2}, {\"name\": \"Keeper\", \"num_units\": 2, \"style\": 1, \"tier_current\": 1, \"tier_total\": 3}, {\"name\": \"Set4_Assassin\", \"num_units\": 1, \"style\": 0, \"tier_current\": 0, \"tier_total\": 3}, {\"name\": \"Set4_Brawler\", \"num_units\": 1, \"style\": 0, \"tier_current\": 0, \"tier_total\": 4}, {\"name\": \"Set4_Dragonsoul\", \"num_units\": 1, \"style\": 0, \"tier_current\": 0, \"tier_total\": 3}, {\"name\": \"Set4_Slayer\", \"num_units\": 2, \"style\": 0, \"tier_current\": 0, \"tier_total\": 2}, {\"name\": \"Set4_Vanguard\", \"num_units\": 1, \"style\": 0, \"tier_current\": 0, \"tier_total\": 4}, {\"name\": \"Sharpshooter\", \"num_units\": 1, \"style\": 0, \"tier_current\": 0, \"tier_total\": 3}, {\"name\": \"Warlord\", \"num_units\": 9, \"style\": 4, \"tier_current\": 3, \"tier_total\": 3}]', '[{\"character_id\": \"TFT4_Nidalee\", \"chosen\": \"Warlord\", \"items\": [23, 39, 22], \"name\": \"\", \"rarity\": 0, \"tier\": 3}, {\"character_id\": \"TFT4_Garen\", \"items\": [57], \"name\": \"\", \"rarity\": 0, \"tier\": 2}, {\"character_id\": \"TFT4_JarvanIV\", \"items\": [], \"name\": \"\", \"rarity\": 1, \"tier\": 3}, {\"character_id\": \"TFT4_Vi\", \"items\": [35], \"name\": \"\", \"rarity\": 1, \"tier\": 3}, {\"character_id\": \"TFT4_Katarina\", \"items\": [37], \"name\": \"\", \"rarity\": 2, \"tier\": 2}, {\"character_id\": \"TFT4_Tryndamere\", \"items\": [29, 19, 11], \"name\": \"\", \"rarity\": 3, \"tier\": 2}, {\"character_id\": \"TFT4_Olaf\", \"items\": [78, 44, 3], \"name\": \"\", \"rarity\": 3, \"tier\": 2}, {\"character_id\": \"TFT4_Azir\", \"items\": [], \"name\": \"\", \"rarity\": 4, \"tier\": 2}]')\n",
      "rate limit exceeded\n",
      "waiting 2 minutes\n",
      "('NA1_4097887212', 1636515184175, 2165.95947265625, 'Version 11.22.406.3587 (Oct 29 2021/14:40:39) [PUBLIC] <Releases/11.22>', 42, 35, 8, 3, 'UVjO2ITLIBFWirGBaMaIhOwBsZDPBw9JVtR_7nTFEaZIBg3dEGBSJF-71JkCbPQ4_Bdf2zs1wTsaJA', 1921.0540771484375, 121, '[{\"name\": \"Set6_Academy\", \"num_units\": 4, \"style\": 2, \"tier_current\": 2, \"tier_total\": 4}, {\"name\": \"Set6_Arcanist\", \"num_units\": 2, \"style\": 1, \"tier_current\": 1, \"tier_total\": 4}, {\"name\": \"Set6_Bodyguard\", \"num_units\": 2, \"style\": 1, \"tier_current\": 1, \"tier_total\": 4}, {\"name\": \"Set6_Challenger\", \"num_units\": 2, \"style\": 1, \"tier_current\": 1, \"tier_total\": 4}, {\"name\": \"Set6_Chemtech\", \"num_units\": 1, \"style\": 0, \"tier_current\": 0, \"tier_total\": 4}, {\"name\": \"Set6_Enforcer\", \"num_units\": 2, \"style\": 1, \"tier_current\": 1, \"tier_total\": 2}, {\"name\": \"Set6_Innovator\", \"num_units\": 1, \"style\": 0, \"tier_current\": 0, \"tier_total\": 3}, {\"name\": \"Set6_Protector\", \"num_units\": 1, \"style\": 0, \"tier_current\": 0, \"tier_total\": 4}, {\"name\": \"Set6_Syndicate\", \"num_units\": 1, \"style\": 0, \"tier_current\": 0, \"tier_total\": 3}, {\"name\": \"Set6_Transformer\", \"num_units\": 1, \"style\": 3, \"tier_current\": 1, \"tier_total\": 1}]', '[{\"character_id\": \"TFT6_Garen\", \"items\": [], \"name\": \"\", \"rarity\": 0, \"tier\": 2}, {\"character_id\": \"TFT6_Leona\", \"items\": [47], \"name\": \"\", \"rarity\": 2, \"tier\": 2}, {\"character_id\": \"TFT6_Braum\", \"items\": [37], \"name\": \"\", \"rarity\": 3, \"tier\": 2}, {\"character_id\": \"TFT6_Lux\", \"items\": [44, 39, 19], \"name\": \"\", \"rarity\": 3, \"tier\": 2}, {\"character_id\": \"TFT6_Yone\", \"items\": [29, 25], \"name\": \"\", \"rarity\": 3, \"tier\": 2}, {\"character_id\": \"TFT6_Fiora\", \"items\": [99, 2, 59], \"name\": \"\", \"rarity\": 3, \"tier\": 2}, {\"character_id\": \"TFT6_Viktor\", \"items\": [], \"name\": \"\", \"rarity\": 4, \"tier\": 1}, {\"character_id\": \"TFT6_Jayce\", \"items\": [99, 2, 11], \"name\": \"\", \"rarity\": 4, \"tier\": 1}]')\n",
      "rate limit exceeded\n",
      "waiting 2 minutes\n",
      "('NA1_4103108600', 1636887762346, 2156.198486328125, 'Version 11.22.406.3587 (Oct 29 2021/14:40:39) [PUBLIC] <Releases/11.22>', 9, 38, 8, 2, '-AlJ3uEh6PXjpiOwg-CIPPRl11dgkTnQax9cBDOjXZ4IeHPF1-xXOmOQDX3MUV2qJIMYwWTKTJFCKA', 2147.957275390625, 135, '[{\"name\": \"Set6_Bruiser\", \"num_units\": 4, \"style\": 2, \"tier_current\": 2, \"tier_total\": 4}, {\"name\": \"Set6_Challenger\", \"num_units\": 1, \"style\": 0, \"tier_current\": 0, \"tier_total\": 4}, {\"name\": \"Set6_Chemtech\", \"num_units\": 3, \"style\": 1, \"tier_current\": 1, \"tier_total\": 4}, {\"name\": \"Set6_Clockwork\", \"num_units\": 2, \"style\": 1, \"tier_current\": 1, \"tier_total\": 3}, {\"name\": \"Set6_Enchanter\", \"num_units\": 1, \"style\": 0, \"tier_current\": 0, \"tier_total\": 4}, {\"name\": \"Set6_Enforcer\", \"num_units\": 1, \"style\": 0, \"tier_current\": 0, \"tier_total\": 2}, {\"name\": \"Set6_Glutton\", \"num_units\": 1, \"style\": 3, \"tier_current\": 1, \"tier_total\": 1}, {\"name\": \"Set6_Imperial\", \"num_units\": 1, \"style\": 0, \"tier_current\": 0, \"tier_total\": 2}, {\"name\": \"Set6_Mercenary\", \"num_units\": 1, \"style\": 0, \"tier_current\": 0, \"tier_total\": 3}, {\"name\": \"Set6_Mutant\", \"num_units\": 1, \"style\": 0, \"tier_current\": 0, \"tier_total\": 2}, {\"name\": \"Set6_Scrap\", \"num_units\": 1, \"style\": 0, \"tier_current\": 0, \"tier_total\": 3}, {\"name\": \"Set6_Sister\", \"num_units\": 2, \"style\": 3, \"tier_current\": 1, \"tier_total\": 1}, {\"name\": \"Set6_Twinshot\", \"num_units\": 2, \"style\": 1, \"tier_current\": 1, \"tier_total\": 3}]', '[{\"character_id\": \"TFT6_Camille\", \"items\": [18], \"name\": \"\", \"rarity\": 0, \"tier\": 2}, {\"character_id\": \"TFT6_Vi\", \"items\": [], \"name\": \"\", \"rarity\": 1, \"tier\": 2}, {\"character_id\": \"TFT6_Zac\", \"items\": [], \"name\": \"\", \"rarity\": 2, \"tier\": 2}, {\"character_id\": \"TFT6_DrMundo\", \"items\": [57], \"name\": \"\", \"rarity\": 3, \"tier\": 2}, {\"character_id\": \"TFT6_Orianna\", \"items\": [14], \"name\": \"\", \"rarity\": 3, \"tier\": 2}, {\"character_id\": \"TFT6_Urgot\", \"items\": [26, 12, 16], \"name\": \"\", \"rarity\": 3, \"tier\": 2}, {\"character_id\": \"TFT6_Jinx\", \"items\": [12, 23, 24], \"name\": \"\", \"rarity\": 4, \"tier\": 1}, {\"character_id\": \"TFT6_TahmKench\", \"items\": [], \"name\": \"\", \"rarity\": 4, \"tier\": 1}]')\n",
      "rate limit exceeded\n",
      "waiting 2 minutes\n",
      "('NA1_4098997248', 1636604868856, 2250.451171875, 'Version 11.22.406.3587 (Oct 29 2021/14:40:39) [PUBLIC] <Releases/11.22>', 1, 34, 8, 3, '3dTD9ZQlvubJcY5GL8g_IAsl4KxxHOPkHjAUnZF5mFCLTRJ6q10Sd1MCcReFU8dYz8s29zFAflvO7A', 2005.5887451171875, 100, '[{\"name\": \"Set6_Bodyguard\", \"num_units\": 1, \"style\": 0, \"tier_current\": 0, \"tier_total\": 4}, {\"name\": \"Set6_Bruiser\", \"num_units\": 2, \"style\": 1, \"tier_current\": 1, \"tier_total\": 4}, {\"name\": \"Set6_Chemtech\", \"num_units\": 2, \"style\": 0, \"tier_current\": 0, \"tier_total\": 4}, {\"name\": \"Set6_Enchanter\", \"num_units\": 2, \"style\": 1, \"tier_current\": 1, \"tier_total\": 4}, {\"name\": \"Set6_Enforcer\", \"num_units\": 1, \"style\": 0, \"tier_current\": 0, \"tier_total\": 2}, {\"name\": \"Set6_Innovator\", \"num_units\": 1, \"style\": 0, \"tier_current\": 0, \"tier_total\": 3}, {\"name\": \"Set6_Mutant\", \"num_units\": 1, \"style\": 0, \"tier_current\": 0, \"tier_total\": 2}, {\"name\": \"Set6_Scholar\", \"num_units\": 1, \"style\": 0, \"tier_current\": 0, \"tier_total\": 3}, {\"name\": \"Set6_Scrap\", \"num_units\": 2, \"style\": 1, \"tier_current\": 1, \"tier_total\": 3}, {\"name\": \"Set6_Sister\", \"num_units\": 2, \"style\": 3, \"tier_current\": 1, \"tier_total\": 1}, {\"name\": \"Set6_Socialite\", \"num_units\": 2, \"style\": 2, \"tier_current\": 2, \"tier_total\": 3}, {\"name\": \"Set6_Syndicate\", \"num_units\": 1, \"style\": 0, \"tier_current\": 0, \"tier_total\": 3}, {\"name\": \"Set6_Twinshot\", \"num_units\": 3, \"style\": 1, \"tier_current\": 1, \"tier_total\": 3}]', '[{\"character_id\": \"TFT6_Vi\", \"items\": [], \"name\": \"\", \"rarity\": 1, \"tier\": 2}, {\"character_id\": \"TFT6_Taric\", \"items\": [56, 36, 55], \"name\": \"\", \"rarity\": 2, \"tier\": 2}, {\"character_id\": \"TFT6_Braum\", \"items\": [], \"name\": \"\", \"rarity\": 3, \"tier\": 2}, {\"character_id\": \"TFT6_Seraphine\", \"items\": [], \"name\": \"\", \"rarity\": 3, \"tier\": 2}, {\"character_id\": \"TFT6_DrMundo\", \"items\": [], \"name\": \"\", \"rarity\": 3, \"tier\": 2}, {\"character_id\": \"TFT6_Janna\", \"items\": [14, 44], \"name\": \"Janna\", \"rarity\": 3, \"tier\": 2}, {\"character_id\": \"TFT6_Urgot\", \"items\": [16, 23], \"name\": \"\", \"rarity\": 3, \"tier\": 2}, {\"character_id\": \"TFT6_Jinx\", \"items\": [15, 11, 16], \"name\": \"\", \"rarity\": 4, \"tier\": 2}]')\n",
      "rate limit exceeded\n",
      "waiting 2 minutes\n"
     ]
    },
    {
     "name": "stdout",
     "output_type": "stream",
     "text": [
      "('NA1_3801113065', 1614180282884, 2107.660888671875, 'Version 11.4.360.0513 (Feb 18 2021/13:57:42) [PUBLIC] <Releases/11.4>', 21, 31, 9, 5, '46qaFJWY3mhldh3wrpC-ZMSrmm51m6zcn6PxR96G4ktCWGwYiOy8vx29m8xPzmJucklsZ3JXAu14TQ', 1752.1162109375, 95, '[{\"name\": \"Boss\", \"num_units\": 1, \"style\": 3, \"tier_current\": 1, \"tier_total\": 1}, {\"name\": \"Divine\", \"num_units\": 1, \"style\": 0, \"tier_current\": 0, \"tier_total\": 4}, {\"name\": \"Duelist\", \"num_units\": 3, \"style\": 1, \"tier_current\": 1, \"tier_total\": 4}, {\"name\": \"Emperor\", \"num_units\": 1, \"style\": 3, \"tier_current\": 1, \"tier_total\": 1}, {\"name\": \"Fortune\", \"num_units\": 1, \"style\": 0, \"tier_current\": 0, \"tier_total\": 2}, {\"name\": \"Keeper\", \"num_units\": 2, \"style\": 1, \"tier_current\": 1, \"tier_total\": 3}, {\"name\": \"Set4_Assassin\", \"num_units\": 1, \"style\": 0, \"tier_current\": 0, \"tier_total\": 3}, {\"name\": \"Set4_Brawler\", \"num_units\": 1, \"style\": 0, \"tier_current\": 0, \"tier_total\": 4}, {\"name\": \"Set4_Daredevil\", \"num_units\": 1, \"style\": 3, \"tier_current\": 1, \"tier_total\": 1}, {\"name\": \"Set4_Slayer\", \"num_units\": 2, \"style\": 0, \"tier_current\": 0, \"tier_total\": 2}, {\"name\": \"Set4_Vanguard\", \"num_units\": 1, \"style\": 0, \"tier_current\": 0, \"tier_total\": 4}, {\"name\": \"Sharpshooter\", \"num_units\": 2, \"style\": 1, \"tier_current\": 1, \"tier_total\": 3}, {\"name\": \"Warlord\", \"num_units\": 8, \"style\": 3, \"tier_current\": 2, \"tier_total\": 3}]', '[{\"character_id\": \"TFT4_Nidalee\", \"items\": [], \"name\": \"\", \"rarity\": 0, \"tier\": 2}, {\"character_id\": \"TFT4_Garen\", \"items\": [], \"name\": \"\", \"rarity\": 0, \"tier\": 2}, {\"character_id\": \"TFT4_JarvanIV\", \"items\": [], \"name\": \"\", \"rarity\": 1, \"tier\": 1}, {\"character_id\": \"TFT4_Katarina\", \"chosen\": \"Warlord\", \"items\": [13], \"name\": \"\", \"rarity\": 2, \"tier\": 2}, {\"character_id\": \"TFT4_Tryndamere\", \"items\": [], \"name\": \"\", \"rarity\": 3, \"tier\": 1}, {\"character_id\": \"TFT4_Sett\", \"items\": [28, 39, 33], \"name\": \"\", \"rarity\": 4, \"tier\": 1}, {\"character_id\": \"TFT4_Azir\", \"items\": [], \"name\": \"\", \"rarity\": 4, \"tier\": 1}, {\"character_id\": \"TFT4_LeeSin\", \"items\": [44, 77], \"name\": \"\", \"rarity\": 4, \"tier\": 1}, {\"character_id\": \"TFT4_Samira\", \"items\": [78, 46], \"name\": \"\", \"rarity\": 4, \"tier\": 1}]')\n",
      "rate limit exceeded\n",
      "waiting 2 minutes\n",
      "('NA1_4108872703', 1637295516718, 2253.798095703125, 'Version 11.23.409.0111 (Nov 12 2021/12:01:09) [PUBLIC] <Releases/11.23>', 11, 33, 7, 6, 'Z7eBK63pKoyfeqRO5Lp9oUHnrFN8JvniAnAd63-FLNk58z1gYKalq2cVkDuluBn_rUoD4mOJh1Tyog', 1964.515869140625, 47, '[{\"name\": \"Set6_Arcanist\", \"num_units\": 2, \"style\": 1, \"tier_current\": 1, \"tier_total\": 4}, {\"name\": \"Set6_Bodyguard\", \"num_units\": 1, \"style\": 0, \"tier_current\": 0, \"tier_total\": 4}, {\"name\": \"Set6_Enchanter\", \"num_units\": 2, \"style\": 1, \"tier_current\": 1, \"tier_total\": 4}, {\"name\": \"Set6_Innovator\", \"num_units\": 1, \"style\": 0, \"tier_current\": 0, \"tier_total\": 3}, {\"name\": \"Set6_Scholar\", \"num_units\": 2, \"style\": 1, \"tier_current\": 1, \"tier_total\": 3}, {\"name\": \"Set6_Scrap\", \"num_units\": 2, \"style\": 1, \"tier_current\": 1, \"tier_total\": 3}, {\"name\": \"Set6_Sniper\", \"num_units\": 1, \"style\": 0, \"tier_current\": 0, \"tier_total\": 3}, {\"name\": \"Set6_Socialite\", \"num_units\": 1, \"style\": 1, \"tier_current\": 1, \"tier_total\": 3}, {\"name\": \"Set6_Yordle\", \"num_units\": 6, \"style\": 3, \"tier_current\": 2, \"tier_total\": 2}]', '[{\"character_id\": \"TFT6_Poppy\", \"items\": [77, 37], \"name\": \"\", \"rarity\": 0, \"tier\": 3}, {\"character_id\": \"TFT6_Ziggs\", \"items\": [], \"name\": \"\", \"rarity\": 0, \"tier\": 2}, {\"character_id\": \"TFT6_Tristana\", \"items\": [], \"name\": \"\", \"rarity\": 1, \"tier\": 3}, {\"character_id\": \"TFT6_Lulu\", \"items\": [], \"name\": \"\", \"rarity\": 1, \"tier\": 3}, {\"character_id\": \"TFT6_Vex\", \"items\": [27, 66, 69], \"name\": \"\", \"rarity\": 2, \"tier\": 2}, {\"character_id\": \"TFT6_Heimerdinger\", \"items\": [39, 39, 14], \"name\": \"\", \"rarity\": 2, \"tier\": 3}, {\"character_id\": \"TFT6_Janna\", \"items\": [8], \"name\": \"Janna\", \"rarity\": 3, \"tier\": 2}]')\n",
      "rate limit exceeded\n",
      "waiting 2 minutes\n",
      "('NA1_4099640685', 1636624785399, 2153.28466796875, 'Version 11.22.406.3587 (Oct 29 2021/14:40:39) [PUBLIC] <Releases/11.22>', 12, 31, 8, 7, 'T9q1CMjHbmDbOwD4_sYjVqh_RXsjeoq6BGR01NorWr7iF88o74t2W8p42N-9ggDQDXTdYv5Xzyyn-w', 1686.01171875, 89, '[{\"name\": \"Set6_Challenger\", \"num_units\": 1, \"style\": 0, \"tier_current\": 0, \"tier_total\": 4}, {\"name\": \"Set6_Clockwork\", \"num_units\": 4, \"style\": 3, \"tier_current\": 2, \"tier_total\": 3}, {\"name\": \"Set6_Enchanter\", \"num_units\": 3, \"style\": 2, \"tier_current\": 2, \"tier_total\": 4}, {\"name\": \"Set6_Innovator\", \"num_units\": 1, \"style\": 0, \"tier_current\": 0, \"tier_total\": 3}, {\"name\": \"Set6_Mercenary\", \"num_units\": 1, \"style\": 0, \"tier_current\": 0, \"tier_total\": 3}, {\"name\": \"Set6_Scholar\", \"num_units\": 1, \"style\": 0, \"tier_current\": 0, \"tier_total\": 3}, {\"name\": \"Set6_Scrap\", \"num_units\": 1, \"style\": 0, \"tier_current\": 0, \"tier_total\": 3}, {\"name\": \"Set6_Sniper\", \"num_units\": 4, \"style\": 3, \"tier_current\": 2, \"tier_total\": 3}, {\"name\": \"Set6_Socialite\", \"num_units\": 1, \"style\": 1, \"tier_current\": 1, \"tier_total\": 3}, {\"name\": \"Set6_Yordle\", \"num_units\": 1, \"style\": 0, \"tier_current\": 0, \"tier_total\": 2}]', '[{\"character_id\": \"TFT6_Camille\", \"items\": [], \"name\": \"\", \"rarity\": 0, \"tier\": 1}, {\"character_id\": \"TFT6_Tristana\", \"items\": [23], \"name\": \"\", \"rarity\": 1, \"tier\": 2}, {\"character_id\": \"TFT6_Zilean\", \"items\": [2199], \"name\": \"\", \"rarity\": 1, \"tier\": 2}, {\"character_id\": \"TFT6_MissFortune\", \"items\": [], \"name\": \"\", \"rarity\": 2, \"tier\": 1}, {\"character_id\": \"TFT6_Taric\", \"items\": [77, 47, 36], \"name\": \"\", \"rarity\": 2, \"tier\": 2}, {\"character_id\": \"TFT6_Jhin\", \"items\": [19, 29, 11], \"name\": \"\", \"rarity\": 3, \"tier\": 1}, {\"character_id\": \"TFT6_Orianna\", \"items\": [], \"name\": \"\", \"rarity\": 3, \"tier\": 1}, {\"character_id\": \"TFT6_Janna\", \"items\": [], \"name\": \"Janna\", \"rarity\": 3, \"tier\": 2}]')\n",
      "rate limit exceeded\n",
      "waiting 2 minutes\n",
      "('NA1_3858522205', 1617893413547, 2267.755126953125, 'Version 11.7.366.7612 (Mar 25 2021/15:27:52) [PUBLIC] <Releases/11.7>', 4, 40, 8, 2, 'GvFWrSo8sucuCFJ1pR3DdCWqzRMkcdTDgtxbds4ZeWPp3X4Wskow38g3TrsIPbQT8vQtQg2pAONFRg', 2255.208740234375, 127, '[{\"name\": \"Cultist\", \"num_units\": 9, \"style\": 4, \"tier_current\": 3, \"tier_total\": 3}, {\"name\": \"Duelist\", \"num_units\": 1, \"style\": 0, \"tier_current\": 0, \"tier_total\": 4}, {\"name\": \"Keeper\", \"num_units\": 1, \"style\": 0, \"tier_current\": 0, \"tier_total\": 3}, {\"name\": \"Set4_Assassin\", \"num_units\": 1, \"style\": 0, \"tier_current\": 0, \"tier_total\": 3}, {\"name\": \"Set4_Dragonsoul\", \"num_units\": 1, \"style\": 0, \"tier_current\": 0, \"tier_total\": 3}, {\"name\": \"Set4_Elderwood\", \"num_units\": 1, \"style\": 0, \"tier_current\": 0, \"tier_total\": 3}, {\"name\": \"Set4_Mage\", \"num_units\": 1, \"style\": 0, \"tier_current\": 0, \"tier_total\": 3}, {\"name\": \"Set4_Mystic\", \"num_units\": 1, \"style\": 0, \"tier_current\": 0, \"tier_total\": 3}, {\"name\": \"Set4_Slayer\", \"num_units\": 1, \"style\": 0, \"tier_current\": 0, \"tier_total\": 2}, {\"name\": \"Set4_Syphoner\", \"num_units\": 1, \"style\": 0, \"tier_current\": 0, \"tier_total\": 2}, {\"name\": \"Set4_Vanguard\", \"num_units\": 2, \"style\": 1, \"tier_current\": 1, \"tier_total\": 4}, {\"name\": \"Sharpshooter\", \"num_units\": 1, \"style\": 0, \"tier_current\": 0, \"tier_total\": 3}]', '[{\"character_id\": \"TFT4_Elise\", \"items\": [23, 77, 57], \"name\": \"\", \"rarity\": 0, \"tier\": 2}, {\"character_id\": \"TFT4_TwistedFate\", \"chosen\": \"Cultist\", \"items\": [29, 12], \"name\": \"\", \"rarity\": 0, \"tier\": 3}, {\"character_id\": \"TFT4_Pyke\", \"items\": [], \"name\": \"\", \"rarity\": 1, \"tier\": 2}, {\"character_id\": \"TFT4_Vladimir\", \"items\": [38, 57], \"name\": \"\", \"rarity\": 1, \"tier\": 2}, {\"character_id\": \"TFT4_Kalista\", \"items\": [], \"name\": \"\", \"rarity\": 2, \"tier\": 2}, {\"character_id\": \"TFT4_Sivir\", \"items\": [68], \"name\": \"\", \"rarity\": 2, \"tier\": 2}, {\"character_id\": \"TFT4_Aatrox\", \"items\": [47], \"name\": \"\", \"rarity\": 3, \"tier\": 2}, {\"character_id\": \"TFT4_Zilean\", \"items\": [58, 36], \"name\": \"\", \"rarity\": 4, \"tier\": 1}]')\n",
      "rate limit exceeded\n",
      "waiting 2 minutes\n"
     ]
    }
   ],
   "source": [
    "matches = match_data_collector(key, username, password)"
   ]
  },
  {
   "cell_type": "code",
   "execution_count": 28,
   "metadata": {},
   "outputs": [
    {
     "data": {
      "text/plain": [
       "7928"
      ]
     },
     "execution_count": 28,
     "metadata": {},
     "output_type": "execute_result"
    }
   ],
   "source": [
    "len(matches)"
   ]
  },
  {
   "cell_type": "code",
   "execution_count": 27,
   "metadata": {},
   "outputs": [],
   "source": [
    "adding_to_db(username, password, query8, matches)"
   ]
  },
  {
   "cell_type": "code",
   "execution_count": null,
   "metadata": {},
   "outputs": [],
   "source": []
  }
 ],
 "metadata": {
  "kernelspec": {
   "display_name": "Python 3",
   "language": "python",
   "name": "python3"
  },
  "language_info": {
   "codemirror_mode": {
    "name": "ipython",
    "version": 3
   },
   "file_extension": ".py",
   "mimetype": "text/x-python",
   "name": "python",
   "nbconvert_exporter": "python",
   "pygments_lexer": "ipython3",
   "version": "3.8.5"
  }
 },
 "nbformat": 4,
 "nbformat_minor": 2
}
