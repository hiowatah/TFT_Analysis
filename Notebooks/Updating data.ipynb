{
 "cells": [
  {
   "cell_type": "code",
   "execution_count": 4,
   "metadata": {},
   "outputs": [],
   "source": [
    "import sqlite3\n",
    "import pandas as pd\n",
    "import numpy as np\n",
    "from API_Key import key, username, password\n",
    "import requests\n",
    "import time\n",
    "import psycopg2 as pg2\n",
    "import json"
   ]
  },
  {
   "cell_type": "code",
   "execution_count": 5,
   "metadata": {},
   "outputs": [],
   "source": [
    "# Creating connection to postgresql and reading in table\n",
    "conn = pg2.connect(database='TFT', user=username, password=password)\n",
    "df = pd.read_sql(sql=(\"SELECT puuid FROM userids\"),con=conn)"
   ]
  },
  {
   "cell_type": "code",
   "execution_count": 6,
   "metadata": {},
   "outputs": [
    {
     "data": {
      "text/html": [
       "<div>\n",
       "<style scoped>\n",
       "    .dataframe tbody tr th:only-of-type {\n",
       "        vertical-align: middle;\n",
       "    }\n",
       "\n",
       "    .dataframe tbody tr th {\n",
       "        vertical-align: top;\n",
       "    }\n",
       "\n",
       "    .dataframe thead th {\n",
       "        text-align: right;\n",
       "    }\n",
       "</style>\n",
       "<table border=\"1\" class=\"dataframe\">\n",
       "  <thead>\n",
       "    <tr style=\"text-align: right;\">\n",
       "      <th></th>\n",
       "      <th>puuid</th>\n",
       "    </tr>\n",
       "  </thead>\n",
       "  <tbody>\n",
       "    <tr>\n",
       "      <th>0</th>\n",
       "      <td>NlnF3MD3Oql-eZ1_wsDTvVZmjbRkvXxZmqHs6J-DICnAw3...</td>\n",
       "    </tr>\n",
       "    <tr>\n",
       "      <th>1</th>\n",
       "      <td>52KszL3rKcjmYlw_JVhvyNaxSrTTJ7s-v8n_DGI9Ee7zzu...</td>\n",
       "    </tr>\n",
       "    <tr>\n",
       "      <th>2</th>\n",
       "      <td>lulnZYdr9TQqEMn4apmrsszlm2E7UYNNn8MvCQVDP43uJm...</td>\n",
       "    </tr>\n",
       "    <tr>\n",
       "      <th>3</th>\n",
       "      <td>Q77ztFel8tbR1wy9gQ82L3HC1LzjWDIsJ9oi90sSQbNUaS...</td>\n",
       "    </tr>\n",
       "    <tr>\n",
       "      <th>4</th>\n",
       "      <td>SVA-NwBkEjZIiPBY5eGBD_h8S87Lrm4ZLmEloTF_tC4yyl...</td>\n",
       "    </tr>\n",
       "    <tr>\n",
       "      <th>...</th>\n",
       "      <td>...</td>\n",
       "    </tr>\n",
       "    <tr>\n",
       "      <th>4720</th>\n",
       "      <td>TW3X4jfqMWusBh3WnxkZ0dV-naWiDRTOcdz52bS0wWQCgC...</td>\n",
       "    </tr>\n",
       "    <tr>\n",
       "      <th>4721</th>\n",
       "      <td>Cw__yB_QwrIy5jkJTDOzRQwnDahuLvJPCxOXgowdjfT2g-...</td>\n",
       "    </tr>\n",
       "    <tr>\n",
       "      <th>4722</th>\n",
       "      <td>SX739RmR79yofIWr3_937k5PPyswPHmf4JBVKwSvtxbgeu...</td>\n",
       "    </tr>\n",
       "    <tr>\n",
       "      <th>4723</th>\n",
       "      <td>C-VdSzR56FctSoPqVF0aiEJ-D3UQ22qiSCwAP1e--rEmN_...</td>\n",
       "    </tr>\n",
       "    <tr>\n",
       "      <th>4724</th>\n",
       "      <td>UWM6FkrJp9g5yXEee0Sif2iCcJsUQg6Cez-Iqct1zRH5Ou...</td>\n",
       "    </tr>\n",
       "  </tbody>\n",
       "</table>\n",
       "<p>4725 rows × 1 columns</p>\n",
       "</div>"
      ],
      "text/plain": [
       "                                                  puuid\n",
       "0     NlnF3MD3Oql-eZ1_wsDTvVZmjbRkvXxZmqHs6J-DICnAw3...\n",
       "1     52KszL3rKcjmYlw_JVhvyNaxSrTTJ7s-v8n_DGI9Ee7zzu...\n",
       "2     lulnZYdr9TQqEMn4apmrsszlm2E7UYNNn8MvCQVDP43uJm...\n",
       "3     Q77ztFel8tbR1wy9gQ82L3HC1LzjWDIsJ9oi90sSQbNUaS...\n",
       "4     SVA-NwBkEjZIiPBY5eGBD_h8S87Lrm4ZLmEloTF_tC4yyl...\n",
       "...                                                 ...\n",
       "4720  TW3X4jfqMWusBh3WnxkZ0dV-naWiDRTOcdz52bS0wWQCgC...\n",
       "4721  Cw__yB_QwrIy5jkJTDOzRQwnDahuLvJPCxOXgowdjfT2g-...\n",
       "4722  SX739RmR79yofIWr3_937k5PPyswPHmf4JBVKwSvtxbgeu...\n",
       "4723  C-VdSzR56FctSoPqVF0aiEJ-D3UQ22qiSCwAP1e--rEmN_...\n",
       "4724  UWM6FkrJp9g5yXEee0Sif2iCcJsUQg6Cez-Iqct1zRH5Ou...\n",
       "\n",
       "[4725 rows x 1 columns]"
      ]
     },
     "execution_count": 6,
     "metadata": {},
     "output_type": "execute_result"
    }
   ],
   "source": [
    "df"
   ]
  },
  {
   "cell_type": "code",
   "execution_count": null,
   "metadata": {},
   "outputs": [],
   "source": []
  }
 ],
 "metadata": {
  "kernelspec": {
   "display_name": "Python 3",
   "language": "python",
   "name": "python3"
  },
  "language_info": {
   "codemirror_mode": {
    "name": "ipython",
    "version": 3
   },
   "file_extension": ".py",
   "mimetype": "text/x-python",
   "name": "python",
   "nbconvert_exporter": "python",
   "pygments_lexer": "ipython3",
   "version": "3.8.5"
  }
 },
 "nbformat": 4,
 "nbformat_minor": 4
}
