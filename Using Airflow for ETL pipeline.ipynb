{
 "cells": [
  {
   "cell_type": "code",
   "execution_count": 2,
   "metadata": {},
   "outputs": [],
   "source": [
    "# airflow related\n",
    "from airflow import DAG\n",
    "from airflow.operators.python import PythonOperator\n",
    "from airflow.operators.bash import BashOperator\n",
    "# other packages\n",
    "from datetime import datetime\n",
    "from datetime import timedelta"
   ]
  },
  {
   "cell_type": "code",
   "execution_count": 3,
   "metadata": {},
   "outputs": [],
   "source": [
    "default_args = {\n",
    "    'owner': 'airflow',\n",
    "    'depends_on_past': False,\n",
    "    'start_date': datetime(2021, 2, 1),\n",
    "    'email_on_failure': False,\n",
    "    'email_on_retry': False,\n",
    "    'schedule_interval': '@daily',\n",
    "    'retries': 1,\n",
    "    'retry_delay': timedelta(seconds=5),\n",
    "}"
   ]
  },
  {
   "cell_type": "code",
   "execution_count": 5,
   "metadata": {},
   "outputs": [],
   "source": [
    "dag = DAG(\n",
    "  dag_id='my_dag', \n",
    "  description='Simple tutorial DAG',\n",
    "  default_args=default_args)"
   ]
  },
  {
   "cell_type": "code",
   "execution_count": 6,
   "metadata": {},
   "outputs": [],
   "source": [
    "def updating_DB():\n",
    "    pass"
   ]
  },
  {
   "cell_type": "code",
   "execution_count": 7,
   "metadata": {},
   "outputs": [],
   "source": [
    "def running_spark_etl():\n",
    "    pass"
   ]
  },
  {
   "cell_type": "code",
   "execution_count": 8,
   "metadata": {},
   "outputs": [],
   "source": [
    "src1_s3 = PythonOperator(\n",
    "  task_id='updating_DB', \n",
    "  python_callable=updating_DB, \n",
    "  dag=dag)"
   ]
  },
  {
   "cell_type": "code",
   "execution_count": 10,
   "metadata": {},
   "outputs": [],
   "source": [
    "spark_job = BashOperator(\n",
    "  task_id='running_spark_etl',\n",
    "  bash_command='spark-submit --master spark://localhost:7077 spark_job.py',\n",
    "  dag = dag)"
   ]
  },
  {
   "cell_type": "code",
   "execution_count": null,
   "metadata": {},
   "outputs": [
    {
     "name": "stdout",
     "output_type": "stream",
     "text": [
      "  ____________       _____________\n",
      " ____    |__( )_________  __/__  /________      __\n",
      "____  /| |_  /__  ___/_  /_ __  /_  __ \\_ | /| / /\n",
      "___  ___ |  / _  /   _  __/ _  / / /_/ /_ |/ |/ /\n",
      " _/_/  |_/_/  /_/    /_/    /_/  \\____/____/|__/\n",
      "[2021-02-01 18:00:30,305] {dagbag.py:440} INFO - Filling up the DagBag from /dev/null\n",
      "Running the Gunicorn Server with:\n",
      "Workers: 4 sync\n",
      "Host: 0.0.0.0:8080\n",
      "Timeout: 120\n",
      "Logfiles: - -\n",
      "Access Logformat: \n",
      "=================================================================            \n",
      "[2021-02-01 18:00:32 -0500] [11631] [INFO] Starting gunicorn 19.10.0\n",
      "[2021-02-01 18:00:32 -0500] [11631] [INFO] Listening at: http://0.0.0.0:8080 (11631)\n",
      "[2021-02-01 18:00:32 -0500] [11631] [INFO] Using worker: sync\n",
      "[2021-02-01 18:00:32 -0500] [11634] [INFO] Booting worker with pid: 11634\n",
      "[2021-02-01 18:00:32 -0500] [11635] [INFO] Booting worker with pid: 11635\n",
      "[2021-02-01 18:00:32 -0500] [11636] [INFO] Booting worker with pid: 11636\n",
      "[2021-02-01 18:00:32 -0500] [11637] [INFO] Booting worker with pid: 11637\n",
      "127.0.0.1 - - [01/Feb/2021:18:00:41 -0500] \"GET / HTTP/1.1\" 302 217 \"http://localhost:8888/\" \"Mozilla/5.0 (Macintosh; Intel Mac OS X 10_14_6) AppleWebKit/537.36 (KHTML, like Gecko) Chrome/88.0.4324.96 Safari/537.36\"\n",
      "127.0.0.1 - - [01/Feb/2021:18:00:41 -0500] \"GET /home HTTP/1.1\" 200 210359 \"http://localhost:8888/\" \"Mozilla/5.0 (Macintosh; Intel Mac OS X 10_14_6) AppleWebKit/537.36 (KHTML, like Gecko) Chrome/88.0.4324.96 Safari/537.36\"\n",
      "127.0.0.1 - - [01/Feb/2021:18:00:41 -0500] \"GET /static/appbuilder/css/bootstrap.min.css HTTP/1.1\" 304 0 \"http://0.0.0.0:8080/home\" \"Mozilla/5.0 (Macintosh; Intel Mac OS X 10_14_6) AppleWebKit/537.36 (KHTML, like Gecko) Chrome/88.0.4324.96 Safari/537.36\"\n",
      "127.0.0.1 - - [01/Feb/2021:18:00:41 -0500] \"GET /static/appbuilder/css/font-awesome.min.css HTTP/1.1\" 304 0 \"http://0.0.0.0:8080/home\" \"Mozilla/5.0 (Macintosh; Intel Mac OS X 10_14_6) AppleWebKit/537.36 (KHTML, like Gecko) Chrome/88.0.4324.96 Safari/537.36\"\n",
      "127.0.0.1 - - [01/Feb/2021:18:00:41 -0500] \"GET /static/appbuilder/css/flags/flags16.css HTTP/1.1\" 304 0 \"http://0.0.0.0:8080/home\" \"Mozilla/5.0 (Macintosh; Intel Mac OS X 10_14_6) AppleWebKit/537.36 (KHTML, like Gecko) Chrome/88.0.4324.96 Safari/537.36\"\n",
      "127.0.0.1 - - [01/Feb/2021:18:00:41 -0500] \"GET /static/appbuilder/datepicker/bootstrap-datepicker.css HTTP/1.1\" 304 0 \"http://0.0.0.0:8080/home\" \"Mozilla/5.0 (Macintosh; Intel Mac OS X 10_14_6) AppleWebKit/537.36 (KHTML, like Gecko) Chrome/88.0.4324.96 Safari/537.36\"\n",
      "127.0.0.1 - - [01/Feb/2021:18:00:41 -0500] \"GET /static/appbuilder/select2/select2.css HTTP/1.1\" 304 0 \"http://0.0.0.0:8080/home\" \"Mozilla/5.0 (Macintosh; Intel Mac OS X 10_14_6) AppleWebKit/537.36 (KHTML, like Gecko) Chrome/88.0.4324.96 Safari/537.36\"\n",
      "127.0.0.1 - - [01/Feb/2021:18:00:41 -0500] \"GET /static/appbuilder/css/ab.css HTTP/1.1\" 304 0 \"http://0.0.0.0:8080/home\" \"Mozilla/5.0 (Macintosh; Intel Mac OS X 10_14_6) AppleWebKit/537.36 (KHTML, like Gecko) Chrome/88.0.4324.96 Safari/537.36\"\n",
      "127.0.0.1 - - [01/Feb/2021:18:00:41 -0500] \"GET /static/dist/airflowDefaultTheme.42f8d9f03e53e5b06087.css HTTP/1.1\" 304 0 \"http://0.0.0.0:8080/home\" \"Mozilla/5.0 (Macintosh; Intel Mac OS X 10_14_6) AppleWebKit/537.36 (KHTML, like Gecko) Chrome/88.0.4324.96 Safari/537.36\"\n",
      "127.0.0.1 - - [01/Feb/2021:18:00:41 -0500] \"GET /static/dist/materialIcons.c86800f70eece0ad5c3e.css HTTP/1.1\" 304 0 \"http://0.0.0.0:8080/home\" \"Mozilla/5.0 (Macintosh; Intel Mac OS X 10_14_6) AppleWebKit/537.36 (KHTML, like Gecko) Chrome/88.0.4324.96 Safari/537.36\"\n",
      "127.0.0.1 - - [01/Feb/2021:18:00:41 -0500] \"GET /static/dist/loadingDots.f9d109f104217ec97cea.css HTTP/1.1\" 304 0 \"http://0.0.0.0:8080/home\" \"Mozilla/5.0 (Macintosh; Intel Mac OS X 10_14_6) AppleWebKit/537.36 (KHTML, like Gecko) Chrome/88.0.4324.96 Safari/537.36\"\n",
      "127.0.0.1 - - [01/Feb/2021:18:00:41 -0500] \"GET /static/dist/main.559baa8766c31899215b.css HTTP/1.1\" 304 0 \"http://0.0.0.0:8080/home\" \"Mozilla/5.0 (Macintosh; Intel Mac OS X 10_14_6) AppleWebKit/537.36 (KHTML, like Gecko) Chrome/88.0.4324.96 Safari/537.36\"\n",
      "127.0.0.1 - - [01/Feb/2021:18:00:41 -0500] \"GET /static/dist/bootstrap-datetimepicker.min.css HTTP/1.1\" 304 0 \"http://0.0.0.0:8080/home\" \"Mozilla/5.0 (Macintosh; Intel Mac OS X 10_14_6) AppleWebKit/537.36 (KHTML, like Gecko) Chrome/88.0.4324.96 Safari/537.36\"\n",
      "127.0.0.1 - - [01/Feb/2021:18:00:41 -0500] \"GET /static/dist/switch.07b9373717bbc645aa21.css HTTP/1.1\" 304 0 \"http://0.0.0.0:8080/home\" \"Mozilla/5.0 (Macintosh; Intel Mac OS X 10_14_6) AppleWebKit/537.36 (KHTML, like Gecko) Chrome/88.0.4324.96 Safari/537.36\"\n",
      "127.0.0.1 - - [01/Feb/2021:18:00:41 -0500] \"GET /static/dist/dags.940d19fa177ddbedb680.css HTTP/1.1\" 304 0 \"http://0.0.0.0:8080/home\" \"Mozilla/5.0 (Macintosh; Intel Mac OS X 10_14_6) AppleWebKit/537.36 (KHTML, like Gecko) Chrome/88.0.4324.96 Safari/537.36\"\n",
      "127.0.0.1 - - [01/Feb/2021:18:00:41 -0500] \"GET /static/dist/flash.82c9e653b17d76b0b572.css HTTP/1.1\" 304 0 \"http://0.0.0.0:8080/home\" \"Mozilla/5.0 (Macintosh; Intel Mac OS X 10_14_6) AppleWebKit/537.36 (KHTML, like Gecko) Chrome/88.0.4324.96 Safari/537.36\"\n",
      "127.0.0.1 - - [01/Feb/2021:18:00:41 -0500] \"GET /static/appbuilder/js/jquery-latest.js HTTP/1.1\" 304 0 \"http://0.0.0.0:8080/home\" \"Mozilla/5.0 (Macintosh; Intel Mac OS X 10_14_6) AppleWebKit/537.36 (KHTML, like Gecko) Chrome/88.0.4324.96 Safari/537.36\"\n",
      "127.0.0.1 - - [01/Feb/2021:18:00:41 -0500] \"GET /static/appbuilder/js/ab_filters.js HTTP/1.1\" 304 0 \"http://0.0.0.0:8080/home\" \"Mozilla/5.0 (Macintosh; Intel Mac OS X 10_14_6) AppleWebKit/537.36 (KHTML, like Gecko) Chrome/88.0.4324.96 Safari/537.36\"\n",
      "127.0.0.1 - - [01/Feb/2021:18:00:41 -0500] \"GET /static/appbuilder/js/ab_actions.js HTTP/1.1\" 304 0 \"http://0.0.0.0:8080/home\" \"Mozilla/5.0 (Macintosh; Intel Mac OS X 10_14_6) AppleWebKit/537.36 (KHTML, like Gecko) Chrome/88.0.4324.96 Safari/537.36\"\n",
      "127.0.0.1 - - [01/Feb/2021:18:00:41 -0500] \"GET /static/appbuilder/js/bootstrap.min.js HTTP/1.1\" 304 0 \"http://0.0.0.0:8080/home\" \"Mozilla/5.0 (Macintosh; Intel Mac OS X 10_14_6) AppleWebKit/537.36 (KHTML, like Gecko) Chrome/88.0.4324.96 Safari/537.36\"\n",
      "127.0.0.1 - - [01/Feb/2021:18:00:41 -0500] \"GET /static/appbuilder/datepicker/bootstrap-datepicker.js HTTP/1.1\" 304 0 \"http://0.0.0.0:8080/home\" \"Mozilla/5.0 (Macintosh; Intel Mac OS X 10_14_6) AppleWebKit/537.36 (KHTML, like Gecko) Chrome/88.0.4324.96 Safari/537.36\"\n",
      "127.0.0.1 - - [01/Feb/2021:18:00:41 -0500] \"GET /static/appbuilder/js/ab.js HTTP/1.1\" 304 0 \"http://0.0.0.0:8080/home\" \"Mozilla/5.0 (Macintosh; Intel Mac OS X 10_14_6) AppleWebKit/537.36 (KHTML, like Gecko) Chrome/88.0.4324.96 Safari/537.36\"\n",
      "127.0.0.1 - - [01/Feb/2021:18:00:41 -0500] \"GET /static/appbuilder/select2/select2.js HTTP/1.1\" 304 0 \"http://0.0.0.0:8080/home\" \"Mozilla/5.0 (Macintosh; Intel Mac OS X 10_14_6) AppleWebKit/537.36 (KHTML, like Gecko) Chrome/88.0.4324.96 Safari/537.36\"\n",
      "127.0.0.1 - - [01/Feb/2021:18:00:41 -0500] \"GET /static/dist/moment.c61e3ab5bc7680097402.js HTTP/1.1\" 304 0 \"http://0.0.0.0:8080/home\" \"Mozilla/5.0 (Macintosh; Intel Mac OS X 10_14_6) AppleWebKit/537.36 (KHTML, like Gecko) Chrome/88.0.4324.96 Safari/537.36\"\n",
      "127.0.0.1 - - [01/Feb/2021:18:00:41 -0500] \"GET /static/dist/main.559baa8766c31899215b.js HTTP/1.1\" 304 0 \"http://0.0.0.0:8080/home\" \"Mozilla/5.0 (Macintosh; Intel Mac OS X 10_14_6) AppleWebKit/537.36 (KHTML, like Gecko) Chrome/88.0.4324.96 Safari/537.36\"\n",
      "127.0.0.1 - - [01/Feb/2021:18:00:41 -0500] \"GET /static/dist/bootstrap-datetimepicker.min.js HTTP/1.1\" 304 0 \"http://0.0.0.0:8080/home\" \"Mozilla/5.0 (Macintosh; Intel Mac OS X 10_14_6) AppleWebKit/537.36 (KHTML, like Gecko) Chrome/88.0.4324.96 Safari/537.36\"\n",
      "127.0.0.1 - - [01/Feb/2021:18:00:41 -0500] \"GET /static/dist/bootstrap3-typeahead.min.js HTTP/1.1\" 304 0 \"http://0.0.0.0:8080/home\" \"Mozilla/5.0 (Macintosh; Intel Mac OS X 10_14_6) AppleWebKit/537.36 (KHTML, like Gecko) Chrome/88.0.4324.96 Safari/537.36\"\n",
      "127.0.0.1 - - [01/Feb/2021:18:00:41 -0500] \"GET /static/dist/d3.min.js HTTP/1.1\" 304 0 \"http://0.0.0.0:8080/home\" \"Mozilla/5.0 (Macintosh; Intel Mac OS X 10_14_6) AppleWebKit/537.36 (KHTML, like Gecko) Chrome/88.0.4324.96 Safari/537.36\"\n",
      "127.0.0.1 - - [01/Feb/2021:18:00:42 -0500] \"POST /blocked HTTP/1.1\" 200 2 \"http://0.0.0.0:8080/home\" \"Mozilla/5.0 (Macintosh; Intel Mac OS X 10_14_6) AppleWebKit/537.36 (KHTML, like Gecko) Chrome/88.0.4324.96 Safari/537.36\"\n"
     ]
    },
    {
     "name": "stdout",
     "output_type": "stream",
     "text": [
      "127.0.0.1 - - [01/Feb/2021:18:00:42 -0500] \"POST /last_dagruns HTTP/1.1\" 200 2 \"http://0.0.0.0:8080/home\" \"Mozilla/5.0 (Macintosh; Intel Mac OS X 10_14_6) AppleWebKit/537.36 (KHTML, like Gecko) Chrome/88.0.4324.96 Safari/537.36\"\n",
      "127.0.0.1 - - [01/Feb/2021:18:00:42 -0500] \"POST /dag_stats HTTP/1.1\" 200 6911 \"http://0.0.0.0:8080/home\" \"Mozilla/5.0 (Macintosh; Intel Mac OS X 10_14_6) AppleWebKit/537.36 (KHTML, like Gecko) Chrome/88.0.4324.96 Safari/537.36\"\n",
      "127.0.0.1 - - [01/Feb/2021:18:00:42 -0500] \"POST /task_stats HTTP/1.1\" 200 23213 \"http://0.0.0.0:8080/home\" \"Mozilla/5.0 (Macintosh; Intel Mac OS X 10_14_6) AppleWebKit/537.36 (KHTML, like Gecko) Chrome/88.0.4324.96 Safari/537.36\"\n",
      "127.0.0.1 - - [01/Feb/2021:18:00:42 -0500] \"GET /static/pin_32.png HTTP/1.1\" 304 0 \"http://0.0.0.0:8080/home\" \"Mozilla/5.0 (Macintosh; Intel Mac OS X 10_14_6) AppleWebKit/537.36 (KHTML, like Gecko) Chrome/88.0.4324.96 Safari/537.36\"\n",
      "[2021-02-01 18:01:02 -0500] [11631] [INFO] Handling signal: ttin\n",
      "[2021-02-01 18:01:02 -0500] [11644] [INFO] Booting worker with pid: 11644\n",
      "^C\n",
      "[2021-02-01 18:01:02,414] {webserver_command.py:430} INFO - Received signal: 2. Closing gunicorn.\n",
      "[2021-02-01 18:01:02 -0500] [11631] [INFO] Handling signal: int\n",
      "[2021-02-01 18:01:02 -0500] [11635] [INFO] Worker exiting (pid: 11635)\n",
      "[2021-02-01 18:01:02 -0500] [11637] [INFO] Worker exiting (pid: 11637)\n",
      "[2021-02-01 18:01:02 -0500] [11636] [INFO] Worker exiting (pid: 11636)\n",
      "[2021-02-01 18:01:02 -0500] [11634] [INFO] Worker exiting (pid: 11634)\n",
      "[2021-02-01 18:01:02 -0500] [11644] [INFO] Worker exiting (pid: 11644)\n",
      "  ____________       _____________\n",
      " ____    |__( )_________  __/__  /________      __\n",
      "____  /| |_  /__  ___/_  /_ __  /_  __ \\_ | /| / /\n",
      "___  ___ |  / _  /   _  __/ _  / / /_/ /_ |/ |/ /\n",
      " _/_/  |_/_/  /_/    /_/    /_/  \\____/____/|__/\n",
      "[2021-02-01 18:01:03,473] {scheduler_job.py:1241} INFO - Starting the scheduler\n",
      "[2021-02-01 18:01:03,474] {scheduler_job.py:1246} INFO - Processing each file at most -1 times\n",
      "[2021-02-01 18:01:03,477] {dag_processing.py:250} INFO - Launched DagFileProcessorManager with pid: 11648\n",
      "[2021-02-01 18:01:03,478] {scheduler_job.py:1751} INFO - Resetting orphaned tasks for active dag runs\n",
      "[2021-02-01 18:01:03,484] {scheduler_job.py:1764} INFO - Marked 1 SchedulerJob instances as failed\n",
      "[2021-02-01 18:01:03,483] {settings.py:52} INFO - Configured default timezone Timezone('UTC')\n",
      "[2021-02-01 18:01:03,495] {dag_processing.py:518} WARNING - Because we cannot use more than 1 thread (parsing_processes = 2 ) when using sqlite. So we set parallelism to 1.\n"
     ]
    }
   ],
   "source": [
    "!airflow webserver"
   ]
  },
  {
   "cell_type": "code",
   "execution_count": null,
   "metadata": {},
   "outputs": [],
   "source": []
  },
  {
   "cell_type": "code",
   "execution_count": null,
   "metadata": {},
   "outputs": [],
   "source": []
  }
 ],
 "metadata": {
  "kernelspec": {
   "display_name": "Python 3",
   "language": "python",
   "name": "python3"
  },
  "language_info": {
   "codemirror_mode": {
    "name": "ipython",
    "version": 3
   },
   "file_extension": ".py",
   "mimetype": "text/x-python",
   "name": "python",
   "nbconvert_exporter": "python",
   "pygments_lexer": "ipython3",
   "version": "3.7.1"
  }
 },
 "nbformat": 4,
 "nbformat_minor": 2
}
